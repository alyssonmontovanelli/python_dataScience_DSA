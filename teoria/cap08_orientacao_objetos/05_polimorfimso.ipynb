{
 "cells": [
  {
   "cell_type": "code",
   "execution_count": null,
   "id": "959fe146",
   "metadata": {},
   "outputs": [],
   "source": []
  },
  {
   "cell_type": "code",
   "execution_count": 3,
   "id": "56b5ea00",
   "metadata": {},
   "outputs": [],
   "source": [
    "class Veiculo(): #Super-classe\n",
    "    def __init__(self, marca, modelo, ano):\n",
    "        self.marca = marca\n",
    "        self.modelo = modelo\n",
    "        self.ano = ano\n",
    "        \n",
    "    def acelerar(self):\n",
    "        pass\n",
    "    def frear(self):\n",
    "        pass     "
   ]
  },
  {
   "cell_type": "code",
   "execution_count": 4,
   "id": "670cea8d",
   "metadata": {},
   "outputs": [],
   "source": [
    "class Carro(Veiculo):\n",
    "    \n",
    "    def acelerar(self):\n",
    "        print(\"O carro está acelerando\")\n",
    "        \n",
    "    def frear(self):\n",
    "        print(\"o carro está freando\")"
   ]
  },
  {
   "cell_type": "code",
   "execution_count": 5,
   "id": "4e7d0058",
   "metadata": {},
   "outputs": [],
   "source": [
    "class Moto(Veiculo):\n",
    "    \n",
    "    def acelerar(self):\n",
    "        print(\"A moto está acelerando\")\n",
    "        \n",
    "    def frear(self):\n",
    "        print(\"A moto está freando\")"
   ]
  },
  {
   "cell_type": "code",
   "execution_count": 10,
   "id": "ffb5ca01",
   "metadata": {},
   "outputs": [],
   "source": [
    "class Aviao(Veiculo):\n",
    "    \n",
    "    def acelerar(self):\n",
    "        print(\"O avião está acelerando\")\n",
    "        \n",
    "    def frear(self):\n",
    "        print(\"O avião está freando\")\n",
    "        \n",
    "    def decolar(self):\n",
    "        print(\"O aivião está decolando\")"
   ]
  },
  {
   "cell_type": "code",
   "execution_count": 11,
   "id": "a394ce12",
   "metadata": {},
   "outputs": [],
   "source": [
    "mustang = Carro(\"Ford\", \"Mustang\", 2010)"
   ]
  },
  {
   "cell_type": "code",
   "execution_count": 12,
   "id": "3d38ae8e",
   "metadata": {},
   "outputs": [],
   "source": [
    "xre = Moto(\"Honda\",\"XRE\",2010)"
   ]
  },
  {
   "cell_type": "code",
   "execution_count": 13,
   "id": "bba13cf7",
   "metadata": {},
   "outputs": [],
   "source": [
    "aviao = Aviao(\"Avianca\",\"XTRE 1500\", 2019)"
   ]
  },
  {
   "cell_type": "code",
   "execution_count": 14,
   "id": "572cbca2",
   "metadata": {},
   "outputs": [],
   "source": [
    "listaVeiculos = [mustang, xre, aviao]"
   ]
  },
  {
   "cell_type": "code",
   "execution_count": 16,
   "id": "6316c479",
   "metadata": {},
   "outputs": [
    {
     "data": {
      "text/plain": [
       "list"
      ]
     },
     "execution_count": 16,
     "metadata": {},
     "output_type": "execute_result"
    }
   ],
   "source": [
    "type(listaVeiculos)"
   ]
  },
  {
   "cell_type": "code",
   "execution_count": 19,
   "id": "b84ffe14",
   "metadata": {},
   "outputs": [
    {
     "name": "stdout",
     "output_type": "stream",
     "text": [
      "O carro está acelerando\n",
      "o carro está freando\n",
      "\n",
      "\t------\n",
      "\n",
      "A moto está acelerando\n",
      "A moto está freando\n",
      "\n",
      "\t------\n",
      "\n",
      "O avião está acelerando\n",
      "O avião está freando\n",
      "O aivião está decolando\n",
      "\n",
      "\t------\n",
      "\n"
     ]
    }
   ],
   "source": [
    "for item in listaVeiculos:\n",
    "    \n",
    "    item.acelerar()\n",
    "    \n",
    "    item.frear()\n",
    "    \n",
    "    # Executando o método decolar somente se o objeto for instância da classe Aviao\n",
    "    if isinstance(item, Aviao):\n",
    "        item.decolar()\n",
    "    \n",
    "    print(\"\\n\\t------\\n\")"
   ]
  },
  {
   "cell_type": "code",
   "execution_count": null,
   "id": "dd4bde0c",
   "metadata": {},
   "outputs": [],
   "source": []
  },
  {
   "cell_type": "code",
   "execution_count": null,
   "id": "f848d84d",
   "metadata": {},
   "outputs": [],
   "source": []
  },
  {
   "cell_type": "code",
   "execution_count": null,
   "id": "ad3ae381",
   "metadata": {},
   "outputs": [],
   "source": []
  }
 ],
 "metadata": {
  "kernelspec": {
   "display_name": "Python 3 (ipykernel)",
   "language": "python",
   "name": "python3"
  },
  "language_info": {
   "codemirror_mode": {
    "name": "ipython",
    "version": 3
   },
   "file_extension": ".py",
   "mimetype": "text/x-python",
   "name": "python",
   "nbconvert_exporter": "python",
   "pygments_lexer": "ipython3",
   "version": "3.9.13"
  }
 },
 "nbformat": 4,
 "nbformat_minor": 5
}
