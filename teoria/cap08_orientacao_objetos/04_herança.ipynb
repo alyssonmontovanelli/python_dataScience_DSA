{
 "cells": [
  {
   "cell_type": "markdown",
   "id": "a7c0a162",
   "metadata": {},
   "source": [
    "# Trabalhando com heranças de Classes em Python"
   ]
  },
  {
   "cell_type": "code",
   "execution_count": 9,
   "id": "fe95ae25",
   "metadata": {},
   "outputs": [],
   "source": [
    "class Animal():\n",
    "    \n",
    "    def __init__(self):\n",
    "        print(\"Animal criado.\")\n",
    "        \n",
    "    def imprimir(self):\n",
    "        print(\"Este é um animal.\")\n",
    "    \n",
    "    def comer(self):\n",
    "        print(\"Hora de comer\")\n",
    "        \n",
    "    def emitir_som(self):\n",
    "        pass"
   ]
  },
  {
   "cell_type": "code",
   "execution_count": 10,
   "id": "5e807b68",
   "metadata": {},
   "outputs": [],
   "source": [
    "# Criando a classe Cachorro - animal\n",
    "\n",
    "class Cachorro(Animal): #sub-classe\n",
    "    \n",
    "    def __init__(self):\n",
    "        Animal.__init__(self)\n",
    "        print(\"Objeto cachorro criado\")\n",
    "        \n",
    "    def emitir_som(self):\n",
    "        print(\"Au Au\")"
   ]
  },
  {
   "cell_type": "code",
   "execution_count": 11,
   "id": "4c246b54",
   "metadata": {},
   "outputs": [],
   "source": [
    "class Galinha(Animal):\n",
    "    \n",
    "    def __init__(self):\n",
    "        Animal.__init__(self)\n",
    "        print(\"Objeto Galinha criado\")\n",
    "        \n",
    "    def emitir_som(self):\n",
    "        print(\"COCORICÓ\")"
   ]
  },
  {
   "cell_type": "code",
   "execution_count": 16,
   "id": "b88b4930",
   "metadata": {},
   "outputs": [
    {
     "name": "stdout",
     "output_type": "stream",
     "text": [
      "Animal criado.\n",
      "Objeto cachorro criado\n"
     ]
    }
   ],
   "source": [
    "pitBull = Cachorro()"
   ]
  },
  {
   "cell_type": "code",
   "execution_count": 17,
   "id": "7992fb7f",
   "metadata": {},
   "outputs": [
    {
     "name": "stdout",
     "output_type": "stream",
     "text": [
      "Animal criado.\n",
      "Objeto Galinha criado\n"
     ]
    }
   ],
   "source": [
    "galinhaPintadinha = Galinha()"
   ]
  },
  {
   "cell_type": "code",
   "execution_count": 18,
   "id": "f6a7a44b",
   "metadata": {},
   "outputs": [
    {
     "name": "stdout",
     "output_type": "stream",
     "text": [
      "Hora de comer\n"
     ]
    }
   ],
   "source": [
    "galinhaPintadinha.comer()"
   ]
  },
  {
   "cell_type": "code",
   "execution_count": 19,
   "id": "7f0f3513",
   "metadata": {},
   "outputs": [
    {
     "name": "stdout",
     "output_type": "stream",
     "text": [
      "COCORICÓ\n"
     ]
    }
   ],
   "source": [
    "galinhaPintadinha.emitir_som()"
   ]
  },
  {
   "cell_type": "code",
   "execution_count": 20,
   "id": "a3517022",
   "metadata": {},
   "outputs": [
    {
     "name": "stdout",
     "output_type": "stream",
     "text": [
      "Este é um animal.\n"
     ]
    }
   ],
   "source": [
    "pitBull.imprimir()"
   ]
  },
  {
   "cell_type": "code",
   "execution_count": 21,
   "id": "7fbcb343",
   "metadata": {},
   "outputs": [
    {
     "name": "stdout",
     "output_type": "stream",
     "text": [
      "Au Au\n"
     ]
    }
   ],
   "source": [
    "pitBull.emitir_som()"
   ]
  },
  {
   "cell_type": "code",
   "execution_count": null,
   "id": "32e2caf3",
   "metadata": {},
   "outputs": [],
   "source": []
  }
 ],
 "metadata": {
  "kernelspec": {
   "display_name": "Python 3 (ipykernel)",
   "language": "python",
   "name": "python3"
  },
  "language_info": {
   "codemirror_mode": {
    "name": "ipython",
    "version": 3
   },
   "file_extension": ".py",
   "mimetype": "text/x-python",
   "name": "python",
   "nbconvert_exporter": "python",
   "pygments_lexer": "ipython3",
   "version": "3.9.13"
  }
 },
 "nbformat": 4,
 "nbformat_minor": 5
}
