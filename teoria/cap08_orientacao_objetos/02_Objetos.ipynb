{
 "cells": [
  {
   "cell_type": "markdown",
   "id": "82c0c462",
   "metadata": {},
   "source": [
    "## Em Python, tudo é objeto"
   ]
  },
  {
   "cell_type": "code",
   "execution_count": 3,
   "id": "185bb88d",
   "metadata": {},
   "outputs": [],
   "source": [
    "# Instanciando Objeto lista do tipo lista"
   ]
  },
  {
   "cell_type": "code",
   "execution_count": 4,
   "id": "46919dec",
   "metadata": {},
   "outputs": [],
   "source": [
    "listaNum = [\"Data\",\"Science\",\"Academy\",\"Nota\",10,25]"
   ]
  },
  {
   "cell_type": "code",
   "execution_count": 5,
   "id": "67a3f86e",
   "metadata": {},
   "outputs": [
    {
     "data": {
      "text/plain": [
       "list"
      ]
     },
     "execution_count": 5,
     "metadata": {},
     "output_type": "execute_result"
    }
   ],
   "source": [
    "type(listaNum)"
   ]
  },
  {
   "cell_type": "code",
   "execution_count": 6,
   "id": "73859e28",
   "metadata": {},
   "outputs": [
    {
     "name": "stdout",
     "output_type": "stream",
     "text": [
      "<class 'list'>\n"
     ]
    }
   ],
   "source": [
    "print(type([]))"
   ]
  },
  {
   "cell_type": "code",
   "execution_count": 8,
   "id": "1d4ad72d",
   "metadata": {},
   "outputs": [
    {
     "data": {
      "text/plain": [
       "1"
      ]
     },
     "execution_count": 8,
     "metadata": {},
     "output_type": "execute_result"
    }
   ],
   "source": [
    "listaNum.count(10)"
   ]
  },
  {
   "cell_type": "code",
   "execution_count": 11,
   "id": "3648d86d",
   "metadata": {},
   "outputs": [
    {
     "name": "stdout",
     "output_type": "stream",
     "text": [
      "<class 'list'>\n",
      "<class 'tuple'>\n",
      "<class 'dict'>\n",
      "<class 'str'>\n",
      "<class 'int'>\n"
     ]
    }
   ],
   "source": [
    "# Usando Type para verificar o tipo do objeto\n",
    "\n",
    "print(type([]))\n",
    "print(type(()))\n",
    "print(type({}))\n",
    "print(type('a'))\n",
    "print(type(10))"
   ]
  },
  {
   "cell_type": "code",
   "execution_count": 13,
   "id": "e97e3a4c",
   "metadata": {},
   "outputs": [],
   "source": [
    "# Criando um novo tipo de objeto chamado \"carro\"\n",
    "\n",
    "class Carro(object):\n",
    "    pass"
   ]
  },
  {
   "cell_type": "code",
   "execution_count": 15,
   "id": "3f8e7b2e",
   "metadata": {},
   "outputs": [
    {
     "name": "stdout",
     "output_type": "stream",
     "text": [
      "<class '__main__.Carro'>\n"
     ]
    }
   ],
   "source": [
    "Ferrari = Carro()\n",
    "print(type(Ferrari))"
   ]
  },
  {
   "cell_type": "code",
   "execution_count": 59,
   "id": "9791c235",
   "metadata": {},
   "outputs": [],
   "source": [
    "# Criando a classe estudante\n",
    "\n",
    "class Estudante:\n",
    "    def __init__(self, nome, idade, nota):\n",
    "        self.nome = nome\n",
    "        self.idade = idade\n",
    "        self.nota = nota\n",
    "    def imprime(self, nome, idade, nota):\n",
    "        return {\n",
    "            \"Nome\": self.nome,\n",
    "            \"Idade\": self.idade,\n",
    "            \"Nota\": self.nota\n",
    "        }"
   ]
  },
  {
   "cell_type": "code",
   "execution_count": 60,
   "id": "55850f5d",
   "metadata": {},
   "outputs": [],
   "source": [
    "# Instanciando o objeto Estudante1 do tipo Estudante\n",
    "\n",
    "Estudante1 = Estudante(\"Alysson\", 26, 8)"
   ]
  },
  {
   "cell_type": "code",
   "execution_count": 61,
   "id": "94e055c6",
   "metadata": {},
   "outputs": [
    {
     "data": {
      "text/plain": [
       "{'Nome': 'Alysson', 'Idade': 26, 'Nota': 8}"
      ]
     },
     "execution_count": 61,
     "metadata": {},
     "output_type": "execute_result"
    }
   ],
   "source": [
    "Estudante1.imprime(\"Alysson\", 26, 8)"
   ]
  },
  {
   "cell_type": "markdown",
   "id": "48390a36",
   "metadata": {},
   "source": [
    "#### Criando nova Classe - Funcionarios"
   ]
  },
  {
   "cell_type": "code",
   "execution_count": 50,
   "id": "f16320b2",
   "metadata": {},
   "outputs": [],
   "source": [
    "class Funcionarios:\n",
    "    def __init__(self, nome, salario, cargo):\n",
    "        self.nome = nome\n",
    "        self.salario = salario\n",
    "        self.cargo = cargo\n",
    "    def ListFunc(self):\n",
    "        return f\"Funcionário(a) {self.nome} tem salário de R$ {self.salario}, ocupando o cargo de {self.cargo}\""
   ]
  },
  {
   "cell_type": "code",
   "execution_count": 51,
   "id": "f984a39d",
   "metadata": {},
   "outputs": [],
   "source": [
    "Func1 = Funcionarios(\"Alysson\", 7950.69, \"1º Tenente\")"
   ]
  },
  {
   "cell_type": "code",
   "execution_count": 52,
   "id": "0cae70b9",
   "metadata": {},
   "outputs": [
    {
     "data": {
      "text/plain": [
       "'Funcionário(a) Alysson tem salário de R$ 7950.69, ocupando o cargo de 1º Tenente'"
      ]
     },
     "execution_count": 52,
     "metadata": {},
     "output_type": "execute_result"
    }
   ],
   "source": [
    "Func1.ListFunc()"
   ]
  },
  {
   "cell_type": "code",
   "execution_count": 63,
   "id": "ff14bae7",
   "metadata": {},
   "outputs": [
    {
     "data": {
      "text/plain": [
       "'1º Tenente'"
      ]
     },
     "execution_count": 63,
     "metadata": {},
     "output_type": "execute_result"
    }
   ],
   "source": [
    "# Usando o método da classe\n",
    "\n",
    "Func1.cargo"
   ]
  },
  {
   "cell_type": "markdown",
   "id": "a5ee13c7",
   "metadata": {},
   "source": [
    "#### Verificando se tem atributo no objeto"
   ]
  },
  {
   "cell_type": "code",
   "execution_count": 64,
   "id": "633c4aa7",
   "metadata": {},
   "outputs": [
    {
     "data": {
      "text/plain": [
       "True"
      ]
     },
     "execution_count": 64,
     "metadata": {},
     "output_type": "execute_result"
    }
   ],
   "source": [
    "hasattr(Func1, \"nome\")"
   ]
  },
  {
   "cell_type": "code",
   "execution_count": 65,
   "id": "69940c59",
   "metadata": {},
   "outputs": [
    {
     "data": {
      "text/plain": [
       "True"
      ]
     },
     "execution_count": 65,
     "metadata": {},
     "output_type": "execute_result"
    }
   ],
   "source": [
    "hasattr(Func1, \"salario\")"
   ]
  },
  {
   "cell_type": "code",
   "execution_count": 66,
   "id": "c3186b9a",
   "metadata": {},
   "outputs": [
    {
     "data": {
      "text/plain": [
       "False"
      ]
     },
     "execution_count": 66,
     "metadata": {},
     "output_type": "execute_result"
    }
   ],
   "source": [
    "hasattr(Func1, \"sobrenome\")"
   ]
  },
  {
   "cell_type": "markdown",
   "id": "109c5be3",
   "metadata": {},
   "source": [
    "#### Atribuindo valor ao atriuto com \"SET\""
   ]
  },
  {
   "cell_type": "code",
   "execution_count": 67,
   "id": "607aab6b",
   "metadata": {},
   "outputs": [],
   "source": [
    "setattr(Func1, \"nome\", \"Alysson Montovanelli da Silva de Melo\")"
   ]
  },
  {
   "cell_type": "code",
   "execution_count": 68,
   "id": "694b3c55",
   "metadata": {},
   "outputs": [],
   "source": [
    "setattr(Func1, \"salario\", 10951.65)"
   ]
  },
  {
   "cell_type": "code",
   "execution_count": 69,
   "id": "51c69c38",
   "metadata": {},
   "outputs": [
    {
     "data": {
      "text/plain": [
       "'Alysson Montovanelli da Silva de Melo'"
      ]
     },
     "execution_count": 69,
     "metadata": {},
     "output_type": "execute_result"
    }
   ],
   "source": [
    "Func1.nome"
   ]
  },
  {
   "cell_type": "code",
   "execution_count": 70,
   "id": "0e1b03a4",
   "metadata": {},
   "outputs": [
    {
     "data": {
      "text/plain": [
       "10951.65"
      ]
     },
     "execution_count": 70,
     "metadata": {},
     "output_type": "execute_result"
    }
   ],
   "source": [
    "Func1.salario"
   ]
  },
  {
   "cell_type": "markdown",
   "id": "894f84ac",
   "metadata": {},
   "source": [
    "#### Pegando valores com \"GET\""
   ]
  },
  {
   "cell_type": "code",
   "execution_count": 71,
   "id": "015c17a1",
   "metadata": {},
   "outputs": [
    {
     "data": {
      "text/plain": [
       "'Alysson Montovanelli da Silva de Melo'"
      ]
     },
     "execution_count": 71,
     "metadata": {},
     "output_type": "execute_result"
    }
   ],
   "source": [
    "getattr(Func1, \"nome\")"
   ]
  },
  {
   "cell_type": "code",
   "execution_count": 72,
   "id": "37d4e027",
   "metadata": {},
   "outputs": [
    {
     "data": {
      "text/plain": [
       "10951.65"
      ]
     },
     "execution_count": 72,
     "metadata": {},
     "output_type": "execute_result"
    }
   ],
   "source": [
    "getattr(Func1, \"salario\")"
   ]
  },
  {
   "cell_type": "markdown",
   "id": "d84158a1",
   "metadata": {},
   "source": [
    "#### Deletando atributo"
   ]
  },
  {
   "cell_type": "code",
   "execution_count": 73,
   "id": "a963766d",
   "metadata": {},
   "outputs": [],
   "source": [
    "delattr(Func1, \"salario\")"
   ]
  },
  {
   "cell_type": "code",
   "execution_count": 75,
   "id": "32a988cb",
   "metadata": {},
   "outputs": [
    {
     "data": {
      "text/plain": [
       "False"
      ]
     },
     "execution_count": 75,
     "metadata": {},
     "output_type": "execute_result"
    }
   ],
   "source": [
    "hasattr(Func1, \"salario\") # Atributo excluído"
   ]
  },
  {
   "cell_type": "code",
   "execution_count": null,
   "id": "8643030c",
   "metadata": {},
   "outputs": [],
   "source": []
  }
 ],
 "metadata": {
  "kernelspec": {
   "display_name": "Python 3 (ipykernel)",
   "language": "python",
   "name": "python3"
  },
  "language_info": {
   "codemirror_mode": {
    "name": "ipython",
    "version": 3
   },
   "file_extension": ".py",
   "mimetype": "text/x-python",
   "name": "python",
   "nbconvert_exporter": "python",
   "pygments_lexer": "ipython3",
   "version": "3.9.13"
  }
 },
 "nbformat": 4,
 "nbformat_minor": 5
}
