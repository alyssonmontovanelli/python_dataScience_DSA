{
 "cells": [
  {
   "cell_type": "markdown",
   "id": "0363d3c9",
   "metadata": {},
   "source": [
    "## Métodos são funções dentro dos objetos, que vão ditar o comportamento do objeto\n",
    "\n",
    "#### Método __init__ é usado para iniciar os atributos do objeto"
   ]
  },
  {
   "cell_type": "code",
   "execution_count": 17,
   "id": "72620b14",
   "metadata": {},
   "outputs": [],
   "source": [
    "class Circulo():\n",
    "    \n",
    "    pi = 3.14\n",
    "    \n",
    "    def __init__(self, raio = 5):\n",
    "        self.raio = raio\n",
    "        \n",
    "    def area(self):\n",
    "        return (self.raio * self.raio)  * Circulo.pi \n",
    "    #Método para gerar um novo raio\n",
    "    def setRaio(self, novo_raio):\n",
    "        self.raio = novo_raio\n",
    "    \n",
    "    #Método para obter o raio do círculo\n",
    "    def getRaio(self):\n",
    "        return self.raio"
   ]
  },
  {
   "cell_type": "code",
   "execution_count": 18,
   "id": "c80776a2",
   "metadata": {},
   "outputs": [
    {
     "name": "stdout",
     "output_type": "stream",
     "text": [
      "<class '__main__.Circulo'>\n"
     ]
    }
   ],
   "source": [
    "# Criando o objeto circ, instância da classe Circulo()\n",
    "\n",
    "circ = Circulo()\n",
    "print(type(circ))"
   ]
  },
  {
   "cell_type": "code",
   "execution_count": 19,
   "id": "686477bc",
   "metadata": {},
   "outputs": [],
   "source": [
    "circ.setRaio(3)"
   ]
  },
  {
   "cell_type": "code",
   "execution_count": 20,
   "id": "2de6fb9f",
   "metadata": {},
   "outputs": [
    {
     "data": {
      "text/plain": [
       "3"
      ]
     },
     "execution_count": 20,
     "metadata": {},
     "output_type": "execute_result"
    }
   ],
   "source": [
    "circ.getRaio()"
   ]
  },
  {
   "cell_type": "code",
   "execution_count": 21,
   "id": "40b66f2d",
   "metadata": {},
   "outputs": [
    {
     "data": {
      "text/plain": [
       "28.26"
      ]
     },
     "execution_count": 21,
     "metadata": {},
     "output_type": "execute_result"
    }
   ],
   "source": [
    "circ.area()"
   ]
  },
  {
   "cell_type": "code",
   "execution_count": 22,
   "id": "12a2a53c",
   "metadata": {},
   "outputs": [],
   "source": [
    "# Instânciando outro objeto\n",
    "circ1 = Circulo(10)"
   ]
  },
  {
   "cell_type": "code",
   "execution_count": 23,
   "id": "40a82a3d",
   "metadata": {},
   "outputs": [
    {
     "data": {
      "text/plain": [
       "10"
      ]
     },
     "execution_count": 23,
     "metadata": {},
     "output_type": "execute_result"
    }
   ],
   "source": [
    "circ1.getRaio()"
   ]
  },
  {
   "cell_type": "code",
   "execution_count": 24,
   "id": "0ac249cf",
   "metadata": {},
   "outputs": [
    {
     "data": {
      "text/plain": [
       "314.0"
      ]
     },
     "execution_count": 24,
     "metadata": {},
     "output_type": "execute_result"
    }
   ],
   "source": [
    "circ1.area()"
   ]
  },
  {
   "cell_type": "code",
   "execution_count": 25,
   "id": "18611ef1",
   "metadata": {},
   "outputs": [],
   "source": [
    "circ1.setRaio(15)"
   ]
  },
  {
   "cell_type": "code",
   "execution_count": 26,
   "id": "b5971b59",
   "metadata": {},
   "outputs": [
    {
     "data": {
      "text/plain": [
       "706.5"
      ]
     },
     "execution_count": 26,
     "metadata": {},
     "output_type": "execute_result"
    }
   ],
   "source": [
    "circ1.area()"
   ]
  },
  {
   "cell_type": "code",
   "execution_count": null,
   "id": "acfb2c26",
   "metadata": {},
   "outputs": [],
   "source": []
  }
 ],
 "metadata": {
  "kernelspec": {
   "display_name": "Python 3 (ipykernel)",
   "language": "python",
   "name": "python3"
  },
  "language_info": {
   "codemirror_mode": {
    "name": "ipython",
    "version": 3
   },
   "file_extension": ".py",
   "mimetype": "text/x-python",
   "name": "python",
   "nbconvert_exporter": "python",
   "pygments_lexer": "ipython3",
   "version": "3.9.13"
  }
 },
 "nbformat": 4,
 "nbformat_minor": 5
}
