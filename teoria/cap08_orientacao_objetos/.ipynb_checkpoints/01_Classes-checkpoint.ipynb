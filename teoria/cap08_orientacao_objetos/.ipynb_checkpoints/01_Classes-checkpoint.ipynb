{
 "cells": [
  {
   "cell_type": "markdown",
   "id": "bc4b76fc",
   "metadata": {},
   "source": [
    "# Criando uma classe chamada \"livro\""
   ]
  },
  {
   "cell_type": "code",
   "execution_count": 1,
   "id": "465e30c1",
   "metadata": {},
   "outputs": [],
   "source": [
    "class Livro():\n",
    "    \n",
    "    # Criando os métodos da classe(funções que terá)\n",
    "    # Self é referencia a cada atributo da própria classe\n",
    "    def __init__(self):\n",
    "        \n",
    "        #Atributos são propriedades\n",
    "        self.titulo = 'Sapiens - Uma breve história da humanidade'\n",
    "        self.isbn = 123456\n",
    "        print(\"Construtor chamado para criar um objeto desta classe.\")\n",
    "        \n",
    "    def imprime(self):\n",
    "        print(f\"Foi criado o livro {self.titulo} e com ISBN {self.isbn}\")\n",
    "    "
   ]
  },
  {
   "cell_type": "code",
   "execution_count": 2,
   "id": "bb9a24c4",
   "metadata": {},
   "outputs": [
    {
     "name": "stdout",
     "output_type": "stream",
     "text": [
      "Construtor cmaado para criar um objeto desta classe.\n"
     ]
    }
   ],
   "source": [
    "# Criando uma instância da classe Livro\n",
    "Livro1 = Livro()"
   ]
  },
  {
   "cell_type": "code",
   "execution_count": null,
   "id": "6e98f792",
   "metadata": {},
   "outputs": [],
   "source": []
  }
 ],
 "metadata": {
  "kernelspec": {
   "display_name": "Python 3 (ipykernel)",
   "language": "python",
   "name": "python3"
  },
  "language_info": {
   "codemirror_mode": {
    "name": "ipython",
    "version": 3
   },
   "file_extension": ".py",
   "mimetype": "text/x-python",
   "name": "python",
   "nbconvert_exporter": "python",
   "pygments_lexer": "ipython3",
   "version": "3.9.13"
  }
 },
 "nbformat": 4,
 "nbformat_minor": 5
}
