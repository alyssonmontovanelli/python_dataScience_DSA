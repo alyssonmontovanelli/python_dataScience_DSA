{
 "cells": [
  {
   "cell_type": "markdown",
   "id": "dbfa185e",
   "metadata": {},
   "source": [
    "# Criando uma classe chamada \"livro\""
   ]
  },
  {
   "cell_type": "code",
   "execution_count": 9,
   "id": "7796967f",
   "metadata": {},
   "outputs": [],
   "source": [
    "class Livro():\n",
    "    \n",
    "    # Method '__init__' vai inicialiazar cada objeto criado a partir desta classe\n",
    "    # Criando os métodos da classe(funções que terá)\n",
    "    # Self é referencia a cada atributo da própria classe\n",
    "    def __init__(self):\n",
    "        \n",
    "        #Atributos são propriedades\n",
    "        self.titulo = 'Sapiens - Uma breve história da humanidade'\n",
    "        self.isbn = 123456\n",
    "        print(\"Construtor chamado para criar um objeto desta classe.\")\n",
    "        \n",
    "    def imprime(self):\n",
    "        print(f\"Foi criado o livro {self.titulo} e com ISBN {self.isbn}\")\n",
    "    "
   ]
  },
  {
   "cell_type": "code",
   "execution_count": 10,
   "id": "e6491c4c",
   "metadata": {},
   "outputs": [
    {
     "name": "stdout",
     "output_type": "stream",
     "text": [
      "Construtor chamado para criar um objeto desta classe.\n"
     ]
    }
   ],
   "source": [
    "# Criando uma instância da classe Livro\n",
    "Livro1 = Livro()"
   ]
  },
  {
   "cell_type": "code",
   "execution_count": 11,
   "id": "feca0f34",
   "metadata": {},
   "outputs": [
    {
     "data": {
      "text/plain": [
       "__main__.Livro"
      ]
     },
     "execution_count": 11,
     "metadata": {},
     "output_type": "execute_result"
    }
   ],
   "source": [
    "# Verificando tipo de Livro1\n",
    "type(Livro1)"
   ]
  },
  {
   "cell_type": "code",
   "execution_count": 12,
   "id": "c9d7565e",
   "metadata": {},
   "outputs": [
    {
     "name": "stdout",
     "output_type": "stream",
     "text": [
      "Foi criado o livro Sapiens - Uma breve história da humanidade e com ISBN 123456\n"
     ]
    }
   ],
   "source": [
    "Livro1.imprime()"
   ]
  },
  {
   "cell_type": "code",
   "execution_count": 13,
   "id": "ff162f68",
   "metadata": {},
   "outputs": [
    {
     "data": {
      "text/plain": [
       "'Sapiens - Uma breve história da humanidade'"
      ]
     },
     "execution_count": 13,
     "metadata": {},
     "output_type": "execute_result"
    }
   ],
   "source": [
    "Livro1.titulo"
   ]
  },
  {
   "cell_type": "code",
   "execution_count": 14,
   "id": "2ad44939",
   "metadata": {},
   "outputs": [
    {
     "data": {
      "text/plain": [
       "123456"
      ]
     },
     "execution_count": 14,
     "metadata": {},
     "output_type": "execute_result"
    }
   ],
   "source": [
    "Livro1.isbn"
   ]
  },
  {
   "cell_type": "markdown",
   "id": "cce591c2",
   "metadata": {},
   "source": [
    "# Criando Classe passando parametros"
   ]
  },
  {
   "cell_type": "code",
   "execution_count": 15,
   "id": "3c23f312",
   "metadata": {},
   "outputs": [],
   "source": [
    "class Livro():\n",
    "    \n",
    "    def __init__(self, titulo, isbn):\n",
    "        self.titulo = titulo\n",
    "        self.isbn = isbn\n",
    "        \n",
    "    def imprime(self, titulo, isbn):\n",
    "        print(f\"Este é o livro {titulo}, com ISBN {isbn}\")"
   ]
  },
  {
   "cell_type": "code",
   "execution_count": 17,
   "id": "accbd8f5",
   "metadata": {},
   "outputs": [],
   "source": [
    "Livro2 = Livro(\"Sociedade dos poetas mortos\", 2548976)"
   ]
  },
  {
   "cell_type": "code",
   "execution_count": 20,
   "id": "d44e48a1",
   "metadata": {},
   "outputs": [
    {
     "name": "stdout",
     "output_type": "stream",
     "text": [
      "Este é o livro Sociedade dos poetas mortos, com ISBN 2548976\n"
     ]
    }
   ],
   "source": [
    "Livro2.imprime(\"Sociedade dos poetas mortos\", 2548976)"
   ]
  },
  {
   "cell_type": "code",
   "execution_count": 21,
   "id": "b4fb66c4",
   "metadata": {},
   "outputs": [
    {
     "data": {
      "text/plain": [
       "'Sociedade dos poetas mortos'"
      ]
     },
     "execution_count": 21,
     "metadata": {},
     "output_type": "execute_result"
    }
   ],
   "source": [
    "Livro2.titulo"
   ]
  },
  {
   "cell_type": "code",
   "execution_count": 22,
   "id": "614e0c7b",
   "metadata": {},
   "outputs": [],
   "source": [
    "# Criando a classe time de futebo\n",
    "\n",
    "class Clube():\n",
    "    \n",
    "    def __init__(self,time):\n",
    "        self.time = time\n",
    "        print(f\"Inicializado o objeto da Classe e tipo 'Clube', com o time do {self.time}\")\n",
    "\n"
   ]
  },
  {
   "cell_type": "code",
   "execution_count": 23,
   "id": "6b340b72",
   "metadata": {},
   "outputs": [
    {
     "name": "stdout",
     "output_type": "stream",
     "text": [
      "Inicializado o objeto da Classe e tipo 'Clube', com o time do Botafogo\n"
     ]
    }
   ],
   "source": [
    "Clube1 = Clube('Botafogo')"
   ]
  },
  {
   "cell_type": "code",
   "execution_count": 25,
   "id": "a71478b0",
   "metadata": {},
   "outputs": [
    {
     "name": "stdout",
     "output_type": "stream",
     "text": [
      "Inicializado o objeto da Classe e tipo 'Clube', com o time do Botafogo\n"
     ]
    }
   ],
   "source": [
    "Clube2 = Clube(time = 'Botafogo')"
   ]
  },
  {
   "cell_type": "code",
   "execution_count": 26,
   "id": "f158ec47",
   "metadata": {},
   "outputs": [
    {
     "data": {
      "text/plain": [
       "'Botafogo'"
      ]
     },
     "execution_count": 26,
     "metadata": {},
     "output_type": "execute_result"
    }
   ],
   "source": [
    "Clube2.time"
   ]
  },
  {
   "cell_type": "code",
   "execution_count": null,
   "id": "87147f4d",
   "metadata": {},
   "outputs": [],
   "source": []
  }
 ],
 "metadata": {
  "kernelspec": {
   "display_name": "Python 3 (ipykernel)",
   "language": "python",
   "name": "python3"
  },
  "language_info": {
   "codemirror_mode": {
    "name": "ipython",
    "version": 3
   },
   "file_extension": ".py",
   "mimetype": "text/x-python",
   "name": "python",
   "nbconvert_exporter": "python",
   "pygments_lexer": "ipython3",
   "version": "3.9.13"
  }
 },
 "nbformat": 4,
 "nbformat_minor": 5
}
