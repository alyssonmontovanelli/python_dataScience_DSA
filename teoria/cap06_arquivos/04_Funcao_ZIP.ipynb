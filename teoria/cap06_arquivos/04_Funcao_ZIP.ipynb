{
 "cells": [
  {
   "cell_type": "markdown",
   "id": "fbd57e29",
   "metadata": {},
   "source": [
    "# ZIP\n",
    "\n",
    "#### Agrupa multiplas estruturas de dados iteráveis. A função zip() retorna um objeto zip, que pode ser convertido em outra estrutura de dados"
   ]
  },
  {
   "cell_type": "code",
   "execution_count": 8,
   "id": "3453929e",
   "metadata": {},
   "outputs": [],
   "source": [
    "# Criando listas \n",
    "\n",
    "a = [1,2,3,4,5,6]\n",
    "b = [6,5,4,3,2]\n",
    "c = [9,8,9,8,9,8]"
   ]
  },
  {
   "cell_type": "code",
   "execution_count": 11,
   "id": "ad9300d2",
   "metadata": {},
   "outputs": [
    {
     "data": {
      "text/plain": [
       "<zip at 0x2b900fa48c0>"
      ]
     },
     "execution_count": 11,
     "metadata": {},
     "output_type": "execute_result"
    }
   ],
   "source": [
    "zip(a,b,c)"
   ]
  },
  {
   "cell_type": "code",
   "execution_count": 13,
   "id": "c04749b2",
   "metadata": {},
   "outputs": [
    {
     "data": {
      "text/plain": [
       "[(1, 6, 9), (2, 5, 8), (3, 4, 9), (4, 3, 8), (5, 2, 9)]"
      ]
     },
     "execution_count": 13,
     "metadata": {},
     "output_type": "execute_result"
    }
   ],
   "source": [
    "list(zip(a,b,c))"
   ]
  },
  {
   "cell_type": "code",
   "execution_count": 14,
   "id": "ab31e377",
   "metadata": {},
   "outputs": [
    {
     "data": {
      "text/plain": [
       "[('A', 'Z'), ('B', 'K')]"
      ]
     },
     "execution_count": 14,
     "metadata": {},
     "output_type": "execute_result"
    }
   ],
   "source": [
    "# Com numeros diferentes de elementos\n",
    "\n",
    "list(zip('ABCD','ZK'))\n"
   ]
  },
  {
   "cell_type": "code",
   "execution_count": 15,
   "id": "b21241f2",
   "metadata": {},
   "outputs": [
    {
     "data": {
      "text/plain": [
       "[('Nome', 'Idade'), ('Sobrenome', 'Sexo')]"
      ]
     },
     "execution_count": 15,
     "metadata": {},
     "output_type": "execute_result"
    }
   ],
   "source": [
    "# Lista com DICIONARIOS\n",
    "\n",
    "a = {'Nome':'Osvaldo', 'Sobrenome':'Piranha'}\n",
    "b = {'Idade': 26, 'Sexo': 'Masculino'}\n",
    "\n",
    "list(zip(a,b))"
   ]
  },
  {
   "cell_type": "code",
   "execution_count": 16,
   "id": "d7a72ba1",
   "metadata": {},
   "outputs": [
    {
     "data": {
      "text/plain": [
       "[('Nome', 26), ('Sobrenome', 'Masculino')]"
      ]
     },
     "execution_count": 16,
     "metadata": {},
     "output_type": "execute_result"
    }
   ],
   "source": [
    "list(zip(a,b.values()))"
   ]
  },
  {
   "cell_type": "markdown",
   "id": "7689d095",
   "metadata": {},
   "source": [
    "### Criando função para trocar valores entre dict"
   ]
  },
  {
   "cell_type": "code",
   "execution_count": 19,
   "id": "d86fe4ff",
   "metadata": {},
   "outputs": [
    {
     "data": {
      "text/plain": [
       "{'Nome': 26, 'Sobrenome': 'Masculino'}"
      ]
     },
     "execution_count": 19,
     "metadata": {},
     "output_type": "execute_result"
    }
   ],
   "source": [
    "def trocaValores(d1,d2):\n",
    "    \n",
    "    dictTemp = {}\n",
    "    \n",
    "    for d1Key, d2Val in zip(d1,d2.values()):\n",
    "        dictTemp[d1Key] = d2Val\n",
    "        \n",
    "    return dictTemp\n",
    "    \n",
    "    \n",
    "trocaValores(a,b)"
   ]
  },
  {
   "cell_type": "code",
   "execution_count": null,
   "id": "4c1f6820",
   "metadata": {},
   "outputs": [],
   "source": []
  },
  {
   "cell_type": "code",
   "execution_count": null,
   "id": "a8d72132",
   "metadata": {},
   "outputs": [],
   "source": []
  },
  {
   "cell_type": "code",
   "execution_count": null,
   "id": "a75b732a",
   "metadata": {},
   "outputs": [],
   "source": []
  },
  {
   "cell_type": "code",
   "execution_count": 20,
   "id": "1ebee350",
   "metadata": {},
   "outputs": [
    {
     "name": "stdout",
     "output_type": "stream",
     "text": [
      "Informe qualquer número: a\n",
      "Por favor, informe um número\n",
      "Processoamento finalizado\n",
      "Informe qualquer número: 25\n",
      "Obrigado por digitar um número\n",
      "Processoamento finalizado\n"
     ]
    }
   ],
   "source": [
    "def digitaNumero():\n",
    "    while True:\n",
    "        try:\n",
    "            valor = int(input(\"Informe qualquer número: \"))\n",
    "        except:\n",
    "            print(\"Por favor, informe um número\")\n",
    "            continue\n",
    "        else:\n",
    "            print(\"Obrigado por digitar um número\")\n",
    "            break\n",
    "        finally:\n",
    "            print(\"Processoamento finalizado\") \n",
    "\n",
    "digitaNumero()\n",
    "        "
   ]
  },
  {
   "cell_type": "code",
   "execution_count": null,
   "id": "8aebdcb7",
   "metadata": {},
   "outputs": [],
   "source": []
  }
 ],
 "metadata": {
  "kernelspec": {
   "display_name": "Python 3 (ipykernel)",
   "language": "python",
   "name": "python3"
  },
  "language_info": {
   "codemirror_mode": {
    "name": "ipython",
    "version": 3
   },
   "file_extension": ".py",
   "mimetype": "text/x-python",
   "name": "python",
   "nbconvert_exporter": "python",
   "pygments_lexer": "ipython3",
   "version": "3.9.13"
  }
 },
 "nbformat": 4,
 "nbformat_minor": 5
}
