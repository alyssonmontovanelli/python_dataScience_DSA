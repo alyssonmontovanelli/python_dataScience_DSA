{
 "cells": [
  {
   "cell_type": "markdown",
   "id": "62bdc1af",
   "metadata": {},
   "source": [
    "# Extraindo arquivo JSON copiado da web"
   ]
  },
  {
   "cell_type": "code",
   "execution_count": 5,
   "id": "7cf76c14",
   "metadata": {},
   "outputs": [],
   "source": [
    "import json"
   ]
  },
  {
   "cell_type": "code",
   "execution_count": 21,
   "id": "4524204f",
   "metadata": {},
   "outputs": [],
   "source": [
    "from urllib.request import urlopen\n",
    "\n",
    "response = urlopen(\"https://vimeo.com/api/v2/video/57733101.json\").read().decode('utf8')\n",
    "dados = json.loads(response)[0]"
   ]
  },
  {
   "cell_type": "code",
   "execution_count": 22,
   "id": "f890955e",
   "metadata": {},
   "outputs": [
    {
     "data": {
      "text/plain": [
       "{'id': 57733101,\n",
       " 'title': 'The Good Man trailer',\n",
       " 'description': 'Trailer for the Manifesto Films production, The Good Man, now available in UK/Ireland/US/Canada/Australia/New Zealand on iTunes (https://itunes.apple.com/us/movie/the-good-man/id873130906) and DVD (http://www.amazon.co.uk/The-Good-Man-Aiden-Gillen/dp/B00IIK6CGU/). Co-production with Jet Black Entertainment (South Africa). Starring Aidan Gillen, Thabang Sidloyi, Kelly Campbell, Lunathi Mampofu. Written & directed by Phil Harrison. More info at www.thegoodmanfilm.com<br />\\r\\n<br />\\r\\nCheck out the Variety Magazine review here: http://www.variety.com/review/VE1117947909/',\n",
       " 'url': 'https://vimeo.com/57733101',\n",
       " 'upload_date': '2013-01-19 04:01:15',\n",
       " 'thumbnail_small': 'http://i.vimeocdn.com/video/436057121-e828a1f5478ec0136e957753d107f2a1268c64def9b82faac37c8e30c031cff2-d_100x75',\n",
       " 'thumbnail_medium': 'http://i.vimeocdn.com/video/436057121-e828a1f5478ec0136e957753d107f2a1268c64def9b82faac37c8e30c031cff2-d_200x150',\n",
       " 'thumbnail_large': 'http://i.vimeocdn.com/video/436057121-e828a1f5478ec0136e957753d107f2a1268c64def9b82faac37c8e30c031cff2-d_640',\n",
       " 'user_id': 1334563,\n",
       " 'user_name': 'Manifesto Films',\n",
       " 'user_url': 'https://vimeo.com/manifestofilms',\n",
       " 'user_portrait_small': 'http://i.vimeocdn.com/portrait/4778306_30x30',\n",
       " 'user_portrait_medium': 'http://i.vimeocdn.com/portrait/4778306_75x75',\n",
       " 'user_portrait_large': 'http://i.vimeocdn.com/portrait/4778306_100x100',\n",
       " 'user_portrait_huge': 'http://i.vimeocdn.com/portrait/4778306_300x300',\n",
       " 'stats_number_of_likes': 17,\n",
       " 'stats_number_of_plays': 6597,\n",
       " 'stats_number_of_comments': 0,\n",
       " 'duration': 143,\n",
       " 'width': 1024,\n",
       " 'height': 576,\n",
       " 'tags': 'belfast, cape town, africa, ireland, film',\n",
       " 'embed_privacy': 'anywhere'}"
      ]
     },
     "execution_count": 22,
     "metadata": {},
     "output_type": "execute_result"
    }
   ],
   "source": [
    "dados"
   ]
  },
  {
   "cell_type": "code",
   "execution_count": 24,
   "id": "a0ebb450",
   "metadata": {},
   "outputs": [
    {
     "name": "stdout",
     "output_type": "stream",
     "text": [
      "Título: The Good Man trailer\n",
      "URL: https://vimeo.com/57733101\n",
      "Descição: Trailer for the Manifesto Films production, The Good Man, now available in UK/Ireland/US/Canada/Australia/New Zealand on iTunes (https://itunes.apple.com/us/movie/the-good-man/id873130906) and DVD (http://www.amazon.co.uk/The-Good-Man-Aiden-Gillen/dp/B00IIK6CGU/). Co-production with Jet Black Entertainment (South Africa). Starring Aidan Gillen, Thabang Sidloyi, Kelly Campbell, Lunathi Mampofu. Written & directed by Phil Harrison. More info at www.thegoodmanfilm.com<br />\r\n",
      "<br />\r\n",
      "Check out the Variety Magazine review here: http://www.variety.com/review/VE1117947909/\n",
      "Duração: 143 minutos\n",
      "Quantidade de vezes assistido: 6597\n"
     ]
    }
   ],
   "source": [
    "print(f\"Título: {dados['title']}\")\n",
    "print(f\"URL: {dados['url']}\")\n",
    "print(f\"Descição: {dados['description']}\")\n",
    "print(f\"Duração: {dados['duration']} minutos\")\n",
    "print(f\"Quantidade de vezes assistido: {dados['stats_number_of_plays']}\")\n",
    "print(f\"Título: {dados[0]}\")"
   ]
  },
  {
   "cell_type": "markdown",
   "id": "90fb1649",
   "metadata": {},
   "source": [
    "#### Copiando conteúdo de arquivo para outro arquivo"
   ]
  },
  {
   "cell_type": "code",
   "execution_count": 25,
   "id": "050cd40d",
   "metadata": {},
   "outputs": [],
   "source": [
    "arquivo_fonte = 'arquivos/dados.json'\n",
    "arquivo_destino = 'arquivos/dados.txt'"
   ]
  },
  {
   "cell_type": "code",
   "execution_count": 27,
   "id": "2ee9717b",
   "metadata": {},
   "outputs": [],
   "source": [
    "with open(arquivo_fonte,'r') as infile:\n",
    "    text = infile.read()\n",
    "    with open(arquivo_destino, 'a') as outfile:\n",
    "        outfile.write(text)"
   ]
  },
  {
   "cell_type": "code",
   "execution_count": 30,
   "id": "1ad71eca",
   "metadata": {},
   "outputs": [
    {
     "name": "stdout",
     "output_type": "stream",
     "text": [
      "{\"nome\": \"Guido Van ROSSUM\", \"Linguagem\": \"Python\", \"Similar\": [\"c\", \"Modula-3\", \"lisp\"], \"users\": 100000}\n",
      "{'nome': 'Guido Van ROSSUM', 'Linguagem': 'Python', 'Similar': ['c', 'Modula-3', 'lisp'], 'users': 100000}\n"
     ]
    }
   ],
   "source": [
    "# Leitura do arquivo TXT\n",
    "\n",
    "with open('arquivos/dados.txt','r') as arquivo:\n",
    "    texto = arquivo.read()\n",
    "    dadosTratados = json.loads(texto)\n",
    "print(texto)\n",
    "print(dadosTratados)"
   ]
  },
  {
   "cell_type": "code",
   "execution_count": null,
   "id": "49592859",
   "metadata": {},
   "outputs": [],
   "source": []
  }
 ],
 "metadata": {
  "kernelspec": {
   "display_name": "Python 3 (ipykernel)",
   "language": "python",
   "name": "python3"
  },
  "language_info": {
   "codemirror_mode": {
    "name": "ipython",
    "version": 3
   },
   "file_extension": ".py",
   "mimetype": "text/x-python",
   "name": "python",
   "nbconvert_exporter": "python",
   "pygments_lexer": "ipython3",
   "version": "3.9.13"
  }
 },
 "nbformat": 4,
 "nbformat_minor": 5
}
