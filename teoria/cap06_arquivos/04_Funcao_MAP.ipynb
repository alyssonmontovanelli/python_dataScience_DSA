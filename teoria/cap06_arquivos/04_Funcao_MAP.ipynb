{
 "cells": [
  {
   "cell_type": "markdown",
   "id": "6f69e7fb",
   "metadata": {},
   "source": [
    "# Função MAP\n",
    "\n",
    "#### Aplica uma regra a cada elemento iterável"
   ]
  },
  {
   "cell_type": "code",
   "execution_count": 1,
   "id": "3994eb2f",
   "metadata": {},
   "outputs": [],
   "source": [
    "def potencia(x):\n",
    "    return x**2"
   ]
  },
  {
   "cell_type": "code",
   "execution_count": 2,
   "id": "f5c16b70",
   "metadata": {},
   "outputs": [],
   "source": [
    "numerosTeste = [1,2,3,4,5,6,7,8,9,10,11,12,13,14,15,16,17]"
   ]
  },
  {
   "cell_type": "code",
   "execution_count": 9,
   "id": "f785a1f3",
   "metadata": {},
   "outputs": [],
   "source": [
    "numerosQuadrado = list(map(potencia, numerosTeste))"
   ]
  },
  {
   "cell_type": "code",
   "execution_count": 10,
   "id": "99e60b45",
   "metadata": {},
   "outputs": [
    {
     "data": {
      "text/plain": [
       "[1, 4, 9, 16, 25, 36, 49, 64, 81, 100, 121, 144, 169, 196, 225, 256, 289]"
      ]
     },
     "execution_count": 10,
     "metadata": {},
     "output_type": "execute_result"
    }
   ],
   "source": [
    "numerosQuadrado"
   ]
  },
  {
   "cell_type": "code",
   "execution_count": 2,
   "id": "0b392a79",
   "metadata": {},
   "outputs": [],
   "source": [
    "# Criando funções para retornar \n",
    "\n",
    "def paraFahrenheit(x):\n",
    "    return (x*1.8) + 32"
   ]
  },
  {
   "cell_type": "code",
   "execution_count": 3,
   "id": "fb025a97",
   "metadata": {},
   "outputs": [],
   "source": [
    "temperatura = [32,45,40.2,55,96]\n",
    "\n",
    "convertCelsius = list(map(paraFahrenheit, temperatura))"
   ]
  },
  {
   "cell_type": "code",
   "execution_count": 4,
   "id": "db91e40e",
   "metadata": {},
   "outputs": [
    {
     "data": {
      "text/plain": [
       "[89.6, 113.0, 104.36000000000001, 131.0, 204.8]"
      ]
     },
     "execution_count": 4,
     "metadata": {},
     "output_type": "execute_result"
    }
   ],
   "source": [
    "convertCelsius"
   ]
  },
  {
   "cell_type": "markdown",
   "id": "7ec3c5f5",
   "metadata": {},
   "source": [
    "### Utilizando MAP com LAMBDA"
   ]
  },
  {
   "cell_type": "code",
   "execution_count": 6,
   "id": "b1b94ad7",
   "metadata": {},
   "outputs": [
    {
     "data": {
      "text/plain": [
       "<map at 0x22fe0cab7c0>"
      ]
     },
     "execution_count": 6,
     "metadata": {},
     "output_type": "execute_result"
    }
   ],
   "source": [
    "# Criando função em tempo de execução\n",
    "\n",
    "map(lambda x: (x*1.8)+32, temperatura)"
   ]
  },
  {
   "cell_type": "code",
   "execution_count": 7,
   "id": "1a39bc4f",
   "metadata": {},
   "outputs": [
    {
     "data": {
      "text/plain": [
       "[89.6, 113.0, 104.36000000000001, 131.0, 204.8]"
      ]
     },
     "execution_count": 7,
     "metadata": {},
     "output_type": "execute_result"
    }
   ],
   "source": [
    "list(map(lambda x: (x*1.8)+32, temperatura))"
   ]
  },
  {
   "cell_type": "code",
   "execution_count": 10,
   "id": "78b065a4",
   "metadata": {},
   "outputs": [
    {
     "data": {
      "text/plain": [
       "[13, 47, 68, 88, 103, 51, 19, 19, 31, 43]"
      ]
     },
     "execution_count": 10,
     "metadata": {},
     "output_type": "execute_result"
    }
   ],
   "source": [
    "# Somando elementos de 2 listas\n",
    "\n",
    "lista1 = [1, 2, 3, 4, 5, 6, 7, 8, 9, 10]\n",
    "lista2 = [12, 45, 65, 84, 98, 45, 12, 11, 22, 33]\n",
    "\n",
    "list(map(lambda x,y: x+y, lista1,lista2)) # MUITO SIMPLES"
   ]
  },
  {
   "cell_type": "code",
   "execution_count": 11,
   "id": "37e92c7f",
   "metadata": {},
   "outputs": [
    {
     "data": {
      "text/plain": [
       "[5.1, 10.2, 15.3, 20.4, 26.5]"
      ]
     },
     "execution_count": 11,
     "metadata": {},
     "output_type": "execute_result"
    }
   ],
   "source": [
    "# Somando elementos de 3 listas\n",
    "\n",
    "a = [2,4,6,8,10]\n",
    "b = [3,6,9,12,16]\n",
    "c = [0.1,0.2,0.3,0.4,0.5]\n",
    "\n",
    "list(map(lambda x,y,z: x+y+z, a,b,c))"
   ]
  },
  {
   "cell_type": "code",
   "execution_count": null,
   "id": "02a175da",
   "metadata": {},
   "outputs": [],
   "source": []
  }
 ],
 "metadata": {
  "kernelspec": {
   "display_name": "Python 3 (ipykernel)",
   "language": "python",
   "name": "python3"
  },
  "language_info": {
   "codemirror_mode": {
    "name": "ipython",
    "version": 3
   },
   "file_extension": ".py",
   "mimetype": "text/x-python",
   "name": "python",
   "nbconvert_exporter": "python",
   "pygments_lexer": "ipython3",
   "version": "3.9.13"
  }
 },
 "nbformat": 4,
 "nbformat_minor": 5
}
