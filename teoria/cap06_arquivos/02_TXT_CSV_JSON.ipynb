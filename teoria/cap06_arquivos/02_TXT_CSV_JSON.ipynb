{
 "cells": [
  {
   "cell_type": "markdown",
   "id": "bbb742b5",
   "metadata": {},
   "source": [
    "# Manipulando arquivo TXT (pode ser lido em qualquer Sistema operacioanl)"
   ]
  },
  {
   "cell_type": "code",
   "execution_count": 2,
   "id": "f86e7fde",
   "metadata": {},
   "outputs": [],
   "source": [
    "texto = \"Cientista de dados pode ser um excelente alternativa de carreira.\\n\"\n",
    "texto += \"Arroz e feijão.\\n\"\n",
    "texto += \"Eu sei disso\""
   ]
  },
  {
   "cell_type": "code",
   "execution_count": 3,
   "id": "93c19eb8",
   "metadata": {},
   "outputs": [
    {
     "name": "stdout",
     "output_type": "stream",
     "text": [
      "Cientista de dados pode ser um excelente alternativa de carreira.\n",
      "Arroz e feijão.\n",
      "Eu sei disso\n"
     ]
    }
   ],
   "source": [
    "print(texto)"
   ]
  },
  {
   "cell_type": "code",
   "execution_count": 5,
   "id": "aefc7f04",
   "metadata": {},
   "outputs": [],
   "source": [
    "# Pacote OS - permite interagir com SISTEMA OPEARICOANL de forma rápida \n",
    "import os"
   ]
  },
  {
   "cell_type": "code",
   "execution_count": 8,
   "id": "2c8cfeea",
   "metadata": {},
   "outputs": [],
   "source": [
    "#Criando arquivo\n",
    "\n",
    "arquivo = open(os.path.join('arquivos/cientista.txt'), 'w')\n",
    "#path = caminho\n",
    "#join = juntar"
   ]
  },
  {
   "cell_type": "code",
   "execution_count": 11,
   "id": "8589ac4a",
   "metadata": {},
   "outputs": [
    {
     "ename": "ValueError",
     "evalue": "I/O operation on closed file.",
     "output_type": "error",
     "traceback": [
      "\u001b[1;31m---------------------------------------------------------------------------\u001b[0m",
      "\u001b[1;31mValueError\u001b[0m                                Traceback (most recent call last)",
      "\u001b[1;32m~\\AppData\\Local\\Temp\\ipykernel_22036\\915899839.py\u001b[0m in \u001b[0;36m<module>\u001b[1;34m\u001b[0m\n\u001b[0;32m      1\u001b[0m \u001b[1;32mfor\u001b[0m \u001b[0mpalavra\u001b[0m \u001b[1;32min\u001b[0m \u001b[0mtexto\u001b[0m\u001b[1;33m.\u001b[0m\u001b[0msplit\u001b[0m\u001b[1;33m(\u001b[0m\u001b[1;33m)\u001b[0m\u001b[1;33m:\u001b[0m\u001b[1;33m\u001b[0m\u001b[1;33m\u001b[0m\u001b[0m\n\u001b[1;32m----> 2\u001b[1;33m     \u001b[0marquivo\u001b[0m\u001b[1;33m.\u001b[0m\u001b[0mwrite\u001b[0m\u001b[1;33m(\u001b[0m\u001b[0mpalavra\u001b[0m \u001b[1;33m+\u001b[0m \u001b[1;34m' '\u001b[0m\u001b[1;33m)\u001b[0m\u001b[1;33m\u001b[0m\u001b[1;33m\u001b[0m\u001b[0m\n\u001b[0m",
      "\u001b[1;31mValueError\u001b[0m: I/O operation on closed file."
     ]
    }
   ],
   "source": [
    "for palavra in texto.split():\n",
    "    arquivo.write(palavra + ' ')"
   ]
  },
  {
   "cell_type": "code",
   "execution_count": 10,
   "id": "7e2e857f",
   "metadata": {},
   "outputs": [],
   "source": [
    "#fechando arquivo para ler depois\n",
    "arquivo.close()"
   ]
  },
  {
   "cell_type": "code",
   "execution_count": 13,
   "id": "cd18de02",
   "metadata": {},
   "outputs": [
    {
     "data": {
      "text/plain": [
       "'Cientista de dados pode ser um excelente alternativa de carreira. Arroz e feijão. Eu sei disso '"
      ]
     },
     "execution_count": 13,
     "metadata": {},
     "output_type": "execute_result"
    }
   ],
   "source": [
    "leitura = open('arquivos/cientista.txt','r')\n",
    "leitura.read()"
   ]
  },
  {
   "cell_type": "code",
   "execution_count": 14,
   "id": "40ca375d",
   "metadata": {},
   "outputs": [],
   "source": [
    "leitura.close()"
   ]
  },
  {
   "cell_type": "code",
   "execution_count": null,
   "id": "ba40273a",
   "metadata": {},
   "outputs": [],
   "source": []
  },
  {
   "cell_type": "markdown",
   "id": "2f6fb09a",
   "metadata": {},
   "source": [
    "## Usando `with`\n",
    "##### method close() é executado automaticamente"
   ]
  },
  {
   "cell_type": "code",
   "execution_count": 16,
   "id": "e0854bb0",
   "metadata": {},
   "outputs": [],
   "source": [
    "with open('arquivos/cientista.txt', 'r') as arquivo:\n",
    "    conteudo = arquivo.read()"
   ]
  },
  {
   "cell_type": "code",
   "execution_count": 17,
   "id": "5f1bd79c",
   "metadata": {},
   "outputs": [
    {
     "name": "stdout",
     "output_type": "stream",
     "text": [
      "Cientista de dados pode ser um excelente alternativa de carreira. Arroz e feijão. Eu sei disso \n"
     ]
    }
   ],
   "source": [
    "print(conteudo)"
   ]
  },
  {
   "cell_type": "code",
   "execution_count": 23,
   "id": "77059beb",
   "metadata": {},
   "outputs": [],
   "source": [
    "with open('arquivos/teste.txt','w') as arquivo:\n",
    "    arquivo.write('Testando o with para escrever tambem')\n",
    "    arquivo.write(texto[:10])\n",
    "    arquivo.write('\\n')\n",
    "    arquivo.write(texto[2:9])"
   ]
  },
  {
   "cell_type": "code",
   "execution_count": 24,
   "id": "81e5cf0a",
   "metadata": {},
   "outputs": [
    {
     "name": "stdout",
     "output_type": "stream",
     "text": [
      "Testando o with para escrever tambemCientista \n",
      "entista\n"
     ]
    }
   ],
   "source": [
    "with open('arquivos/teste.txt', 'r') as arquivo:\n",
    "    leitura = arquivo.read()\n",
    "print(leitura)"
   ]
  },
  {
   "cell_type": "code",
   "execution_count": null,
   "id": "a31b547c",
   "metadata": {},
   "outputs": [],
   "source": []
  },
  {
   "cell_type": "markdown",
   "id": "e9957d42",
   "metadata": {},
   "source": [
    "# CSV\n",
    "##### Campos separados por vírgula"
   ]
  },
  {
   "cell_type": "code",
   "execution_count": 25,
   "id": "fce433e9",
   "metadata": {},
   "outputs": [],
   "source": [
    "#importando o módulo csv\n",
    "\n",
    "import csv"
   ]
  },
  {
   "cell_type": "code",
   "execution_count": 35,
   "id": "1d7b10bd",
   "metadata": {},
   "outputs": [],
   "source": [
    "#criando arquivo csv e gravando\n",
    "\n",
    "with open('arquivos/numeros.csv','w') as arquivo:\n",
    "    \n",
    "    #cria objeto de gravação\n",
    "    escrever = csv.writer(arquivo)\n",
    "    \n",
    "    #grava linha a linha\n",
    "    escrever.writerow(('nota 1', 'nota 2', 'nota 3'))\n",
    "    escrever.writerow((63,54,89))\n",
    "    escrever.writerow((50,20,10))\n",
    "    escrever.writerow((99,84,78))\n",
    "    escrever.writerow((14,57,52))\n",
    "    escrever.writerow((19,87,45))\n",
    "    "
   ]
  },
  {
   "cell_type": "code",
   "execution_count": 36,
   "id": "12145448",
   "metadata": {},
   "outputs": [
    {
     "name": "stdout",
     "output_type": "stream",
     "text": [
      "nota 1,nota 2,nota 3\n",
      "\n",
      "63,54,89\n",
      "\n",
      "50,20,10\n",
      "\n",
      "99,84,78\n",
      "\n",
      "14,57,52\n",
      "\n",
      "19,87,45\n",
      "\n",
      "\n"
     ]
    }
   ],
   "source": [
    "with open('arquivos/numeros.csv', 'r') as arquivo:\n",
    "    conteudoCsv = arquivo.read()\n",
    "print(conteudoCsv)"
   ]
  },
  {
   "cell_type": "code",
   "execution_count": 42,
   "id": "84da1712",
   "metadata": {},
   "outputs": [
    {
     "name": "stdout",
     "output_type": "stream",
     "text": [
      "['nota 1', 'nota 2', 'nota 3']\n",
      "['63', '54', '89']\n",
      "['50', '20', '10']\n",
      "['99', '84', '78']\n",
      "['14', '57', '52']\n",
      "['19', '87', '45']\n"
     ]
    }
   ],
   "source": [
    "# Novamente leitura em CSV\n",
    "\n",
    "with open('arquivos/numeros.csv','r', encoding = 'utf8', newline = '\\r\\n') as arquivo:\n",
    "    \n",
    "    # Cria objeto de leitura\n",
    "    leitor = csv.reader(arquivo) # method \"READER\" le o arquivo e gera uma lista\n",
    "    \n",
    "    #loop\n",
    "    for x in leitor:\n",
    "        print(x)"
   ]
  },
  {
   "cell_type": "code",
   "execution_count": 44,
   "id": "43ee5df3",
   "metadata": {},
   "outputs": [
    {
     "name": "stdout",
     "output_type": "stream",
     "text": [
      "[['nota 1', 'nota 2', 'nota 3'], [], ['63', '54', '89'], [], ['50', '20', '10'], [], ['99', '84', '78'], [], ['14', '57', '52'], [], ['19', '87', '45'], []]\n"
     ]
    }
   ],
   "source": [
    "# Gerando lista com dados CSV\n",
    "\n",
    "with open('arquivos/numeros.csv','r') as arquivo:\n",
    "    leitor1 = csv.reader(arquivo)\n",
    "    dados = list(leitor1)\n",
    "print(dados)"
   ]
  },
  {
   "cell_type": "code",
   "execution_count": 45,
   "id": "76010cb0",
   "metadata": {},
   "outputs": [
    {
     "name": "stdout",
     "output_type": "stream",
     "text": [
      "[]\n",
      "['63', '54', '89']\n",
      "[]\n",
      "['50', '20', '10']\n",
      "[]\n",
      "['99', '84', '78']\n",
      "[]\n",
      "['14', '57', '52']\n",
      "[]\n",
      "['19', '87', '45']\n",
      "[]\n"
     ]
    }
   ],
   "source": [
    "# Imprimir a partir da segunda linha \n",
    "\n",
    "for linha in dados[1:]:\n",
    "    print(linha)"
   ]
  },
  {
   "cell_type": "markdown",
   "id": "786141dc",
   "metadata": {},
   "source": [
    "# Manipulando arquivos JSON\n",
    "#### JSON é formato de dados de texto simples em formato de dicionario"
   ]
  },
  {
   "cell_type": "code",
   "execution_count": 6,
   "id": "4a173a4f",
   "metadata": {},
   "outputs": [],
   "source": [
    "# Criando um dicionário\n",
    "\n",
    "dict_guido = {'nome': 'Guido Van ROSSUM',\n",
    "             'Linguagem': 'Python',\n",
    "             'Similar': ['c','Modula-3','lisp'],\n",
    "             'users': 100000}\n"
   ]
  },
  {
   "cell_type": "code",
   "execution_count": 7,
   "id": "80867f28",
   "metadata": {},
   "outputs": [
    {
     "name": "stdout",
     "output_type": "stream",
     "text": [
      "nome Guido Van ROSSUM\n",
      "Linguagem Python\n",
      "Similar ['c', 'Modula-3', 'lisp']\n",
      "users 100000\n"
     ]
    }
   ],
   "source": [
    "for k,v in dict_guido.items():\n",
    "    print(k,v)"
   ]
  },
  {
   "cell_type": "code",
   "execution_count": 9,
   "id": "cefe72df",
   "metadata": {},
   "outputs": [],
   "source": [
    "# importando o pacote módulo JSON\n",
    "import json"
   ]
  },
  {
   "cell_type": "code",
   "execution_count": 10,
   "id": "5817fa85",
   "metadata": {},
   "outputs": [
    {
     "data": {
      "text/plain": [
       "'{\"nome\": \"Guido Van ROSSUM\", \"Linguagem\": \"Python\", \"Similar\": [\"c\", \"Modula-3\", \"lisp\"], \"users\": 100000}'"
      ]
     },
     "execution_count": 10,
     "metadata": {},
     "output_type": "execute_result"
    }
   ],
   "source": [
    "#Convertendo o dicionário para um objeto json\n",
    "\n",
    "json.dumps(dict_guido)"
   ]
  },
  {
   "cell_type": "code",
   "execution_count": 11,
   "id": "b8db4956",
   "metadata": {},
   "outputs": [
    {
     "name": "stdout",
     "output_type": "stream",
     "text": [
      "{'nome': 'Guido Van ROSSUM', 'Linguagem': 'Python', 'Similar': ['c', 'Modula-3', 'lisp'], 'users': 100000}\n"
     ]
    }
   ],
   "source": [
    "print(dict_guido)"
   ]
  },
  {
   "cell_type": "code",
   "execution_count": 12,
   "id": "dbe1f9c6",
   "metadata": {},
   "outputs": [],
   "source": [
    "# CRIANDO UM ARQUIVO JSON\n",
    "\n",
    "with open('arquivos/dados.json','w') as arquivo:\n",
    "    arquivo.write(json.dumps(dict_guido))\n"
   ]
  },
  {
   "cell_type": "code",
   "execution_count": 15,
   "id": "a2598351",
   "metadata": {},
   "outputs": [],
   "source": [
    "with open('arquivos/dados.json', 'r') as arquivo:\n",
    "    texto = arquivo.read()\n",
    "    dados = json.loads(texto)"
   ]
  },
  {
   "cell_type": "code",
   "execution_count": 16,
   "id": "0988180a",
   "metadata": {},
   "outputs": [
    {
     "data": {
      "text/plain": [
       "'{\"nome\": \"Guido Van ROSSUM\", \"Linguagem\": \"Python\", \"Similar\": [\"c\", \"Modula-3\", \"lisp\"], \"users\": 100000}'"
      ]
     },
     "execution_count": 16,
     "metadata": {},
     "output_type": "execute_result"
    }
   ],
   "source": [
    "texto"
   ]
  },
  {
   "cell_type": "code",
   "execution_count": 17,
   "id": "c03e9d36",
   "metadata": {},
   "outputs": [
    {
     "data": {
      "text/plain": [
       "{'nome': 'Guido Van ROSSUM',\n",
       " 'Linguagem': 'Python',\n",
       " 'Similar': ['c', 'Modula-3', 'lisp'],\n",
       " 'users': 100000}"
      ]
     },
     "execution_count": 17,
     "metadata": {},
     "output_type": "execute_result"
    }
   ],
   "source": [
    "dados"
   ]
  },
  {
   "cell_type": "code",
   "execution_count": 18,
   "id": "f293b446",
   "metadata": {},
   "outputs": [
    {
     "name": "stdout",
     "output_type": "stream",
     "text": [
      "Guido Van ROSSUM\n"
     ]
    }
   ],
   "source": [
    "print(dados['nome'])"
   ]
  },
  {
   "cell_type": "code",
   "execution_count": null,
   "id": "179d1906",
   "metadata": {},
   "outputs": [],
   "source": []
  }
 ],
 "metadata": {
  "kernelspec": {
   "display_name": "Python 3 (ipykernel)",
   "language": "python",
   "name": "python3"
  },
  "language_info": {
   "codemirror_mode": {
    "name": "ipython",
    "version": 3
   },
   "file_extension": ".py",
   "mimetype": "text/x-python",
   "name": "python",
   "nbconvert_exporter": "python",
   "pygments_lexer": "ipython3",
   "version": "3.9.13"
  }
 },
 "nbformat": 4,
 "nbformat_minor": 5
}
