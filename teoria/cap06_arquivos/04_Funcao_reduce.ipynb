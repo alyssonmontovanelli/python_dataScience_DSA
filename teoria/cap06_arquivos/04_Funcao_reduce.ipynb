{
 "cells": [
  {
   "cell_type": "markdown",
   "id": "426859e9",
   "metadata": {},
   "source": [
    "# FUNÇÃO REDUCE\n",
    "\n",
    "#### UMA FUNÇÃO DO PACOTE FUNCTOOLS"
   ]
  },
  {
   "cell_type": "markdown",
   "id": "d1f9eb4a",
   "metadata": {},
   "source": [
    "##### reduzir fatores"
   ]
  },
  {
   "cell_type": "code",
   "execution_count": 4,
   "id": "fc3747cc",
   "metadata": {},
   "outputs": [
    {
     "name": "stdout",
     "output_type": "stream",
     "text": [
      "210\n"
     ]
    }
   ],
   "source": [
    "from functools import reduce\n",
    "\n",
    "\n",
    "#Somando itens de uma lista\n",
    "lista = [1,2,3,4,5,6,7,8,9,10,11,12,13,14,15,16,17,18,19,20]\n",
    "somatorio = 0\n",
    "\n",
    "# for\n",
    "for n in lista:\n",
    "    somatorio += n\n",
    "print(somatorio)"
   ]
  },
  {
   "cell_type": "code",
   "execution_count": 5,
   "id": "cde873f8",
   "metadata": {},
   "outputs": [
    {
     "data": {
      "text/plain": [
       "210"
      ]
     },
     "execution_count": 5,
     "metadata": {},
     "output_type": "execute_result"
    }
   ],
   "source": [
    "# Com REDUCE\n",
    "\n",
    "def soma(a,b):\n",
    "    x = a+b\n",
    "    return x\n",
    "\n",
    "reduce(soma,lista)"
   ]
  },
  {
   "cell_type": "code",
   "execution_count": 6,
   "id": "00c13faf",
   "metadata": {},
   "outputs": [
    {
     "name": "stdout",
     "output_type": "stream",
     "text": [
      "210\n"
     ]
    }
   ],
   "source": [
    "# Otimizando ainda mais com 'lambda'\n",
    "\n",
    "somatorio = reduce(lambda x,y: x+y, lista)\n",
    "print(somatorio)"
   ]
  },
  {
   "cell_type": "code",
   "execution_count": 8,
   "id": "4b21cc27",
   "metadata": {},
   "outputs": [],
   "source": [
    "## Reduzindo ao valor máximo com lmabda\n",
    "\n",
    "lista2 = [99,105,23,288,14,69,898,451,2,32]\n",
    "\n",
    "maiorValor = reduce(lambda x,y: x if x>y else y, lista2)"
   ]
  },
  {
   "cell_type": "code",
   "execution_count": 9,
   "id": "7df0d7c8",
   "metadata": {},
   "outputs": [
    {
     "data": {
      "text/plain": [
       "898"
      ]
     },
     "execution_count": 9,
     "metadata": {},
     "output_type": "execute_result"
    }
   ],
   "source": [
    "maiorValor"
   ]
  },
  {
   "cell_type": "code",
   "execution_count": null,
   "id": "4f54cb4a",
   "metadata": {},
   "outputs": [],
   "source": []
  }
 ],
 "metadata": {
  "kernelspec": {
   "display_name": "Python 3 (ipykernel)",
   "language": "python",
   "name": "python3"
  },
  "language_info": {
   "codemirror_mode": {
    "name": "ipython",
    "version": 3
   },
   "file_extension": ".py",
   "mimetype": "text/x-python",
   "name": "python",
   "nbconvert_exporter": "python",
   "pygments_lexer": "ipython3",
   "version": "3.9.13"
  }
 },
 "nbformat": 4,
 "nbformat_minor": 5
}
