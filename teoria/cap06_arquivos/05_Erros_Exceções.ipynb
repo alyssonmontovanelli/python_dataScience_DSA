{
 "cells": [
  {
   "cell_type": "markdown",
   "id": "678ebd5d",
   "metadata": {},
   "source": [
    "### TRY / EXCEPT / FINALLY"
   ]
  },
  {
   "cell_type": "code",
   "execution_count": null,
   "id": "705441ed",
   "metadata": {},
   "outputs": [],
   "source": [
    "try:\n",
    "    8 + 's'\n",
    "except TypeError:\n",
    "    print(\"Operação não permitida\")"
   ]
  },
  {
   "cell_type": "code",
   "execution_count": null,
   "id": "372c783f",
   "metadata": {},
   "outputs": [],
   "source": [
    "# Utilizando try, except e eles\n",
    "\n",
    "try:\n",
    "    f = open(\"arquivos/testandoerros.txt\",\"w\")\n",
    "    f.write(\"Gravando arquivo\")\n",
    "except IOError:\n",
    "    print(\"Erro: arquivo não encontrado ou não pode ser salvo.\")\n",
    "else:\n",
    "    print(\"Conteúdo gravado com sucesso!\")\n",
    "    f.close()"
   ]
  },
  {
   "cell_type": "code",
   "execution_count": null,
   "id": "c53f7921",
   "metadata": {},
   "outputs": [],
   "source": [
    "try:\n",
    "    f = open(\"arquivos/testandoerros\",\"r\")\n",
    "except IOError:\n",
    "    print(\"Erro: arquivo não encontrado ou não pode ser lido.\")\n",
    "else:\n",
    "    print(\"Conteúdo gravado com sucesso!\")\n",
    "    f.close()"
   ]
  },
  {
   "cell_type": "code",
   "execution_count": null,
   "id": "1f5a6e2d",
   "metadata": {},
   "outputs": [],
   "source": [
    "# FINALLY - Executa com ou sem error\n",
    "\n",
    "try:\n",
    "    f = open(\"arquivos/testandoerros\",\"r\")\n",
    "except IOError:\n",
    "    print(\"Erro: arquivo não encontrado ou não pode ser lido.\")\n",
    "else:\n",
    "    print(\"Conteúdo gravado com sucesso!\")\n",
    "    f.close()\n",
    "finally:\n",
    "    print(\"Processamento finalizado\")"
   ]
  },
  {
   "cell_type": "markdown",
   "id": "915267e6",
   "metadata": {},
   "source": [
    "# EXEMPLOS DE ERROS"
   ]
  },
  {
   "cell_type": "code",
   "execution_count": null,
   "id": "9cb8c36e",
   "metadata": {},
   "outputs": [],
   "source": [
    "def askint():\n",
    "    try:\n",
    "        val = int(input(\"Informe a sua idade: \"))\n",
    "    except:\n",
    "        print(\"Valor informado não né válido\")\n",
    "    finally:\n",
    "        print(\"Obrigado\")\n",
    "\n",
    "askint()        \n",
    "arroz = \"Cereal importante para ficar grande\"\n",
    "print(arroz)"
   ]
  },
  {
   "cell_type": "code",
   "execution_count": null,
   "id": "39859248",
   "metadata": {},
   "outputs": [],
   "source": [
    "def digitaNumero():\n",
    "    while True:\n",
    "        try:\n",
    "            valor = int(input(\"Informe qualquer número: \"))\n",
    "        except:\n",
    "            print(\"Por favor, informe um número\")\n",
    "            continue\n",
    "        else:\n",
    "            print(\"Obrigado por digitar um número\")\n",
    "            break\n",
    "        finally:\n",
    "            print(\"Processoamento finalizado\") \n",
    "\n",
    "digitaNumero()\n",
    "        "
   ]
  },
  {
   "cell_type": "code",
   "execution_count": null,
   "id": "4a63d20b",
   "metadata": {},
   "outputs": [],
   "source": []
  },
  {
   "cell_type": "code",
   "execution_count": null,
   "id": "fba0fa08",
   "metadata": {},
   "outputs": [],
   "source": []
  },
  {
   "cell_type": "code",
   "execution_count": null,
   "id": "6046d313",
   "metadata": {},
   "outputs": [],
   "source": []
  },
  {
   "cell_type": "code",
   "execution_count": null,
   "id": "e49d520d",
   "metadata": {},
   "outputs": [],
   "source": []
  },
  {
   "cell_type": "code",
   "execution_count": null,
   "id": "020f829c",
   "metadata": {},
   "outputs": [],
   "source": []
  },
  {
   "cell_type": "code",
   "execution_count": null,
   "id": "500a33bf",
   "metadata": {},
   "outputs": [],
   "source": []
  },
  {
   "cell_type": "code",
   "execution_count": null,
   "id": "28d2f4e3",
   "metadata": {},
   "outputs": [],
   "source": []
  },
  {
   "cell_type": "code",
   "execution_count": null,
   "id": "02b3d70a",
   "metadata": {},
   "outputs": [],
   "source": []
  },
  {
   "cell_type": "code",
   "execution_count": null,
   "id": "2d775585",
   "metadata": {},
   "outputs": [],
   "source": []
  },
  {
   "cell_type": "code",
   "execution_count": null,
   "id": "a8e9770c",
   "metadata": {},
   "outputs": [],
   "source": []
  },
  {
   "cell_type": "code",
   "execution_count": null,
   "id": "d140e198",
   "metadata": {},
   "outputs": [],
   "source": []
  },
  {
   "cell_type": "code",
   "execution_count": null,
   "id": "46170ec3",
   "metadata": {},
   "outputs": [],
   "source": []
  },
  {
   "cell_type": "code",
   "execution_count": null,
   "id": "2c33521c",
   "metadata": {},
   "outputs": [],
   "source": []
  }
 ],
 "metadata": {
  "kernelspec": {
   "display_name": "Python 3 (ipykernel)",
   "language": "python",
   "name": "python3"
  },
  "language_info": {
   "codemirror_mode": {
    "name": "ipython",
    "version": 3
   },
   "file_extension": ".py",
   "mimetype": "text/x-python",
   "name": "python",
   "nbconvert_exporter": "python",
   "pygments_lexer": "ipython3",
   "version": "3.9.13"
  }
 },
 "nbformat": 4,
 "nbformat_minor": 5
}
