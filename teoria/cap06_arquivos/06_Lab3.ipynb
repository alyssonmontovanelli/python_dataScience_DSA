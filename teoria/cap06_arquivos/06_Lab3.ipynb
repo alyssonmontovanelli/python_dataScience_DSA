{
 "cells": [
  {
   "cell_type": "markdown",
   "id": "e526c83b",
   "metadata": {},
   "source": [
    "# EXPRESSÕES REGULARES"
   ]
  },
  {
   "cell_type": "code",
   "execution_count": 2,
   "id": "4ff203f5",
   "metadata": {},
   "outputs": [],
   "source": [
    "import re"
   ]
  },
  {
   "cell_type": "code",
   "execution_count": 3,
   "id": "2e544d88",
   "metadata": {},
   "outputs": [],
   "source": [
    "texto = \"Hoje eu tive um trabalho incrível, pela primeira vez na minha alysson@gmail.com Olouco mano vi@tudonosso.com vida eu dei meu cuzim, daquele nipe\""
   ]
  },
  {
   "cell_type": "code",
   "execution_count": 4,
   "id": "742296c2",
   "metadata": {},
   "outputs": [
    {
     "name": "stdout",
     "output_type": "stream",
     "text": [
      "['e', 'e', 'e', 'e', 'e', 'e', 'e', 'e', 'e', 'e', 'e', 'e', 'e']\n",
      "13\n"
     ]
    }
   ],
   "source": [
    "# Expressão regular para contar quantas vezes o caracter \"e\" aparece no texto\n",
    "\n",
    "resultado = re.findall(\"e\", texto)\n",
    "result = len(re.findall(\"e\", texto))\n",
    "print(resultado)\n",
    "print(result)"
   ]
  },
  {
   "cell_type": "code",
   "execution_count": 5,
   "id": "75519ab8",
   "metadata": {},
   "outputs": [
    {
     "data": {
      "text/plain": [
       "13"
      ]
     },
     "execution_count": 5,
     "metadata": {},
     "output_type": "execute_result"
    }
   ],
   "source": [
    "# Outra forma, mais simples e antiga\n",
    "\n",
    "contador = 0\n",
    "\n",
    "for n in texto:\n",
    "    if n == 'e':\n",
    "        contador += 1\n",
    "contador"
   ]
  },
  {
   "cell_type": "code",
   "execution_count": 6,
   "id": "d6590779",
   "metadata": {},
   "outputs": [
    {
     "name": "stdout",
     "output_type": "stream",
     "text": [
      "eu\n"
     ]
    }
   ],
   "source": [
    "# Expressão regular para extrair palavra que aparece demois de 'vida' no texto\n",
    "\n",
    "resultado2 = re.findall(r'vida (\\w+)', texto)\n",
    "resultado2[0]\n",
    "print(resultado2[0])"
   ]
  },
  {
   "cell_type": "markdown",
   "id": "211a9d41",
   "metadata": {},
   "source": [
    "### Expressão regular para extrair endereço de email de uma string"
   ]
  },
  {
   "cell_type": "code",
   "execution_count": 9,
   "id": "ce91cb12",
   "metadata": {},
   "outputs": [
    {
     "name": "stdout",
     "output_type": "stream",
     "text": [
      "['alysson@gmail.com', 'vi@tudonosso.com']\n"
     ]
    }
   ],
   "source": [
    "# utiliza chatGPT para gerar \n",
    "\n",
    "# padrao_email = r'^\\w+([\\.-]?\\w+)*@\\w+([\\.-]?\\w+)*(\\.\\w{2,3})+$'\n",
    "\n",
    "emails = re.findall(r'\\b[A-Za-z0-9._%+-]+@[A-Za-z0-9.-]+\\.[A-Z|a-z]{2,}\\b', texto)\n",
    "\n",
    "print(emails)"
   ]
  },
  {
   "cell_type": "code",
   "execution_count": 15,
   "id": "c45d262e",
   "metadata": {},
   "outputs": [
    {
     "name": "stdout",
     "output_type": "stream",
     "text": [
      "0 - 13 = Primeiramente\n",
      "28 - 35 = somente\n"
     ]
    }
   ],
   "source": [
    "# Outro exemplo\n",
    "\n",
    "texto2  = \"Primeiramente, um aluno que somente é avaliado depois de dar o brioco\"\n",
    "\n",
    "#extraindo advérbio da frase\n",
    "\n",
    "for m in re.finditer(r'\\w+mente\\b', texto2):\n",
    "    print(f\"{m.start()} - {m.end()} = {m.group(0)}\")\n"
   ]
  },
  {
   "cell_type": "markdown",
   "id": "17c23c5a",
   "metadata": {},
   "source": [
    "# REGEX com ChatGPT"
   ]
  },
  {
   "cell_type": "code",
   "execution_count": 49,
   "id": "89c22e1c",
   "metadata": {},
   "outputs": [
    {
     "name": "stdout",
     "output_type": "stream",
     "text": [
      "\n",
      "Todos os dias quando acordo!\n",
      "Não tenho mais o tempo que passou\n",
      "Mas tenho! muito tempo\n",
      "Temos todo o tempo do mundo!\n",
      "\n",
      "Todos os dias antes de dormir!\n",
      "Lembro e esqueço como foi o dia!\n",
      "Sempre em frente, não temos tempo a perder\n",
      "\n",
      "Nosso suor sagrado\n",
      "É bem mais belo que esse sangue amargo!\n",
      "E tão sério, e selvagem, selvagem\n",
      "E tanto amor, que nem sei! !\n",
      "\n"
     ]
    }
   ],
   "source": [
    "# Música\n",
    "\n",
    "musica = '''\n",
    "Todos os dias quando acordo!\n",
    "Não tenho mais o tempo que passou\n",
    "Mas tenho! muito tempo\n",
    "Temos todo o tempo do mundo!\n",
    "\n",
    "Todos os dias antes de dormir!\n",
    "Lembro e esqueço como foi o dia!\n",
    "Sempre em frente, não temos tempo a perder\n",
    "\n",
    "Nosso suor sagrado\n",
    "É bem mais belo que esse sangue amargo!\n",
    "E tão sério, e selvagem, selvagem\n",
    "E tanto amor, que nem sei! !\n",
    "'''\n",
    "\n",
    "print(musica)"
   ]
  },
  {
   "cell_type": "code",
   "execution_count": 57,
   "id": "3b9e66d4",
   "metadata": {},
   "outputs": [
    {
     "name": "stdout",
     "output_type": "stream",
     "text": [
      "20\n",
      "4\n",
      "['tempo', 'tempo', 'tempo', 'tempo']\n",
      "['acordo!', 'tenho!', 'mundo!', 'dormir!', 'dia!', 'amargo!', 'sei!']\n",
      "['sangue']\n",
      "['sé']\n"
     ]
    }
   ],
   "source": [
    "# REGEX para encontrar letra 'a'\n",
    "contaA = len(re.findall(\"a\",musica))\n",
    "\n",
    "# REGEX para contar a ocorrência de 'tempo'\n",
    "palavraTempo = len(re.findall('tempo',musica))\n",
    "\n",
    "\n",
    "palavraTempo2 = re.findall(r'\\btempo\\b', musica)\n",
    "\n",
    "#REGEX para pegar as palavras que terminem com '!'\n",
    "palavraExclamacao = re.findall(r\"\\b\\w+!\", musica)\n",
    "\n",
    "# REGEX para encontrar palavra entre \"esse\" e \"amargo\"\n",
    "palavraAmargo = re.findall(r'\\besse\\s(\\w+)\\samargo\\b', musica)\n",
    "\n",
    "\n",
    "#REGEX\n",
    "palavraAcento = re.findall(r'(\\w*[áéíóúü])\\w*', musica)\n",
    "\n",
    "\n",
    "\n",
    "print(contaA)\n",
    "print(palavraTempo)\n",
    "print(list(palavraTempo2))\n",
    "print(palavraExclamacao)\n",
    "print(palavraAmargo)\n",
    "print(palavraAcento)"
   ]
  },
  {
   "cell_type": "code",
   "execution_count": null,
   "id": "c56d776f",
   "metadata": {},
   "outputs": [],
   "source": []
  },
  {
   "cell_type": "code",
   "execution_count": 1,
   "id": "6339ea77",
   "metadata": {},
   "outputs": [],
   "source": [
    "ok = [x for x in range(10)] "
   ]
  },
  {
   "cell_type": "code",
   "execution_count": 2,
   "id": "ca9baf53",
   "metadata": {},
   "outputs": [
    {
     "data": {
      "text/plain": [
       "[0, 1, 2, 3, 4, 5, 6, 7, 8, 9]"
      ]
     },
     "execution_count": 2,
     "metadata": {},
     "output_type": "execute_result"
    }
   ],
   "source": [
    "ok"
   ]
  },
  {
   "cell_type": "code",
   "execution_count": 3,
   "id": "15da5bcf",
   "metadata": {},
   "outputs": [
    {
     "data": {
      "text/plain": [
       "[1, 2, 3, 4, 5, 6]"
      ]
     },
     "execution_count": 3,
     "metadata": {},
     "output_type": "execute_result"
    }
   ],
   "source": [
    "lst1 = [1,2,3]\n",
    "lst2 = [4,5,6]\n",
    "\n",
    "lst1 + lst2\n"
   ]
  },
  {
   "cell_type": "code",
   "execution_count": 4,
   "id": "3b492726",
   "metadata": {},
   "outputs": [
    {
     "ename": "TypeError",
     "evalue": "unsupported operand type(s) for +: 'int' and 'str'",
     "output_type": "error",
     "traceback": [
      "\u001b[1;31m---------------------------------------------------------------------------\u001b[0m",
      "\u001b[1;31mTypeError\u001b[0m                                 Traceback (most recent call last)",
      "\u001b[1;32m~\\AppData\\Local\\Temp\\ipykernel_14388\\2080009261.py\u001b[0m in \u001b[0;36m<module>\u001b[1;34m\u001b[0m\n\u001b[1;32m----> 1\u001b[1;33m \u001b[1;36m8\u001b[0m \u001b[1;33m+\u001b[0m \u001b[1;34m's'\u001b[0m\u001b[1;33m\u001b[0m\u001b[1;33m\u001b[0m\u001b[0m\n\u001b[0m",
      "\u001b[1;31mTypeError\u001b[0m: unsupported operand type(s) for +: 'int' and 'str'"
     ]
    }
   ],
   "source": [
    "8 + 's'"
   ]
  },
  {
   "cell_type": "code",
   "execution_count": 5,
   "id": "3e70df5b",
   "metadata": {},
   "outputs": [
    {
     "ename": "SyntaxError",
     "evalue": "invalid syntax (999638175.py, line 1)",
     "output_type": "error",
     "traceback": [
      "\u001b[1;36m  File \u001b[1;32m\"C:\\Users\\alyss\\AppData\\Local\\Temp\\ipykernel_14388\\999638175.py\"\u001b[1;36m, line \u001b[1;32m1\u001b[0m\n\u001b[1;33m    2x = 4\u001b[0m\n\u001b[1;37m     ^\u001b[0m\n\u001b[1;31mSyntaxError\u001b[0m\u001b[1;31m:\u001b[0m invalid syntax\n"
     ]
    }
   ],
   "source": [
    "2x = 4\n",
    "\n",
    "2x"
   ]
  },
  {
   "cell_type": "code",
   "execution_count": 6,
   "id": "09225346",
   "metadata": {},
   "outputs": [
    {
     "data": {
      "text/plain": [
       "'Alys'"
      ]
     },
     "execution_count": 6,
     "metadata": {},
     "output_type": "execute_result"
    }
   ],
   "source": [
    "ok = \"Alysson\"\n",
    "ok[:4]"
   ]
  },
  {
   "cell_type": "code",
   "execution_count": 8,
   "id": "1f87b8ef",
   "metadata": {},
   "outputs": [
    {
     "data": {
      "text/plain": [
       "[1, 4, 9, 16, 25, 36, 49, 64, 81, 100]"
      ]
     },
     "execution_count": 8,
     "metadata": {},
     "output_type": "execute_result"
    }
   ],
   "source": [
    "ok = [x**2 for x in range(1,11)]\n",
    "ok"
   ]
  },
  {
   "cell_type": "code",
   "execution_count": null,
   "id": "34c4a119",
   "metadata": {},
   "outputs": [],
   "source": []
  }
 ],
 "metadata": {
  "kernelspec": {
   "display_name": "Python 3 (ipykernel)",
   "language": "python",
   "name": "python3"
  },
  "language_info": {
   "codemirror_mode": {
    "name": "ipython",
    "version": 3
   },
   "file_extension": ".py",
   "mimetype": "text/x-python",
   "name": "python",
   "nbconvert_exporter": "python",
   "pygments_lexer": "ipython3",
   "version": "3.9.13"
  }
 },
 "nbformat": 4,
 "nbformat_minor": 5
}
