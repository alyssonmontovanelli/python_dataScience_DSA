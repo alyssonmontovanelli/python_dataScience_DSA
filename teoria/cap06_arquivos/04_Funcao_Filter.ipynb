{
 "cells": [
  {
   "cell_type": "code",
   "execution_count": 1,
   "id": "6eeca773",
   "metadata": {},
   "outputs": [
    {
     "data": {
      "text/plain": [
       "[12, 52, 68, 4, 512, 30, 56, 12, 20, 2, 88]"
      ]
     },
     "execution_count": 1,
     "metadata": {},
     "output_type": "execute_result"
    }
   ],
   "source": [
    "lista = [12,52,68,97,4,512,30,1,45,56,87,77,45,12,17,20,2,88]\n",
    "\n",
    "## Verificar numero par\n",
    "\n",
    "\n",
    "list(filter(lambda x: x%2==0, lista))"
   ]
  },
  {
   "cell_type": "code",
   "execution_count": 2,
   "id": "8b9f05ef",
   "metadata": {},
   "outputs": [
    {
     "data": {
      "text/plain": [
       "[12, 52, 68, 97, 512, 30, 45, 56, 87, 77, 45, 12, 17, 20, 88]"
      ]
     },
     "execution_count": 2,
     "metadata": {},
     "output_type": "execute_result"
    }
   ],
   "source": [
    "## numeros maiors que 8\n",
    "\n",
    "list(filter(lambda x: x>8, lista))"
   ]
  },
  {
   "cell_type": "code",
   "execution_count": null,
   "id": "717bfe8a",
   "metadata": {},
   "outputs": [],
   "source": []
  }
 ],
 "metadata": {
  "kernelspec": {
   "display_name": "Python 3 (ipykernel)",
   "language": "python",
   "name": "python3"
  },
  "language_info": {
   "codemirror_mode": {
    "name": "ipython",
    "version": 3
   },
   "file_extension": ".py",
   "mimetype": "text/x-python",
   "name": "python",
   "nbconvert_exporter": "python",
   "pygments_lexer": "ipython3",
   "version": "3.9.13"
  }
 },
 "nbformat": 4,
 "nbformat_minor": 5
}
