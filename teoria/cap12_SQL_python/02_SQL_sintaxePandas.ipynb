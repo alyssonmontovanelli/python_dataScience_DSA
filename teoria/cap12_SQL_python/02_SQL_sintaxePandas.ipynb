{
 "cells": [
  {
   "cell_type": "code",
   "execution_count": 1,
   "id": "f99318b0",
   "metadata": {},
   "outputs": [],
   "source": [
    "import sqlite3"
   ]
  },
  {
   "cell_type": "code",
   "execution_count": 2,
   "id": "9669d34c",
   "metadata": {},
   "outputs": [],
   "source": [
    "import pandas as pd"
   ]
  },
  {
   "cell_type": "markdown",
   "id": "ef72276c",
   "metadata": {},
   "source": [
    "## Abrindo conexão e cursor"
   ]
  },
  {
   "cell_type": "code",
   "execution_count": 5,
   "id": "5c2a8c4d",
   "metadata": {},
   "outputs": [],
   "source": [
    "con = sqlite3.connect('cap12_dsa.db')"
   ]
  },
  {
   "cell_type": "code",
   "execution_count": 6,
   "id": "d1431950",
   "metadata": {},
   "outputs": [],
   "source": [
    "cursor = con.cursor()"
   ]
  },
  {
   "cell_type": "markdown",
   "id": "e8cdca17",
   "metadata": {},
   "source": [
    "A Query abaixo retorna todas as linhas e todas as colunas da tabela"
   ]
  },
  {
   "cell_type": "code",
   "execution_count": 10,
   "id": "b3221965",
   "metadata": {},
   "outputs": [],
   "source": [
    "query = 'select * from tb_vendas_dsa'"
   ]
  },
  {
   "cell_type": "code",
   "execution_count": 11,
   "id": "0b4efb40",
   "metadata": {},
   "outputs": [
    {
     "data": {
      "text/plain": [
       "<sqlite3.Cursor at 0x130f95bb9d0>"
      ]
     },
     "execution_count": 11,
     "metadata": {},
     "output_type": "execute_result"
    }
   ],
   "source": [
    "cursor.execute(query)"
   ]
  },
  {
   "cell_type": "code",
   "execution_count": 12,
   "id": "c32d71bf",
   "metadata": {},
   "outputs": [],
   "source": [
    "dados = cursor.fetchall()"
   ]
  },
  {
   "cell_type": "code",
   "execution_count": 14,
   "id": "2d6ee017",
   "metadata": {},
   "outputs": [],
   "source": [
    "# Carregando dados com DF do pandas\n",
    "dataFrame = pd.DataFrame(dados, columns = ['ID_Pedido',\n",
    "                                         'ID_Cliente',\n",
    "                                         'Nome_Produto',\n",
    "                                         'Valor_Unitario',\n",
    "                                         'Unidades_Vendidas',\n",
    "                                         'Custo'])"
   ]
  },
  {
   "cell_type": "code",
   "execution_count": 16,
   "id": "c8992cdb",
   "metadata": {},
   "outputs": [
    {
     "data": {
      "text/html": [
       "<div>\n",
       "<style scoped>\n",
       "    .dataframe tbody tr th:only-of-type {\n",
       "        vertical-align: middle;\n",
       "    }\n",
       "\n",
       "    .dataframe tbody tr th {\n",
       "        vertical-align: top;\n",
       "    }\n",
       "\n",
       "    .dataframe thead th {\n",
       "        text-align: right;\n",
       "    }\n",
       "</style>\n",
       "<table border=\"1\" class=\"dataframe\">\n",
       "  <thead>\n",
       "    <tr style=\"text-align: right;\">\n",
       "      <th></th>\n",
       "      <th>ID_Pedido</th>\n",
       "      <th>ID_Cliente</th>\n",
       "      <th>Nome_Produto</th>\n",
       "      <th>Valor_Unitario</th>\n",
       "      <th>Unidades_Vendidas</th>\n",
       "      <th>Custo</th>\n",
       "    </tr>\n",
       "  </thead>\n",
       "  <tbody>\n",
       "    <tr>\n",
       "      <th>0</th>\n",
       "      <td>1</td>\n",
       "      <td>63</td>\n",
       "      <td>Produto_38</td>\n",
       "      <td>154.03</td>\n",
       "      <td>7</td>\n",
       "      <td>92.42</td>\n",
       "    </tr>\n",
       "    <tr>\n",
       "      <th>1</th>\n",
       "      <td>2</td>\n",
       "      <td>49</td>\n",
       "      <td>Produto_8</td>\n",
       "      <td>171.52</td>\n",
       "      <td>5</td>\n",
       "      <td>102.91</td>\n",
       "    </tr>\n",
       "    <tr>\n",
       "      <th>2</th>\n",
       "      <td>3</td>\n",
       "      <td>83</td>\n",
       "      <td>Produto_39</td>\n",
       "      <td>28.97</td>\n",
       "      <td>13</td>\n",
       "      <td>17.38</td>\n",
       "    </tr>\n",
       "    <tr>\n",
       "      <th>3</th>\n",
       "      <td>4</td>\n",
       "      <td>37</td>\n",
       "      <td>Produto_2</td>\n",
       "      <td>104.55</td>\n",
       "      <td>4</td>\n",
       "      <td>62.73</td>\n",
       "    </tr>\n",
       "    <tr>\n",
       "      <th>4</th>\n",
       "      <td>5</td>\n",
       "      <td>19</td>\n",
       "      <td>Produto_1</td>\n",
       "      <td>77.21</td>\n",
       "      <td>19</td>\n",
       "      <td>46.33</td>\n",
       "    </tr>\n",
       "    <tr>\n",
       "      <th>5</th>\n",
       "      <td>6</td>\n",
       "      <td>87</td>\n",
       "      <td>Produto_36</td>\n",
       "      <td>161.97</td>\n",
       "      <td>13</td>\n",
       "      <td>97.18</td>\n",
       "    </tr>\n",
       "    <tr>\n",
       "      <th>6</th>\n",
       "      <td>7</td>\n",
       "      <td>59</td>\n",
       "      <td>Produto_24</td>\n",
       "      <td>101.17</td>\n",
       "      <td>7</td>\n",
       "      <td>60.70</td>\n",
       "    </tr>\n",
       "    <tr>\n",
       "      <th>7</th>\n",
       "      <td>8</td>\n",
       "      <td>48</td>\n",
       "      <td>Produto_31</td>\n",
       "      <td>92.03</td>\n",
       "      <td>9</td>\n",
       "      <td>55.22</td>\n",
       "    </tr>\n",
       "    <tr>\n",
       "      <th>8</th>\n",
       "      <td>9</td>\n",
       "      <td>73</td>\n",
       "      <td>Produto_4</td>\n",
       "      <td>116.57</td>\n",
       "      <td>6</td>\n",
       "      <td>69.94</td>\n",
       "    </tr>\n",
       "    <tr>\n",
       "      <th>9</th>\n",
       "      <td>10</td>\n",
       "      <td>98</td>\n",
       "      <td>Produto_45</td>\n",
       "      <td>46.16</td>\n",
       "      <td>4</td>\n",
       "      <td>27.70</td>\n",
       "    </tr>\n",
       "  </tbody>\n",
       "</table>\n",
       "</div>"
      ],
      "text/plain": [
       "   ID_Pedido  ID_Cliente Nome_Produto  Valor_Unitario  Unidades_Vendidas  \\\n",
       "0          1          63   Produto_38          154.03                  7   \n",
       "1          2          49    Produto_8          171.52                  5   \n",
       "2          3          83   Produto_39           28.97                 13   \n",
       "3          4          37    Produto_2          104.55                  4   \n",
       "4          5          19    Produto_1           77.21                 19   \n",
       "5          6          87   Produto_36          161.97                 13   \n",
       "6          7          59   Produto_24          101.17                  7   \n",
       "7          8          48   Produto_31           92.03                  9   \n",
       "8          9          73    Produto_4          116.57                  6   \n",
       "9         10          98   Produto_45           46.16                  4   \n",
       "\n",
       "    Custo  \n",
       "0   92.42  \n",
       "1  102.91  \n",
       "2   17.38  \n",
       "3   62.73  \n",
       "4   46.33  \n",
       "5   97.18  \n",
       "6   60.70  \n",
       "7   55.22  \n",
       "8   69.94  \n",
       "9   27.70  "
      ]
     },
     "execution_count": 16,
     "metadata": {},
     "output_type": "execute_result"
    }
   ],
   "source": [
    "dataFrame.head(10)"
   ]
  },
  {
   "cell_type": "code",
   "execution_count": 17,
   "id": "78b276c0",
   "metadata": {},
   "outputs": [],
   "source": [
    "# Fechar o cursor e encerrar a conexão direta com o banco de dados\n",
    "cursor.close()\n",
    "con.close()"
   ]
  },
  {
   "cell_type": "markdown",
   "id": "565a688d",
   "metadata": {},
   "source": [
    "##### Query abaixo retorna média, com pandas"
   ]
  },
  {
   "cell_type": "code",
   "execution_count": 26,
   "id": "8c560477",
   "metadata": {},
   "outputs": [],
   "source": [
    "# média\n",
    "\n",
    "media_unidadesVendidas = dataFrame['Unidades_Vendidas'].mean()\n"
   ]
  },
  {
   "cell_type": "code",
   "execution_count": 27,
   "id": "6168b80e",
   "metadata": {},
   "outputs": [
    {
     "data": {
      "text/plain": [
       "10.506"
      ]
     },
     "execution_count": 27,
     "metadata": {},
     "output_type": "execute_result"
    }
   ],
   "source": [
    "media_unidadesVendidas"
   ]
  },
  {
   "cell_type": "code",
   "execution_count": 36,
   "id": "d3e37c31",
   "metadata": {},
   "outputs": [],
   "source": [
    "#Média de unidades vendidas por produto\n",
    "\n",
    "media_porProduto = dataFrame.groupby('Nome_Produto')['Unidades_Vendidas'].mean()\n"
   ]
  },
  {
   "cell_type": "code",
   "execution_count": 37,
   "id": "34c0004c",
   "metadata": {},
   "outputs": [
    {
     "data": {
      "text/plain": [
       "Nome_Produto\n",
       "Produto_1     12.000000\n",
       "Produto_10     9.500000\n",
       "Produto_11    14.181818\n",
       "Produto_12     8.846154\n",
       "Produto_13     6.000000\n",
       "Produto_14     9.166667\n",
       "Produto_15     9.750000\n",
       "Produto_16     8.250000\n",
       "Produto_17    11.714286\n",
       "Produto_18    13.083333\n",
       "Produto_19     9.727273\n",
       "Produto_2      9.250000\n",
       "Produto_20     7.555556\n",
       "Produto_21    10.285714\n",
       "Produto_22    13.687500\n",
       "Produto_23    10.818182\n",
       "Produto_24    12.272727\n",
       "Produto_25     9.538462\n",
       "Produto_26     9.363636\n",
       "Produto_27    11.100000\n",
       "Produto_28     9.000000\n",
       "Produto_29     9.692308\n",
       "Produto_3      8.909091\n",
       "Produto_30     9.875000\n",
       "Produto_31     7.900000\n",
       "Produto_32    11.923077\n",
       "Produto_33    12.285714\n",
       "Produto_34     8.100000\n",
       "Produto_35     9.000000\n",
       "Produto_36     9.090909\n",
       "Produto_37    11.000000\n",
       "Produto_38    12.800000\n",
       "Produto_39    12.666667\n",
       "Produto_4     11.153846\n",
       "Produto_40     7.250000\n",
       "Produto_41    11.857143\n",
       "Produto_42    10.272727\n",
       "Produto_43    11.000000\n",
       "Produto_44     7.200000\n",
       "Produto_45     8.875000\n",
       "Produto_46    12.142857\n",
       "Produto_47    10.571429\n",
       "Produto_48    14.000000\n",
       "Produto_49    11.875000\n",
       "Produto_5     10.200000\n",
       "Produto_50    10.545455\n",
       "Produto_6     12.000000\n",
       "Produto_7     13.562500\n",
       "Produto_8     11.071429\n",
       "Produto_9      7.200000\n",
       "Name: Unidades_Vendidas, dtype: float64"
      ]
     },
     "execution_count": 37,
     "metadata": {},
     "output_type": "execute_result"
    }
   ],
   "source": [
    "media_porProduto"
   ]
  },
  {
   "cell_type": "code",
   "execution_count": 42,
   "id": "4009509e",
   "metadata": {},
   "outputs": [],
   "source": [
    "# Média por produto se valor unitário for maior que 199\n",
    "\n",
    "media_com_valorInicial = dataFrame[dataFrame['Valor_Unitario'] > 199]\\\n",
    "                        .groupby('Nome_Produto')['Unidades_Vendidas'].mean()"
   ]
  },
  {
   "cell_type": "code",
   "execution_count": 41,
   "id": "79680b6a",
   "metadata": {},
   "outputs": [
    {
     "data": {
      "text/plain": [
       "Nome_Produto\n",
       "Produto_11     1.0\n",
       "Produto_15     8.0\n",
       "Produto_17    14.0\n",
       "Produto_20     7.0\n",
       "Produto_39    16.0\n",
       "Name: Unidades_Vendidas, dtype: float64"
      ]
     },
     "execution_count": 41,
     "metadata": {},
     "output_type": "execute_result"
    }
   ],
   "source": [
    "media_com_valorInicial"
   ]
  },
  {
   "cell_type": "markdown",
   "id": "d2c9421f",
   "metadata": {},
   "source": [
    "##### Média de unidades vendidas por produto, se valor inicila for maior que 199 e somente se a media de unidades vendidas for maior que 10"
   ]
  },
  {
   "cell_type": "code",
   "execution_count": 44,
   "id": "3d32c75a",
   "metadata": {},
   "outputs": [
    {
     "data": {
      "text/html": [
       "<div>\n",
       "<style scoped>\n",
       "    .dataframe tbody tr th:only-of-type {\n",
       "        vertical-align: middle;\n",
       "    }\n",
       "\n",
       "    .dataframe tbody tr th {\n",
       "        vertical-align: top;\n",
       "    }\n",
       "\n",
       "    .dataframe thead th {\n",
       "        text-align: right;\n",
       "    }\n",
       "</style>\n",
       "<table border=\"1\" class=\"dataframe\">\n",
       "  <thead>\n",
       "    <tr style=\"text-align: right;\">\n",
       "      <th></th>\n",
       "      <th>ID_Pedido</th>\n",
       "      <th>ID_Cliente</th>\n",
       "      <th>Nome_Produto</th>\n",
       "      <th>Valor_Unitario</th>\n",
       "      <th>Unidades_Vendidas</th>\n",
       "      <th>Custo</th>\n",
       "    </tr>\n",
       "  </thead>\n",
       "  <tbody>\n",
       "    <tr>\n",
       "      <th>42</th>\n",
       "      <td>43</td>\n",
       "      <td>72</td>\n",
       "      <td>Produto_39</td>\n",
       "      <td>199.78</td>\n",
       "      <td>16</td>\n",
       "      <td>119.87</td>\n",
       "    </tr>\n",
       "    <tr>\n",
       "      <th>83</th>\n",
       "      <td>84</td>\n",
       "      <td>45</td>\n",
       "      <td>Produto_17</td>\n",
       "      <td>199.62</td>\n",
       "      <td>14</td>\n",
       "      <td>119.77</td>\n",
       "    </tr>\n",
       "  </tbody>\n",
       "</table>\n",
       "</div>"
      ],
      "text/plain": [
       "    ID_Pedido  ID_Cliente Nome_Produto  Valor_Unitario  Unidades_Vendidas  \\\n",
       "42         43          72   Produto_39          199.78                 16   \n",
       "83         84          45   Produto_17          199.62                 14   \n",
       "\n",
       "     Custo  \n",
       "42  119.87  \n",
       "83  119.77  "
      ]
     },
     "execution_count": 44,
     "metadata": {},
     "output_type": "execute_result"
    }
   ],
   "source": [
    "# Alternativa 01\n",
    "\n",
    "dataFrame[dataFrame['Valor_Unitario'] > 199].groupby('Nome_Produto')\\\n",
    "                .filter(lambda x: x['Unidades_Vendidas'].mean() > 10)\n"
   ]
  },
  {
   "cell_type": "code",
   "execution_count": 46,
   "id": "3103b19c",
   "metadata": {},
   "outputs": [
    {
     "data": {
      "text/plain": [
       "Nome_Produto\n",
       "Produto_17    14.0\n",
       "Produto_39    16.0\n",
       "Name: Unidades_Vendidas, dtype: float64"
      ]
     },
     "execution_count": 46,
     "metadata": {},
     "output_type": "execute_result"
    }
   ],
   "source": [
    "# Alternativa B - saída idêntica ao SQL\n",
    "\n",
    "dataFrame[dataFrame['Valor_Unitario'] > 199].groupby('Nome_Produto')\\\n",
    "                .filter(lambda x: x['Unidades_Vendidas'].mean() > 10)\\\n",
    "                .groupby('Nome_Produto')['Unidades_Vendidas'].mean()\n"
   ]
  },
  {
   "cell_type": "code",
   "execution_count": null,
   "id": "bed0c256",
   "metadata": {},
   "outputs": [],
   "source": []
  },
  {
   "cell_type": "code",
   "execution_count": 1,
   "id": "b6a6476e",
   "metadata": {},
   "outputs": [
    {
     "data": {
      "text/plain": [
       "'t'"
      ]
     },
     "execution_count": 1,
     "metadata": {},
     "output_type": "execute_result"
    }
   ],
   "source": [
    "s = 'Data Science Academy'\n",
    "s[2]"
   ]
  },
  {
   "cell_type": "code",
   "execution_count": 2,
   "id": "ef60b882",
   "metadata": {},
   "outputs": [
    {
     "data": {
      "text/plain": [
       "'Dat'"
      ]
     },
     "execution_count": 2,
     "metadata": {},
     "output_type": "execute_result"
    }
   ],
   "source": [
    "s[:3]"
   ]
  },
  {
   "cell_type": "code",
   "execution_count": 3,
   "id": "d2958818",
   "metadata": {},
   "outputs": [
    {
     "data": {
      "text/plain": [
       "[0, 1, 2, 3, 4]"
      ]
     },
     "execution_count": 3,
     "metadata": {},
     "output_type": "execute_result"
    }
   ],
   "source": [
    "[x for x in range(10) if x < 5]"
   ]
  },
  {
   "cell_type": "code",
   "execution_count": 4,
   "id": "85e1bb8f",
   "metadata": {},
   "outputs": [],
   "source": [
    "d3 = {}"
   ]
  },
  {
   "cell_type": "code",
   "execution_count": 5,
   "id": "936ebd3b",
   "metadata": {},
   "outputs": [
    {
     "data": {
      "text/plain": [
       "{}"
      ]
     },
     "execution_count": 5,
     "metadata": {},
     "output_type": "execute_result"
    }
   ],
   "source": [
    "d3"
   ]
  },
  {
   "cell_type": "code",
   "execution_count": 6,
   "id": "4b24930a",
   "metadata": {},
   "outputs": [
    {
     "ename": "SyntaxError",
     "evalue": "invalid syntax (712754540.py, line 1)",
     "output_type": "error",
     "traceback": [
      "\u001b[1;36m  File \u001b[1;32m\"C:\\Users\\alyss\\AppData\\Local\\Temp\\ipykernel_8692\\712754540.py\"\u001b[1;36m, line \u001b[1;32m1\u001b[0m\n\u001b[1;33m    3x = 6\u001b[0m\n\u001b[1;37m     ^\u001b[0m\n\u001b[1;31mSyntaxError\u001b[0m\u001b[1;31m:\u001b[0m invalid syntax\n"
     ]
    }
   ],
   "source": [
    "3x = 6"
   ]
  },
  {
   "cell_type": "code",
   "execution_count": null,
   "id": "63811b17",
   "metadata": {},
   "outputs": [],
   "source": []
  }
 ],
 "metadata": {
  "kernelspec": {
   "display_name": "Python 3 (ipykernel)",
   "language": "python",
   "name": "python3"
  },
  "language_info": {
   "codemirror_mode": {
    "name": "ipython",
    "version": 3
   },
   "file_extension": ".py",
   "mimetype": "text/x-python",
   "name": "python",
   "nbconvert_exporter": "python",
   "pygments_lexer": "ipython3",
   "version": "3.9.13"
  }
 },
 "nbformat": 4,
 "nbformat_minor": 5
}
