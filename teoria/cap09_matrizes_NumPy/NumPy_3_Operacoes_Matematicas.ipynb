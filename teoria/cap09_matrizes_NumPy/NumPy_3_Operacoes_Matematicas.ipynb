{
 "cells": [
  {
   "cell_type": "code",
   "execution_count": 8,
   "id": "53e5f4c9",
   "metadata": {},
   "outputs": [],
   "source": [
    "import numpy as np"
   ]
  },
  {
   "cell_type": "code",
   "execution_count": 9,
   "id": "f1eeecb5",
   "metadata": {},
   "outputs": [],
   "source": [
    "arr15 = np.arange(1, 10)"
   ]
  },
  {
   "cell_type": "code",
   "execution_count": 10,
   "id": "5aa40cce",
   "metadata": {},
   "outputs": [
    {
     "data": {
      "text/plain": [
       "array([1, 2, 3, 4, 5, 6, 7, 8, 9])"
      ]
     },
     "execution_count": 10,
     "metadata": {},
     "output_type": "execute_result"
    }
   ],
   "source": [
    "arr15"
   ]
  },
  {
   "cell_type": "code",
   "execution_count": 11,
   "id": "1b22c529",
   "metadata": {},
   "outputs": [
    {
     "data": {
      "text/plain": [
       "45"
      ]
     },
     "execution_count": 11,
     "metadata": {},
     "output_type": "execute_result"
    }
   ],
   "source": [
    "# Soma dos elementos \n",
    "np.sum(arr15)"
   ]
  },
  {
   "cell_type": "code",
   "execution_count": 12,
   "id": "acff1fe2",
   "metadata": {},
   "outputs": [
    {
     "data": {
      "text/plain": [
       "362880"
      ]
     },
     "execution_count": 12,
     "metadata": {},
     "output_type": "execute_result"
    }
   ],
   "source": [
    "# Produto dos elementos\n",
    "np.prod(arr15)"
   ]
  },
  {
   "cell_type": "code",
   "execution_count": 13,
   "id": "5312d4f6",
   "metadata": {},
   "outputs": [
    {
     "name": "stdout",
     "output_type": "stream",
     "text": [
      "[ 1.  3.  6. 10. 15. 21. 28. 36. 45.]\n",
      "[ 1  3  6 10 15 21 28 36 45]\n"
     ]
    }
   ],
   "source": [
    "# Soma acumulada dos elementos\n",
    "print(np.cumsum(arr15, dtype = float))\n",
    "print(np.cumsum(arr15))"
   ]
  },
  {
   "cell_type": "code",
   "execution_count": 14,
   "id": "57c8bc38",
   "metadata": {},
   "outputs": [],
   "source": [
    "# Criar 2 arrays\n",
    "\n",
    "array1 = np.array([1,2,3,4,5])\n",
    "array2 = np.array([6,7,8,9,10])"
   ]
  },
  {
   "cell_type": "code",
   "execution_count": 15,
   "id": "07b41d0e",
   "metadata": {},
   "outputs": [
    {
     "name": "stdout",
     "output_type": "stream",
     "text": [
      "[91 92 93 94 95]\n",
      "[ 7  9 11 13 15]\n"
     ]
    }
   ],
   "source": [
    "# Soma dos arrays\n",
    "\n",
    "arraySoma = np.add(array1, 90)\n",
    "arraySoma2 = np.add(array1, array2)\n",
    "print(arraySoma)\n",
    "print(arraySoma2)"
   ]
  },
  {
   "cell_type": "markdown",
   "id": "963f4186",
   "metadata": {},
   "source": [
    "### Multiplicação de MATRIZES\n",
    "Para multiplicar matrizes NumPy, podemos usar a função dot() ou o operador @. Ambos os métodos executam a multiplicação matricial. Importante lembrar que para a multiplicação de matrizes possa ser executada, o número de colunas da primeira matriz deve ser igual número de linhas da segunda matriz"
   ]
  },
  {
   "cell_type": "code",
   "execution_count": 16,
   "id": "5f5e53b8",
   "metadata": {},
   "outputs": [],
   "source": [
    "# Criando matrizes\n",
    "matriz1 = np.array([[1,2], [3,4]])\n",
    "matriz2 = np.array([[5,6], [7,8]])"
   ]
  },
  {
   "cell_type": "code",
   "execution_count": 17,
   "id": "576e7fed",
   "metadata": {},
   "outputs": [
    {
     "data": {
      "text/plain": [
       "(2, 2)"
      ]
     },
     "execution_count": 17,
     "metadata": {},
     "output_type": "execute_result"
    }
   ],
   "source": [
    "matriz1.shape"
   ]
  },
  {
   "cell_type": "code",
   "execution_count": 18,
   "id": "247651c2",
   "metadata": {},
   "outputs": [
    {
     "data": {
      "text/plain": [
       "(2, 2)"
      ]
     },
     "execution_count": 18,
     "metadata": {},
     "output_type": "execute_result"
    }
   ],
   "source": [
    "matriz2.shape"
   ]
  },
  {
   "cell_type": "code",
   "execution_count": 19,
   "id": "335b546b",
   "metadata": {},
   "outputs": [
    {
     "name": "stdout",
     "output_type": "stream",
     "text": [
      "[[1 2]\n",
      " [3 4]]\n"
     ]
    }
   ],
   "source": [
    "print(matriz1)"
   ]
  },
  {
   "cell_type": "code",
   "execution_count": 20,
   "id": "561ea406",
   "metadata": {},
   "outputs": [
    {
     "name": "stdout",
     "output_type": "stream",
     "text": [
      "[[5 6]\n",
      " [7 8]]\n"
     ]
    }
   ],
   "source": [
    "print(matriz2)"
   ]
  },
  {
   "cell_type": "code",
   "execution_count": 21,
   "id": "ab157693",
   "metadata": {},
   "outputs": [],
   "source": [
    "# Multiplicando matrizes\n",
    "\n",
    "matrizMultiplica = np.dot(matriz1, matriz2)"
   ]
  },
  {
   "cell_type": "code",
   "execution_count": 22,
   "id": "e0d30df6",
   "metadata": {},
   "outputs": [
    {
     "name": "stdout",
     "output_type": "stream",
     "text": [
      "[[19 22]\n",
      " [43 50]]\n"
     ]
    }
   ],
   "source": [
    "print(matrizMultiplica)"
   ]
  },
  {
   "cell_type": "code",
   "execution_count": 25,
   "id": "be007ba8",
   "metadata": {},
   "outputs": [
    {
     "data": {
      "text/plain": [
       "array([[19, 22],\n",
       "       [43, 50]])"
      ]
     },
     "execution_count": 25,
     "metadata": {},
     "output_type": "execute_result"
    }
   ],
   "source": [
    "matrizMult2 = matriz1 @ matriz2 # Mesma coisa, multiplica matrizes\n",
    "matrizMult2"
   ]
  },
  {
   "cell_type": "markdown",
   "id": "625e64f4",
   "metadata": {},
   "source": [
    "# Slicing (Fatiamento) "
   ]
  },
  {
   "cell_type": "code",
   "execution_count": 26,
   "id": "ae02030f",
   "metadata": {},
   "outputs": [],
   "source": [
    "arr22 = np.diag(np.arange(3))"
   ]
  },
  {
   "cell_type": "code",
   "execution_count": 27,
   "id": "47531982",
   "metadata": {},
   "outputs": [
    {
     "data": {
      "text/plain": [
       "array([[0, 0, 0],\n",
       "       [0, 1, 0],\n",
       "       [0, 0, 2]])"
      ]
     },
     "execution_count": 27,
     "metadata": {},
     "output_type": "execute_result"
    }
   ],
   "source": [
    "arr22"
   ]
  },
  {
   "cell_type": "code",
   "execution_count": 30,
   "id": "c6ace70e",
   "metadata": {},
   "outputs": [
    {
     "data": {
      "text/plain": [
       "0"
      ]
     },
     "execution_count": 30,
     "metadata": {},
     "output_type": "execute_result"
    }
   ],
   "source": [
    "arr22[1,0]"
   ]
  },
  {
   "cell_type": "code",
   "execution_count": 34,
   "id": "195e39dd",
   "metadata": {},
   "outputs": [
    {
     "data": {
      "text/plain": [
       "array([0, 0, 2])"
      ]
     },
     "execution_count": 34,
     "metadata": {},
     "output_type": "execute_result"
    }
   ],
   "source": [
    "arr22[:,2] # Qualquer linha e coluna 2"
   ]
  },
  {
   "cell_type": "code",
   "execution_count": 36,
   "id": "63eee9c1",
   "metadata": {},
   "outputs": [
    {
     "data": {
      "text/plain": [
       "array([0, 1, 2, 3, 4, 5, 6, 7, 8, 9])"
      ]
     },
     "execution_count": 36,
     "metadata": {},
     "output_type": "execute_result"
    }
   ],
   "source": [
    "arr23 = np.arange(10)\n",
    "arr23"
   ]
  },
  {
   "cell_type": "code",
   "execution_count": 41,
   "id": "135365bf",
   "metadata": {},
   "outputs": [
    {
     "data": {
      "text/plain": [
       "array([2, 4, 6, 8])"
      ]
     },
     "execution_count": 41,
     "metadata": {},
     "output_type": "execute_result"
    }
   ],
   "source": [
    "#[inicio;final;salto]\n",
    "arr23[2:9:2]"
   ]
  },
  {
   "cell_type": "code",
   "execution_count": 37,
   "id": "4c614041",
   "metadata": {},
   "outputs": [
    {
     "data": {
      "text/plain": [
       "array([False, False, False, False, False, False, False,  True,  True,\n",
       "       False])"
      ]
     },
     "execution_count": 37,
     "metadata": {},
     "output_type": "execute_result"
    }
   ],
   "source": [
    "teste1 = np.array([1,2,3,4,5,6,7,8,9,10])\n",
    "teste2 = np.array([11,1,2,3,6,5,4,8,9,7])\n",
    "\n",
    "# Comparação item a item\n",
    "\n",
    "teste1 == teste2"
   ]
  },
  {
   "cell_type": "code",
   "execution_count": 38,
   "id": "b0cb142f",
   "metadata": {},
   "outputs": [
    {
     "data": {
      "text/plain": [
       "False"
      ]
     },
     "execution_count": 38,
     "metadata": {},
     "output_type": "execute_result"
    }
   ],
   "source": [
    "# Comparação global\n",
    "\n",
    "np.array_equal(teste1, teste2)"
   ]
  },
  {
   "cell_type": "code",
   "execution_count": 42,
   "id": "5a08482f",
   "metadata": {},
   "outputs": [
    {
     "data": {
      "text/plain": [
       "0"
      ]
     },
     "execution_count": 42,
     "metadata": {},
     "output_type": "execute_result"
    }
   ],
   "source": [
    "arr23.min()"
   ]
  },
  {
   "cell_type": "code",
   "execution_count": 43,
   "id": "ccfac589",
   "metadata": {},
   "outputs": [
    {
     "data": {
      "text/plain": [
       "9"
      ]
     },
     "execution_count": 43,
     "metadata": {},
     "output_type": "execute_result"
    }
   ],
   "source": [
    "arr23.max()"
   ]
  },
  {
   "cell_type": "code",
   "execution_count": 44,
   "id": "621bbc7b",
   "metadata": {},
   "outputs": [],
   "source": [
    "arraySomado = arr23 + 2"
   ]
  },
  {
   "cell_type": "code",
   "execution_count": 45,
   "id": "0f6bb31d",
   "metadata": {},
   "outputs": [
    {
     "data": {
      "text/plain": [
       "array([ 2,  3,  4,  5,  6,  7,  8,  9, 10, 11])"
      ]
     },
     "execution_count": 45,
     "metadata": {},
     "output_type": "execute_result"
    }
   ],
   "source": [
    "arraySomado"
   ]
  },
  {
   "cell_type": "code",
   "execution_count": 47,
   "id": "3ebda6d3",
   "metadata": {},
   "outputs": [
    {
     "data": {
      "text/plain": [
       "array([ 2., 10.,  6.,  7., 56.,  8.])"
      ]
     },
     "execution_count": 47,
     "metadata": {},
     "output_type": "execute_result"
    }
   ],
   "source": [
    "arrayFloat = np.array([1.5, 9.6, 5.8, 7.1,55.89, 7.78])\n",
    "\n",
    "np.around(arrayFloat)"
   ]
  },
  {
   "cell_type": "markdown",
   "id": "9c5d386d",
   "metadata": {},
   "source": [
    "### flatten()"
   ]
  },
  {
   "cell_type": "code",
   "execution_count": 50,
   "id": "5e26ed9d",
   "metadata": {},
   "outputs": [],
   "source": [
    "# \"Achatando\" uma matriz\n",
    "\n",
    "matrizReal = np.array([[10, 20, 30, 40], [50, 60, 70, 80]])"
   ]
  },
  {
   "cell_type": "code",
   "execution_count": 52,
   "id": "57f6a5cb",
   "metadata": {},
   "outputs": [
    {
     "name": "stdout",
     "output_type": "stream",
     "text": [
      "[[10 20 30 40]\n",
      " [50 60 70 80]]\n"
     ]
    }
   ],
   "source": [
    "print(matrizReal)"
   ]
  },
  {
   "cell_type": "code",
   "execution_count": 56,
   "id": "15099eb0",
   "metadata": {},
   "outputs": [
    {
     "data": {
      "text/plain": [
       "2"
      ]
     },
     "execution_count": 56,
     "metadata": {},
     "output_type": "execute_result"
    }
   ],
   "source": [
    "np.ndim(matrizReal)"
   ]
  },
  {
   "cell_type": "code",
   "execution_count": 57,
   "id": "c46a9412",
   "metadata": {},
   "outputs": [],
   "source": [
    "# Achatando\n",
    "\n",
    "matrizAchatada = matrizReal.flatten()"
   ]
  },
  {
   "cell_type": "code",
   "execution_count": 59,
   "id": "05aacdb8",
   "metadata": {},
   "outputs": [
    {
     "name": "stdout",
     "output_type": "stream",
     "text": [
      "[10 20 30 40 50 60 70 80]\n"
     ]
    }
   ],
   "source": [
    "print(matrizAchatada)"
   ]
  },
  {
   "cell_type": "code",
   "execution_count": 61,
   "id": "4bda9ac0",
   "metadata": {},
   "outputs": [
    {
     "data": {
      "text/plain": [
       "array([10, 10, 20, 20, 30, 30, 40, 40, 50, 50, 60, 60, 70, 70, 80, 80])"
      ]
     },
     "execution_count": 61,
     "metadata": {},
     "output_type": "execute_result"
    }
   ],
   "source": [
    "# Repetindo os elementos de array\n",
    "\n",
    "np.repeat(matrizAchatada, 2)"
   ]
  },
  {
   "cell_type": "code",
   "execution_count": 62,
   "id": "39cda8d5",
   "metadata": {},
   "outputs": [
    {
     "data": {
      "text/plain": [
       "array([10, 20, 30, 40, 50, 60, 70, 80, 10, 20, 30, 40, 50, 60, 70, 80, 10,\n",
       "       20, 30, 40, 50, 60, 70, 80])"
      ]
     },
     "execution_count": 62,
     "metadata": {},
     "output_type": "execute_result"
    }
   ],
   "source": [
    "# Repetindo todos os valores\n",
    "\n",
    "np.tile(matrizAchatada, 3)"
   ]
  },
  {
   "cell_type": "code",
   "execution_count": 63,
   "id": "4fc41f9d",
   "metadata": {},
   "outputs": [],
   "source": [
    "arrayCopy = matrizReal"
   ]
  },
  {
   "cell_type": "code",
   "execution_count": 64,
   "id": "13d33f6b",
   "metadata": {},
   "outputs": [
    {
     "name": "stdout",
     "output_type": "stream",
     "text": [
      "[[10 20 30 40]\n",
      " [50 60 70 80]]\n"
     ]
    }
   ],
   "source": [
    "print(arrayCopy)"
   ]
  },
  {
   "cell_type": "code",
   "execution_count": null,
   "id": "0cd0882a",
   "metadata": {},
   "outputs": [],
   "source": []
  }
 ],
 "metadata": {
  "kernelspec": {
   "display_name": "Python 3 (ipykernel)",
   "language": "python",
   "name": "python3"
  },
  "language_info": {
   "codemirror_mode": {
    "name": "ipython",
    "version": 3
   },
   "file_extension": ".py",
   "mimetype": "text/x-python",
   "name": "python",
   "nbconvert_exporter": "python",
   "pygments_lexer": "ipython3",
   "version": "3.9.13"
  }
 },
 "nbformat": 4,
 "nbformat_minor": 5
}
