{
 "cells": [
  {
   "cell_type": "markdown",
   "id": "36973cca",
   "metadata": {},
   "source": [
    "# NumPy\n",
    "\n",
    "### https://numpy.org/"
   ]
  },
  {
   "cell_type": "code",
   "execution_count": 5,
   "id": "a748eaf1",
   "metadata": {},
   "outputs": [],
   "source": [
    "# Importando NumPy\n",
    "import numpy as dsa"
   ]
  },
  {
   "cell_type": "code",
   "execution_count": 6,
   "id": "f815f9eb",
   "metadata": {},
   "outputs": [
    {
     "data": {
      "text/plain": [
       "'1.22.2'"
      ]
     },
     "execution_count": 6,
     "metadata": {},
     "output_type": "execute_result"
    }
   ],
   "source": [
    "dsa.__version__"
   ]
  },
  {
   "cell_type": "code",
   "execution_count": null,
   "id": "3f165c43",
   "metadata": {},
   "outputs": [],
   "source": []
  },
  {
   "cell_type": "code",
   "execution_count": 7,
   "id": "37955496",
   "metadata": {},
   "outputs": [
    {
     "data": {
      "text/plain": [
       "'1.22.2'"
      ]
     },
     "execution_count": 7,
     "metadata": {},
     "output_type": "execute_result"
    }
   ],
   "source": [
    "dsa.__version__"
   ]
  },
  {
   "cell_type": "markdown",
   "id": "08eb31c8",
   "metadata": {},
   "source": [
    "## Criando arrays com NumPy"
   ]
  },
  {
   "cell_type": "code",
   "execution_count": 8,
   "id": "58c9edc7",
   "metadata": {},
   "outputs": [],
   "source": [
    "arr1 = dsa.array([10,20,30,43,59,87,45,12,19,789,62,14,17,28,39])"
   ]
  },
  {
   "cell_type": "code",
   "execution_count": 9,
   "id": "f6266b06",
   "metadata": {},
   "outputs": [
    {
     "name": "stdout",
     "output_type": "stream",
     "text": [
      "[ 10  20  30  43  59  87  45  12  19 789  62  14  17  28  39]\n"
     ]
    }
   ],
   "source": [
    "print(arr1)"
   ]
  },
  {
   "cell_type": "code",
   "execution_count": 10,
   "id": "e0be2aad",
   "metadata": {},
   "outputs": [
    {
     "data": {
      "text/plain": [
       "numpy.ndarray"
      ]
     },
     "execution_count": 10,
     "metadata": {},
     "output_type": "execute_result"
    }
   ],
   "source": [
    "type(arr1)"
   ]
  },
  {
   "cell_type": "code",
   "execution_count": 11,
   "id": "144d48b0",
   "metadata": {},
   "outputs": [
    {
     "data": {
      "text/plain": [
       "(15,)"
      ]
     },
     "execution_count": 11,
     "metadata": {},
     "output_type": "execute_result"
    }
   ],
   "source": [
    "arr1.shape # tamanho"
   ]
  },
  {
   "cell_type": "code",
   "execution_count": 12,
   "id": "1a65abec",
   "metadata": {},
   "outputs": [
    {
     "data": {
      "text/plain": [
       "59"
      ]
     },
     "execution_count": 12,
     "metadata": {},
     "output_type": "execute_result"
    }
   ],
   "source": [
    "arr1[4]"
   ]
  },
  {
   "cell_type": "code",
   "execution_count": 13,
   "id": "d8bb5438",
   "metadata": {},
   "outputs": [
    {
     "data": {
      "text/plain": [
       "array([20, 30, 43])"
      ]
     },
     "execution_count": 13,
     "metadata": {},
     "output_type": "execute_result"
    }
   ],
   "source": [
    "arr1[1:4] #indexação"
   ]
  },
  {
   "cell_type": "code",
   "execution_count": 14,
   "id": "1b4bf98f",
   "metadata": {},
   "outputs": [
    {
     "data": {
      "text/plain": [
       "array([20, 30, 43, 59])"
      ]
     },
     "execution_count": 14,
     "metadata": {},
     "output_type": "execute_result"
    }
   ],
   "source": [
    "arr1[1:4+1]"
   ]
  },
  {
   "cell_type": "code",
   "execution_count": 15,
   "id": "4dcbc323",
   "metadata": {},
   "outputs": [],
   "source": [
    "# Criando uma lista de índices\n",
    "indices = [1, 2, 5, 6]"
   ]
  },
  {
   "cell_type": "code",
   "execution_count": 16,
   "id": "74a319fb",
   "metadata": {},
   "outputs": [
    {
     "data": {
      "text/plain": [
       "array([20, 30, 87, 45])"
      ]
     },
     "execution_count": 16,
     "metadata": {},
     "output_type": "execute_result"
    }
   ],
   "source": [
    "arr1[indices] "
   ]
  },
  {
   "cell_type": "markdown",
   "id": "efa05542",
   "metadata": {},
   "source": [
    "#### Criando máscara (padrão) para elementos"
   ]
  },
  {
   "cell_type": "code",
   "execution_count": 17,
   "id": "4ad795ba",
   "metadata": {},
   "outputs": [],
   "source": [
    "# máscara para elementos pares\n",
    "mask = (arr1 % 2 == 0) #retorna pares"
   ]
  },
  {
   "cell_type": "code",
   "execution_count": 18,
   "id": "885c83a1",
   "metadata": {},
   "outputs": [
    {
     "data": {
      "text/plain": [
       "array([10, 20, 30, 12, 62, 14, 28])"
      ]
     },
     "execution_count": 18,
     "metadata": {},
     "output_type": "execute_result"
    }
   ],
   "source": [
    "arr1[mask]"
   ]
  },
  {
   "cell_type": "code",
   "execution_count": 19,
   "id": "ff72b4d1",
   "metadata": {},
   "outputs": [
    {
     "data": {
      "text/plain": [
       "array([ True,  True,  True, False, False, False, False,  True, False,\n",
       "       False,  True,  True, False,  True, False])"
      ]
     },
     "execution_count": 19,
     "metadata": {},
     "output_type": "execute_result"
    }
   ],
   "source": [
    "mask"
   ]
  },
  {
   "cell_type": "code",
   "execution_count": null,
   "id": "e2b26307",
   "metadata": {},
   "outputs": [],
   "source": []
  },
  {
   "cell_type": "code",
   "execution_count": 20,
   "id": "d407e5cb",
   "metadata": {},
   "outputs": [],
   "source": [
    "## Alterando um elemento do array\n",
    "arr1[0] = 189"
   ]
  },
  {
   "cell_type": "code",
   "execution_count": 21,
   "id": "53a59ac1",
   "metadata": {},
   "outputs": [
    {
     "name": "stdout",
     "output_type": "stream",
     "text": [
      "[189  20  30  43  59  87  45  12  19 789  62  14  17  28  39]\n"
     ]
    }
   ],
   "source": [
    "print(arr1)"
   ]
  },
  {
   "cell_type": "markdown",
   "id": "2952785c",
   "metadata": {},
   "source": [
    "\n",
    "# Não é possível misturar tipos de dados em array com NumPy"
   ]
  },
  {
   "cell_type": "code",
   "execution_count": 22,
   "id": "56f03c4f",
   "metadata": {},
   "outputs": [
    {
     "name": "stdout",
     "output_type": "stream",
     "text": [
      "Não foi possível colocar String, pois o tipo de dado é int\n"
     ]
    }
   ],
   "source": [
    "try:\n",
    "    arr[0] = \"Hoje acordei\"\n",
    "except:\n",
    "    print(\"Não foi possível colocar String, pois o tipo de dado é int\")\n",
    "    "
   ]
  },
  {
   "cell_type": "code",
   "execution_count": 23,
   "id": "a1be2c19",
   "metadata": {},
   "outputs": [
    {
     "name": "stdout",
     "output_type": "stream",
     "text": [
      "[99999    20    30    43    59    87    45    12    19   789    62    14\n",
      "    17    28    39]\n"
     ]
    }
   ],
   "source": [
    "try:\n",
    "    arr1[0] = 99999\n",
    "except:\n",
    "    print(\"Não foi possível colocar String, pois o tipo de dado é int\")\n",
    "    \n",
    "print(arr1)"
   ]
  },
  {
   "cell_type": "markdown",
   "id": "659c4632",
   "metadata": {},
   "source": [
    "# "
   ]
  },
  {
   "cell_type": "markdown",
   "id": "176d56be",
   "metadata": {},
   "source": [
    "# Funções NumPy"
   ]
  },
  {
   "cell_type": "code",
   "execution_count": 24,
   "id": "424ba0aa",
   "metadata": {},
   "outputs": [],
   "source": [
    "# Função Array cria um array Numpy\n",
    "arr2 = dsa.array([1, 2, 3, 4, 5, 6, 7, 8, 9, 10])"
   ]
  },
  {
   "cell_type": "code",
   "execution_count": 25,
   "id": "41c41eaa",
   "metadata": {},
   "outputs": [
    {
     "name": "stdout",
     "output_type": "stream",
     "text": [
      "[ 1  2  3  4  5  6  7  8  9 10]\n"
     ]
    }
   ],
   "source": [
    "print(arr2)"
   ]
  },
  {
   "cell_type": "code",
   "execution_count": 26,
   "id": "b708a687",
   "metadata": {},
   "outputs": [
    {
     "data": {
      "text/plain": [
       "numpy.ndarray"
      ]
     },
     "execution_count": 26,
     "metadata": {},
     "output_type": "execute_result"
    }
   ],
   "source": [
    "type(arr2)"
   ]
  },
  {
   "cell_type": "code",
   "execution_count": 27,
   "id": "95b77e34",
   "metadata": {},
   "outputs": [
    {
     "data": {
      "text/plain": [
       "array([ 1,  1,  1,  2,  2,  2,  3,  3,  3,  4,  4,  4,  5,  5,  5,  6,  6,\n",
       "        6,  7,  7,  7,  8,  8,  8,  9,  9,  9, 10, 10, 10])"
      ]
     },
     "execution_count": 27,
     "metadata": {},
     "output_type": "execute_result"
    }
   ],
   "source": [
    "arr2.repeat(3)"
   ]
  },
  {
   "cell_type": "code",
   "execution_count": 28,
   "id": "8b75725c",
   "metadata": {},
   "outputs": [
    {
     "data": {
      "text/plain": [
       "True"
      ]
     },
     "execution_count": 28,
     "metadata": {},
     "output_type": "execute_result"
    }
   ],
   "source": [
    "arr2.all()"
   ]
  },
  {
   "cell_type": "code",
   "execution_count": 29,
   "id": "0c631ddd",
   "metadata": {},
   "outputs": [
    {
     "data": {
      "text/plain": [
       "array([ 1,  3,  6, 10, 15, 21, 28, 36, 45, 55])"
      ]
     },
     "execution_count": 29,
     "metadata": {},
     "output_type": "execute_result"
    }
   ],
   "source": [
    "arr2.cumsum() # soma acumulada dos elementos"
   ]
  },
  {
   "cell_type": "code",
   "execution_count": 30,
   "id": "c29fdd94",
   "metadata": {},
   "outputs": [
    {
     "data": {
      "text/plain": [
       "array([      1,       2,       6,      24,     120,     720,    5040,\n",
       "         40320,  362880, 3628800])"
      ]
     },
     "execution_count": 30,
     "metadata": {},
     "output_type": "execute_result"
    }
   ],
   "source": [
    "arr2.cumprod()"
   ]
  },
  {
   "cell_type": "code",
   "execution_count": 31,
   "id": "df1f225b",
   "metadata": {},
   "outputs": [],
   "source": [
    "arr3 = dsa.arange(0,50,5)"
   ]
  },
  {
   "cell_type": "code",
   "execution_count": 32,
   "id": "8658df80",
   "metadata": {},
   "outputs": [
    {
     "data": {
      "text/plain": [
       "array([ 0,  5, 10, 15, 20, 25, 30, 35, 40, 45])"
      ]
     },
     "execution_count": 32,
     "metadata": {},
     "output_type": "execute_result"
    }
   ],
   "source": [
    "arr3"
   ]
  },
  {
   "cell_type": "code",
   "execution_count": 33,
   "id": "ca947a3a",
   "metadata": {},
   "outputs": [
    {
     "data": {
      "text/plain": [
       "numpy.ndarray"
      ]
     },
     "execution_count": 33,
     "metadata": {},
     "output_type": "execute_result"
    }
   ],
   "source": [
    "type(arr3)"
   ]
  },
  {
   "cell_type": "code",
   "execution_count": 34,
   "id": "e5b0f1ed",
   "metadata": {},
   "outputs": [
    {
     "data": {
      "text/plain": [
       "(10,)"
      ]
     },
     "execution_count": 34,
     "metadata": {},
     "output_type": "execute_result"
    }
   ],
   "source": [
    "dsa.shape(arr3)"
   ]
  },
  {
   "cell_type": "code",
   "execution_count": 35,
   "id": "a3f2e0d9",
   "metadata": {},
   "outputs": [
    {
     "name": "stdout",
     "output_type": "stream",
     "text": [
      "int32\n"
     ]
    }
   ],
   "source": [
    "print(arr3.dtype)"
   ]
  },
  {
   "cell_type": "code",
   "execution_count": 36,
   "id": "cd3a7d22",
   "metadata": {},
   "outputs": [],
   "source": [
    "#Criando arrays preenchidos por zero\n",
    "arr4 = dsa.zeros(10)"
   ]
  },
  {
   "cell_type": "code",
   "execution_count": 37,
   "id": "98ad1216",
   "metadata": {},
   "outputs": [
    {
     "data": {
      "text/plain": [
       "array([0., 0., 0., 0., 0., 0., 0., 0., 0., 0.])"
      ]
     },
     "execution_count": 37,
     "metadata": {},
     "output_type": "execute_result"
    }
   ],
   "source": [
    "arr4"
   ]
  },
  {
   "cell_type": "code",
   "execution_count": 38,
   "id": "3b356570",
   "metadata": {},
   "outputs": [],
   "source": [
    "# Retorna 1 nas posições em diagonal e 0 no restante\n",
    "arr5 = dsa.eye(5)"
   ]
  },
  {
   "cell_type": "code",
   "execution_count": 39,
   "id": "5b84eb11",
   "metadata": {},
   "outputs": [
    {
     "data": {
      "text/plain": [
       "array([[1., 0., 0., 0., 0.],\n",
       "       [0., 1., 0., 0., 0.],\n",
       "       [0., 0., 1., 0., 0.],\n",
       "       [0., 0., 0., 1., 0.],\n",
       "       [0., 0., 0., 0., 1.]])"
      ]
     },
     "execution_count": 39,
     "metadata": {},
     "output_type": "execute_result"
    }
   ],
   "source": [
    "arr5"
   ]
  },
  {
   "cell_type": "code",
   "execution_count": 40,
   "id": "3bc4fb6f",
   "metadata": {},
   "outputs": [],
   "source": [
    "# Os valores passados como parâmetros, formam uma diagonal\n",
    "\n",
    "arr6 = dsa.diag(dsa.array([1, 2, 3, 4, 5])) #utilizando NumPy para criar outra lista NumPy\n"
   ]
  },
  {
   "cell_type": "code",
   "execution_count": 41,
   "id": "2b5eca08",
   "metadata": {},
   "outputs": [
    {
     "name": "stdout",
     "output_type": "stream",
     "text": [
      "[[1 0 0 0 0]\n",
      " [0 2 0 0 0]\n",
      " [0 0 3 0 0]\n",
      " [0 0 0 4 0]\n",
      " [0 0 0 0 5]]\n"
     ]
    }
   ],
   "source": [
    "print(arr6)"
   ]
  },
  {
   "cell_type": "code",
   "execution_count": 42,
   "id": "d22628a4",
   "metadata": {},
   "outputs": [],
   "source": [
    "arr7 = dsa.array([True, True, False, False])"
   ]
  },
  {
   "cell_type": "code",
   "execution_count": 43,
   "id": "18f2e500",
   "metadata": {},
   "outputs": [
    {
     "name": "stdout",
     "output_type": "stream",
     "text": [
      "[ True  True False False]\n"
     ]
    }
   ],
   "source": [
    "print(arr7)"
   ]
  },
  {
   "cell_type": "code",
   "execution_count": 44,
   "id": "f829c6d6",
   "metadata": {},
   "outputs": [],
   "source": [
    "arr8 = dsa.array([\"Alysson\", \"Roberto\", \"Vitória\"])"
   ]
  },
  {
   "cell_type": "code",
   "execution_count": 45,
   "id": "384661c0",
   "metadata": {},
   "outputs": [
    {
     "name": "stdout",
     "output_type": "stream",
     "text": [
      "['Alysson' 'Roberto' 'Vitória']\n"
     ]
    }
   ],
   "source": [
    "print(arr8)"
   ]
  },
  {
   "cell_type": "markdown",
   "id": "5b2e77a8",
   "metadata": {},
   "source": [
    "#### função linspace() do NumPy é usada para criar sequência de números igualmente espaçados dentro de um intervalo "
   ]
  },
  {
   "cell_type": "code",
   "execution_count": 46,
   "id": "5607ab49",
   "metadata": {},
   "outputs": [
    {
     "name": "stdout",
     "output_type": "stream",
     "text": [
      "[ 0.          0.20408163  0.40816327  0.6122449   0.81632653  1.02040816\n",
      "  1.2244898   1.42857143  1.63265306  1.83673469  2.04081633  2.24489796\n",
      "  2.44897959  2.65306122  2.85714286  3.06122449  3.26530612  3.46938776\n",
      "  3.67346939  3.87755102  4.08163265  4.28571429  4.48979592  4.69387755\n",
      "  4.89795918  5.10204082  5.30612245  5.51020408  5.71428571  5.91836735\n",
      "  6.12244898  6.32653061  6.53061224  6.73469388  6.93877551  7.14285714\n",
      "  7.34693878  7.55102041  7.75510204  7.95918367  8.16326531  8.36734694\n",
      "  8.57142857  8.7755102   8.97959184  9.18367347  9.3877551   9.59183673\n",
      "  9.79591837 10.        ]\n"
     ]
    }
   ],
   "source": [
    "print(dsa.linspace(0,10))"
   ]
  },
  {
   "cell_type": "code",
   "execution_count": 47,
   "id": "cbe8dcda",
   "metadata": {},
   "outputs": [
    {
     "name": "stdout",
     "output_type": "stream",
     "text": [
      "[0.         0.55555556 1.11111111 1.66666667 2.22222222 2.77777778\n",
      " 3.33333333 3.88888889 4.44444444 5.        ]\n"
     ]
    }
   ],
   "source": [
    "print(dsa.linspace(0, 5, 10))"
   ]
  },
  {
   "cell_type": "code",
   "execution_count": 48,
   "id": "dd821630",
   "metadata": {},
   "outputs": [
    {
     "name": "stdout",
     "output_type": "stream",
     "text": [
      "[1.00000000e+00 3.59381366e+00 1.29154967e+01 4.64158883e+01\n",
      " 1.66810054e+02 5.99484250e+02 2.15443469e+03 7.74263683e+03\n",
      " 2.78255940e+04 1.00000000e+05]\n"
     ]
    }
   ],
   "source": [
    "print(dsa.logspace(0, 5, 10))"
   ]
  },
  {
   "cell_type": "markdown",
   "id": "bde324bf",
   "metadata": {},
   "source": [
    "# MATRIZES"
   ]
  },
  {
   "cell_type": "code",
   "execution_count": 49,
   "id": "bf61efba",
   "metadata": {},
   "outputs": [],
   "source": [
    "arr9 = dsa.array([[1,2,3],[4,5,6],[7,8,9]])"
   ]
  },
  {
   "cell_type": "code",
   "execution_count": 50,
   "id": "e57ec926",
   "metadata": {},
   "outputs": [
    {
     "name": "stdout",
     "output_type": "stream",
     "text": [
      "[[1 2 3]\n",
      " [4 5 6]\n",
      " [7 8 9]]\n"
     ]
    }
   ],
   "source": [
    "print(arr9)"
   ]
  },
  {
   "cell_type": "code",
   "execution_count": 51,
   "id": "410a4648",
   "metadata": {},
   "outputs": [
    {
     "name": "stdout",
     "output_type": "stream",
     "text": [
      "(3, 3)\n"
     ]
    }
   ],
   "source": [
    "print(arr9.shape)"
   ]
  },
  {
   "cell_type": "code",
   "execution_count": 52,
   "id": "3a952516",
   "metadata": {},
   "outputs": [],
   "source": [
    "# Criando uma matriz 2x3 com números \"1\"\n",
    "arr10 = dsa.ones((2,3))"
   ]
  },
  {
   "cell_type": "code",
   "execution_count": 53,
   "id": "3d32a661",
   "metadata": {},
   "outputs": [
    {
     "data": {
      "text/plain": [
       "array([[1., 1., 1.],\n",
       "       [1., 1., 1.]])"
      ]
     },
     "execution_count": 53,
     "metadata": {},
     "output_type": "execute_result"
    }
   ],
   "source": [
    "arr10"
   ]
  },
  {
   "cell_type": "code",
   "execution_count": 54,
   "id": "2fbba855",
   "metadata": {},
   "outputs": [],
   "source": [
    "# criando lista NumPy utilizando listas comuns\n",
    "lista1 = [[13,48,95], [89,99,56], [58,96,32]]"
   ]
  },
  {
   "cell_type": "code",
   "execution_count": 55,
   "id": "8b554e35",
   "metadata": {},
   "outputs": [],
   "source": [
    "arr11 = dsa.matrix(lista1)"
   ]
  },
  {
   "cell_type": "code",
   "execution_count": 56,
   "id": "8caf441e",
   "metadata": {},
   "outputs": [
    {
     "data": {
      "text/plain": [
       "numpy.matrix"
      ]
     },
     "execution_count": 56,
     "metadata": {},
     "output_type": "execute_result"
    }
   ],
   "source": [
    "type(arr11)"
   ]
  },
  {
   "cell_type": "code",
   "execution_count": 57,
   "id": "6537a040",
   "metadata": {},
   "outputs": [
    {
     "name": "stdout",
     "output_type": "stream",
     "text": [
      "[[13, 48, 95], [89, 99, 56], [58, 96, 32]]\n"
     ]
    }
   ],
   "source": [
    "print(lista1)"
   ]
  },
  {
   "cell_type": "code",
   "execution_count": 58,
   "id": "a52015c6",
   "metadata": {},
   "outputs": [
    {
     "name": "stdout",
     "output_type": "stream",
     "text": [
      "[[13 48 95]\n",
      " [89 99 56]\n",
      " [58 96 32]]\n"
     ]
    }
   ],
   "source": [
    "print(arr11)"
   ]
  },
  {
   "cell_type": "code",
   "execution_count": 59,
   "id": "bd81acf3",
   "metadata": {},
   "outputs": [
    {
     "data": {
      "text/plain": [
       "(3, 3)"
      ]
     },
     "execution_count": 59,
     "metadata": {},
     "output_type": "execute_result"
    }
   ],
   "source": [
    "arr11.shape #Matriz 3x3 - 3 itens com 3 itens de profundidade"
   ]
  },
  {
   "cell_type": "code",
   "execution_count": 60,
   "id": "bd1d8508",
   "metadata": {},
   "outputs": [
    {
     "data": {
      "text/plain": [
       "9"
      ]
     },
     "execution_count": 60,
     "metadata": {},
     "output_type": "execute_result"
    }
   ],
   "source": [
    "arr11.size #"
   ]
  },
  {
   "cell_type": "code",
   "execution_count": 61,
   "id": "f82b759b",
   "metadata": {},
   "outputs": [
    {
     "data": {
      "text/plain": [
       "32"
      ]
     },
     "execution_count": 61,
     "metadata": {},
     "output_type": "execute_result"
    }
   ],
   "source": [
    "arr11[2,2]"
   ]
  },
  {
   "cell_type": "code",
   "execution_count": 62,
   "id": "9912c96c",
   "metadata": {},
   "outputs": [
    {
     "data": {
      "text/plain": [
       "32"
      ]
     },
     "execution_count": 62,
     "metadata": {},
     "output_type": "execute_result"
    }
   ],
   "source": [
    "lista1[2][2]"
   ]
  },
  {
   "cell_type": "code",
   "execution_count": 63,
   "id": "31b0d4e6",
   "metadata": {},
   "outputs": [
    {
     "data": {
      "text/plain": [
       "matrix([[95],\n",
       "        [56]])"
      ]
     },
     "execution_count": 63,
     "metadata": {},
     "output_type": "execute_result"
    }
   ],
   "source": [
    "# indexação da matriz\n",
    "arr11[0:2,2]"
   ]
  },
  {
   "cell_type": "code",
   "execution_count": 64,
   "id": "58e24fe2",
   "metadata": {},
   "outputs": [
    {
     "data": {
      "text/plain": [
       "matrix([[89, 99, 56]])"
      ]
     },
     "execution_count": 64,
     "metadata": {},
     "output_type": "execute_result"
    }
   ],
   "source": [
    "arr11[1,]"
   ]
  },
  {
   "cell_type": "code",
   "execution_count": 65,
   "id": "1b43dcc3",
   "metadata": {},
   "outputs": [],
   "source": [
    "arr11[1,2] = 89789"
   ]
  },
  {
   "cell_type": "code",
   "execution_count": 66,
   "id": "9aba370f",
   "metadata": {},
   "outputs": [
    {
     "data": {
      "text/plain": [
       "matrix([[   13,    48,    95],\n",
       "        [   89,    99, 89789],\n",
       "        [   58,    96,    32]])"
      ]
     },
     "execution_count": 66,
     "metadata": {},
     "output_type": "execute_result"
    }
   ],
   "source": [
    "arr11"
   ]
  },
  {
   "cell_type": "code",
   "execution_count": 67,
   "id": "9ba0ea01",
   "metadata": {},
   "outputs": [],
   "source": [
    "## Forçando o tipo de dado com NumPy\n",
    "\n",
    "x = dsa.array([1, 2])\n",
    "y = dsa.array([2.3, 3.6])\n",
    "z = dsa.array([1,3], dtype = dsa.float64) # Forçando a estrutura a ser float"
   ]
  },
  {
   "cell_type": "code",
   "execution_count": 68,
   "id": "f1612d40",
   "metadata": {},
   "outputs": [
    {
     "name": "stdout",
     "output_type": "stream",
     "text": [
      "int32 float64 float64\n"
     ]
    }
   ],
   "source": [
    "print(x.dtype, y.dtype, z.dtype)"
   ]
  },
  {
   "cell_type": "code",
   "execution_count": 69,
   "id": "a055ec9f",
   "metadata": {},
   "outputs": [
    {
     "data": {
      "text/plain": [
       "array([1., 3.])"
      ]
     },
     "execution_count": 69,
     "metadata": {},
     "output_type": "execute_result"
    }
   ],
   "source": [
    "z"
   ]
  },
  {
   "cell_type": "code",
   "execution_count": 70,
   "id": "dde0d692",
   "metadata": {},
   "outputs": [],
   "source": [
    "arr12 = dsa.array([[24, 76, 96], [12, 65, 9]], dtype = float)"
   ]
  },
  {
   "cell_type": "code",
   "execution_count": 71,
   "id": "e0b4f580",
   "metadata": {},
   "outputs": [
    {
     "data": {
      "text/plain": [
       "array([[24., 76., 96.],\n",
       "       [12., 65.,  9.]])"
      ]
     },
     "execution_count": 71,
     "metadata": {},
     "output_type": "execute_result"
    }
   ],
   "source": [
    "arr12"
   ]
  },
  {
   "cell_type": "markdown",
   "id": "8ce68e07",
   "metadata": {},
   "source": [
    "itemsize de array é atributo que retorna o tamanho em bytes de cada elemento de array\n"
   ]
  },
  {
   "cell_type": "code",
   "execution_count": 72,
   "id": "079a84cf",
   "metadata": {},
   "outputs": [
    {
     "data": {
      "text/plain": [
       "8"
      ]
     },
     "execution_count": 72,
     "metadata": {},
     "output_type": "execute_result"
    }
   ],
   "source": [
    "arr12.itemsize"
   ]
  },
  {
   "cell_type": "code",
   "execution_count": 73,
   "id": "247b65cf",
   "metadata": {},
   "outputs": [
    {
     "data": {
      "text/plain": [
       "48"
      ]
     },
     "execution_count": 73,
     "metadata": {},
     "output_type": "execute_result"
    }
   ],
   "source": [
    "arr12.nbytes"
   ]
  },
  {
   "cell_type": "code",
   "execution_count": 74,
   "id": "a23c265f",
   "metadata": {},
   "outputs": [
    {
     "data": {
      "text/plain": [
       "2"
      ]
     },
     "execution_count": 74,
     "metadata": {},
     "output_type": "execute_result"
    }
   ],
   "source": [
    "arr12.ndim"
   ]
  },
  {
   "cell_type": "markdown",
   "id": "3ae05c76",
   "metadata": {},
   "source": [
    "# Manipulando objetos de 3 e 4 dimensões com NumPy"
   ]
  },
  {
   "cell_type": "code",
   "execution_count": 75,
   "id": "e7037b9d",
   "metadata": {},
   "outputs": [],
   "source": [
    "arr_3d = dsa.array([\n",
    "    [\n",
    "        [1, 2, 3, 4],\n",
    "        [5, 6, 7, 8],\n",
    "        [9, 10, 11, 12]\n",
    "    ],\n",
    "    [\n",
    "        [13, 14, 15, 16],\n",
    "        [17, 18, 19, 20],\n",
    "        [21, 22, 23, 24]\n",
    "    ]\n",
    "])"
   ]
  },
  {
   "cell_type": "code",
   "execution_count": 76,
   "id": "d6888299",
   "metadata": {},
   "outputs": [
    {
     "name": "stdout",
     "output_type": "stream",
     "text": [
      "[[[ 1  2  3  4]\n",
      "  [ 5  6  7  8]\n",
      "  [ 9 10 11 12]]\n",
      "\n",
      " [[13 14 15 16]\n",
      "  [17 18 19 20]\n",
      "  [21 22 23 24]]]\n"
     ]
    }
   ],
   "source": [
    "print(arr_3d)"
   ]
  },
  {
   "cell_type": "code",
   "execution_count": 77,
   "id": "9fb981cd",
   "metadata": {},
   "outputs": [
    {
     "data": {
      "text/plain": [
       "(2, 3, 4)"
      ]
     },
     "execution_count": 77,
     "metadata": {},
     "output_type": "execute_result"
    }
   ],
   "source": [
    "arr_3d.shape # 2 linhas, 3 colunas e profundidade iguall a 4"
   ]
  },
  {
   "cell_type": "code",
   "execution_count": 78,
   "id": "b1c08600",
   "metadata": {},
   "outputs": [
    {
     "data": {
      "text/plain": [
       "24"
      ]
     },
     "execution_count": 78,
     "metadata": {},
     "output_type": "execute_result"
    }
   ],
   "source": [
    "arr_3d.size"
   ]
  },
  {
   "cell_type": "code",
   "execution_count": 79,
   "id": "96995b07",
   "metadata": {},
   "outputs": [
    {
     "data": {
      "text/plain": [
       "array([[13, 14, 15, 16],\n",
       "       [17, 18, 19, 20],\n",
       "       [21, 22, 23, 24]])"
      ]
     },
     "execution_count": 79,
     "metadata": {},
     "output_type": "execute_result"
    }
   ],
   "source": [
    "arr_3d[1]"
   ]
  },
  {
   "cell_type": "code",
   "execution_count": 80,
   "id": "daf918c4",
   "metadata": {},
   "outputs": [
    {
     "data": {
      "text/plain": [
       "7"
      ]
     },
     "execution_count": 80,
     "metadata": {},
     "output_type": "execute_result"
    }
   ],
   "source": [
    "arr_3d[0,1,2]"
   ]
  },
  {
   "cell_type": "code",
   "execution_count": 81,
   "id": "1cb8a97d",
   "metadata": {},
   "outputs": [
    {
     "data": {
      "text/plain": [
       "3"
      ]
     },
     "execution_count": 81,
     "metadata": {},
     "output_type": "execute_result"
    }
   ],
   "source": [
    "arr_3d.ndim #Numero de dimensões"
   ]
  },
  {
   "cell_type": "code",
   "execution_count": 82,
   "id": "03fed5b5",
   "metadata": {},
   "outputs": [],
   "source": [
    "# Criando array de 4 dimensões"
   ]
  },
  {
   "cell_type": "code",
   "execution_count": 83,
   "id": "ae96e3df",
   "metadata": {},
   "outputs": [],
   "source": [
    "arr_4d = dsa.random.randint(low=0, high=10, size=(2, 4, 4, 5))"
   ]
  },
  {
   "cell_type": "code",
   "execution_count": 84,
   "id": "6df045f1",
   "metadata": {},
   "outputs": [
    {
     "data": {
      "text/plain": [
       "array([[[[3, 0, 6, 1, 9],\n",
       "         [9, 1, 1, 1, 8],\n",
       "         [2, 5, 0, 3, 2],\n",
       "         [8, 7, 6, 3, 6]],\n",
       "\n",
       "        [[9, 2, 0, 3, 7],\n",
       "         [0, 5, 7, 9, 7],\n",
       "         [8, 3, 7, 6, 8],\n",
       "         [8, 7, 0, 8, 3]],\n",
       "\n",
       "        [[9, 9, 6, 2, 7],\n",
       "         [7, 8, 7, 0, 5],\n",
       "         [5, 5, 7, 1, 4],\n",
       "         [7, 1, 6, 7, 4]],\n",
       "\n",
       "        [[8, 1, 0, 9, 2],\n",
       "         [1, 3, 9, 8, 5],\n",
       "         [8, 5, 1, 2, 1],\n",
       "         [6, 2, 7, 3, 6]]],\n",
       "\n",
       "\n",
       "       [[[2, 8, 4, 4, 8],\n",
       "         [2, 9, 1, 8, 1],\n",
       "         [8, 8, 6, 0, 0],\n",
       "         [2, 0, 1, 5, 4]],\n",
       "\n",
       "        [[8, 5, 5, 7, 6],\n",
       "         [6, 3, 3, 2, 0],\n",
       "         [2, 0, 8, 4, 1],\n",
       "         [8, 9, 3, 2, 3]],\n",
       "\n",
       "        [[2, 2, 7, 4, 3],\n",
       "         [5, 4, 5, 1, 0],\n",
       "         [6, 8, 0, 9, 8],\n",
       "         [3, 9, 1, 3, 4]],\n",
       "\n",
       "        [[9, 4, 3, 3, 2],\n",
       "         [6, 4, 3, 0, 5],\n",
       "         [6, 9, 5, 0, 3],\n",
       "         [8, 8, 4, 7, 9]]]])"
      ]
     },
     "execution_count": 84,
     "metadata": {},
     "output_type": "execute_result"
    }
   ],
   "source": [
    "arr_4d"
   ]
  },
  {
   "cell_type": "code",
   "execution_count": 85,
   "id": "11602d29",
   "metadata": {},
   "outputs": [
    {
     "data": {
      "text/plain": [
       "4"
      ]
     },
     "execution_count": 85,
     "metadata": {},
     "output_type": "execute_result"
    }
   ],
   "source": [
    "arr_4d.ndim # Numero de dimensões"
   ]
  },
  {
   "cell_type": "code",
   "execution_count": 86,
   "id": "872ed669",
   "metadata": {},
   "outputs": [
    {
     "data": {
      "text/plain": [
       "(2, 4, 4, 5)"
      ]
     },
     "execution_count": 86,
     "metadata": {},
     "output_type": "execute_result"
    }
   ],
   "source": [
    "arr_4d.shape"
   ]
  },
  {
   "cell_type": "code",
   "execution_count": 87,
   "id": "1f8f50bc",
   "metadata": {},
   "outputs": [
    {
     "data": {
      "text/plain": [
       "3"
      ]
     },
     "execution_count": 87,
     "metadata": {},
     "output_type": "execute_result"
    }
   ],
   "source": [
    "arr_4d[1,2,3,0]"
   ]
  },
  {
   "cell_type": "code",
   "execution_count": 88,
   "id": "0193bea7",
   "metadata": {},
   "outputs": [
    {
     "data": {
      "text/plain": [
       "1"
      ]
     },
     "execution_count": 88,
     "metadata": {},
     "output_type": "execute_result"
    }
   ],
   "source": [
    "arr_4d[0,2,3,1]"
   ]
  },
  {
   "cell_type": "markdown",
   "id": "e61c069b",
   "metadata": {},
   "source": [
    "# Manipulando arquivos com NumPy"
   ]
  },
  {
   "cell_type": "code",
   "execution_count": null,
   "id": "297a411a",
   "metadata": {},
   "outputs": [],
   "source": [
    "import os #pacote \"os\" para manipular o sistema operacional\n",
    "filename = os.path.join('dataset.csv')"
   ]
  },
  {
   "cell_type": "code",
   "execution_count": null,
   "id": "3a3ce68e",
   "metadata": {},
   "outputs": [],
   "source": [
    "with open(\"dataset.csv\",\"r\") as arquivo:\n",
    "    print(arquivo.read())"
   ]
  },
  {
   "cell_type": "code",
   "execution_count": null,
   "id": "5b4121ca",
   "metadata": {},
   "outputs": [],
   "source": [
    "!more dataset.csv ## Somente para Jupyter notebook"
   ]
  },
  {
   "cell_type": "code",
   "execution_count": null,
   "id": "6dab3812",
   "metadata": {},
   "outputs": [],
   "source": [
    "#Carregando um dataset para dentro de um array com NumPy\n",
    "\n",
    "arr13 = dsa.loadtxt(filename, delimiter = ',', usecols = (0, 1, 2, 3), skiprows = 1)\n",
    "\n",
    "'''Criando array do arquivo, tulizando Numpy\n",
    "Por ser arquivo CSV, o delimitador são as vírgulas\n",
    "\"usecols\" é utilizado para selecionar as colunas\n",
    "Como NumPy só aceita 1 tipo de dado no array, então é necessário fazer esse filtro, \n",
    "pois a coluna nº 4 é de String\n",
    "- Finaliza com \"skiprows, para pular o primeiro indice, por ser String de cabecalho\"\n",
    "'''"
   ]
  },
  {
   "cell_type": "code",
   "execution_count": null,
   "id": "ee9439ed",
   "metadata": {},
   "outputs": [],
   "source": [
    "print(arr13)"
   ]
  },
  {
   "cell_type": "code",
   "execution_count": null,
   "id": "9ac13548",
   "metadata": {},
   "outputs": [],
   "source": []
  },
  {
   "cell_type": "code",
   "execution_count": null,
   "id": "bcba6d68",
   "metadata": {},
   "outputs": [],
   "source": []
  },
  {
   "cell_type": "code",
   "execution_count": null,
   "id": "904f54d2",
   "metadata": {},
   "outputs": [],
   "source": []
  }
 ],
 "metadata": {
  "kernelspec": {
   "display_name": "Python 3 (ipykernel)",
   "language": "python",
   "name": "python3"
  },
  "language_info": {
   "codemirror_mode": {
    "name": "ipython",
    "version": 3
   },
   "file_extension": ".py",
   "mimetype": "text/x-python",
   "name": "python",
   "nbconvert_exporter": "python",
   "pygments_lexer": "ipython3",
   "version": "3.9.13"
  }
 },
 "nbformat": 4,
 "nbformat_minor": 5
}
