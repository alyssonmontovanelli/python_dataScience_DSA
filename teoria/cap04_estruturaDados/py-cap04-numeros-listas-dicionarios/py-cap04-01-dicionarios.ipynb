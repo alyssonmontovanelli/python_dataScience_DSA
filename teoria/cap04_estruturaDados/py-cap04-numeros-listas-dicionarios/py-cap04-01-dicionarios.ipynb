{
 "cells": [
  {
   "cell_type": "markdown",
   "id": "1abaf27c",
   "metadata": {},
   "source": [
    "## Criando dicionarios com chave/valor"
   ]
  },
  {
   "cell_type": "code",
   "execution_count": 1,
   "id": "bb92457c",
   "metadata": {},
   "outputs": [],
   "source": [
    "estudante_list = [\"Alysson\", 26,\"Ulysses\", 90, \"Roberta\", 27]"
   ]
  },
  {
   "cell_type": "code",
   "execution_count": 2,
   "id": "61e799d7",
   "metadata": {},
   "outputs": [
    {
     "data": {
      "text/plain": [
       "list"
      ]
     },
     "execution_count": 2,
     "metadata": {},
     "output_type": "execute_result"
    }
   ],
   "source": [
    "type(estudante_list)"
   ]
  },
  {
   "cell_type": "code",
   "execution_count": null,
   "id": "2efcec2b",
   "metadata": {},
   "outputs": [],
   "source": []
  },
  {
   "cell_type": "markdown",
   "id": "3e84c83c",
   "metadata": {},
   "source": [
    "# Isso é dicionario"
   ]
  },
  {
   "cell_type": "code",
   "execution_count": 4,
   "id": "7366e88c",
   "metadata": {},
   "outputs": [],
   "source": [
    "estudante_dict = {\"Alysson\":26, \"Roberta\":21, \"Júlio\":14}"
   ]
  },
  {
   "cell_type": "code",
   "execution_count": 5,
   "id": "d75e57f2",
   "metadata": {},
   "outputs": [
    {
     "data": {
      "text/plain": [
       "dict"
      ]
     },
     "execution_count": 5,
     "metadata": {},
     "output_type": "execute_result"
    }
   ],
   "source": [
    "type(estudante_dict)"
   ]
  },
  {
   "cell_type": "code",
   "execution_count": 6,
   "id": "410c83e2",
   "metadata": {},
   "outputs": [
    {
     "data": {
      "text/plain": [
       "{'Alysson': 26, 'Roberta': 21, 'Júlio': 14}"
      ]
     },
     "execution_count": 6,
     "metadata": {},
     "output_type": "execute_result"
    }
   ],
   "source": [
    "estudante_dict"
   ]
  },
  {
   "cell_type": "code",
   "execution_count": 7,
   "id": "29a57b13",
   "metadata": {},
   "outputs": [
    {
     "data": {
      "text/plain": [
       "26"
      ]
     },
     "execution_count": 7,
     "metadata": {},
     "output_type": "execute_result"
    }
   ],
   "source": [
    "estudante_dict[\"Alysson\"]"
   ]
  },
  {
   "cell_type": "code",
   "execution_count": 8,
   "id": "e3ae360e",
   "metadata": {},
   "outputs": [],
   "source": [
    "estudante_dict[\"Mácio\"] = 28"
   ]
  },
  {
   "cell_type": "code",
   "execution_count": 9,
   "id": "9e3c529c",
   "metadata": {},
   "outputs": [
    {
     "data": {
      "text/plain": [
       "{'Alysson': 26, 'Roberta': 21, 'Júlio': 14, 'Mácio': 28}"
      ]
     },
     "execution_count": 9,
     "metadata": {},
     "output_type": "execute_result"
    }
   ],
   "source": [
    "estudante_dict"
   ]
  },
  {
   "cell_type": "code",
   "execution_count": 11,
   "id": "3360082c",
   "metadata": {},
   "outputs": [],
   "source": [
    "del estudante_dict"
   ]
  },
  {
   "cell_type": "code",
   "execution_count": 12,
   "id": "f0c816cf",
   "metadata": {},
   "outputs": [
    {
     "ename": "NameError",
     "evalue": "name 'estudante_dict' is not defined",
     "output_type": "error",
     "traceback": [
      "\u001b[1;31m---------------------------------------------------------------------------\u001b[0m",
      "\u001b[1;31mNameError\u001b[0m                                 Traceback (most recent call last)",
      "\u001b[1;32m~\\AppData\\Local\\Temp\\ipykernel_19528\\3487953304.py\u001b[0m in \u001b[0;36m<module>\u001b[1;34m\u001b[0m\n\u001b[1;32m----> 1\u001b[1;33m \u001b[0mestudante_dict\u001b[0m\u001b[1;33m\u001b[0m\u001b[1;33m\u001b[0m\u001b[0m\n\u001b[0m",
      "\u001b[1;31mNameError\u001b[0m: name 'estudante_dict' is not defined"
     ]
    }
   ],
   "source": [
    "estudante_dict"
   ]
  },
  {
   "cell_type": "code",
   "execution_count": 13,
   "id": "c8d54001",
   "metadata": {},
   "outputs": [],
   "source": [
    "estudantes = {\"Alysson\":26, \"Roberta\":21, \"Júlio\":14}"
   ]
  },
  {
   "cell_type": "code",
   "execution_count": 14,
   "id": "24188b9e",
   "metadata": {},
   "outputs": [
    {
     "data": {
      "text/plain": [
       "dict_keys(['Alysson', 'Roberta', 'Júlio'])"
      ]
     },
     "execution_count": 14,
     "metadata": {},
     "output_type": "execute_result"
    }
   ],
   "source": [
    "estudantes.keys()"
   ]
  },
  {
   "cell_type": "code",
   "execution_count": 16,
   "id": "baff6d16",
   "metadata": {},
   "outputs": [
    {
     "data": {
      "text/plain": [
       "dict_values([26, 21, 14])"
      ]
     },
     "execution_count": 16,
     "metadata": {},
     "output_type": "execute_result"
    }
   ],
   "source": [
    "estudantes.values()"
   ]
  },
  {
   "cell_type": "code",
   "execution_count": 17,
   "id": "5c4685bc",
   "metadata": {},
   "outputs": [
    {
     "data": {
      "text/plain": [
       "dict_items([('Alysson', 26), ('Roberta', 21), ('Júlio', 14)])"
      ]
     },
     "execution_count": 17,
     "metadata": {},
     "output_type": "execute_result"
    }
   ],
   "source": [
    "estudantes.items()"
   ]
  },
  {
   "cell_type": "code",
   "execution_count": null,
   "id": "a1d4345a",
   "metadata": {},
   "outputs": [],
   "source": []
  },
  {
   "cell_type": "code",
   "execution_count": 18,
   "id": "f47253f6",
   "metadata": {},
   "outputs": [],
   "source": [
    "## Dicionarios de listas"
   ]
  },
  {
   "cell_type": "code",
   "execution_count": 20,
   "id": "3ef928c7",
   "metadata": {},
   "outputs": [],
   "source": [
    "dict3 = {'chave1':123, 'chave2':[1,2,3,4,5,6,7,8,9,10], 'chave3':[\"Banana\", \"Arroz\", \"Meupau\"]} "
   ]
  },
  {
   "cell_type": "code",
   "execution_count": 21,
   "id": "edfebd85",
   "metadata": {},
   "outputs": [
    {
     "data": {
      "text/plain": [
       "{'chave1': 123,\n",
       " 'chave2': [1, 2, 3, 4, 5, 6, 7, 8, 9, 10],\n",
       " 'chave3': ['Banana', 'Arroz', 'Meupau']}"
      ]
     },
     "execution_count": 21,
     "metadata": {},
     "output_type": "execute_result"
    }
   ],
   "source": [
    "dict3"
   ]
  },
  {
   "cell_type": "code",
   "execution_count": 24,
   "id": "60faa49f",
   "metadata": {},
   "outputs": [],
   "source": [
    "valor1 = dict3['chave3']"
   ]
  },
  {
   "cell_type": "code",
   "execution_count": 25,
   "id": "7e5d1af6",
   "metadata": {},
   "outputs": [
    {
     "data": {
      "text/plain": [
       "['Banana', 'Arroz', 'Meupau']"
      ]
     },
     "execution_count": 25,
     "metadata": {},
     "output_type": "execute_result"
    }
   ],
   "source": [
    "valor1"
   ]
  },
  {
   "cell_type": "code",
   "execution_count": 26,
   "id": "09ea0da3",
   "metadata": {},
   "outputs": [
    {
     "data": {
      "text/plain": [
       "'BANANA'"
      ]
     },
     "execution_count": 26,
     "metadata": {},
     "output_type": "execute_result"
    }
   ],
   "source": [
    "dict3['chave3'][0].upper()"
   ]
  },
  {
   "cell_type": "code",
   "execution_count": null,
   "id": "735482c2",
   "metadata": {},
   "outputs": [],
   "source": []
  },
  {
   "cell_type": "code",
   "execution_count": null,
   "id": "2f6bf0db",
   "metadata": {},
   "outputs": [],
   "source": []
  },
  {
   "cell_type": "markdown",
   "id": "eca7ab2b",
   "metadata": {},
   "source": [
    "# TUPLAS"
   ]
  },
  {
   "cell_type": "code",
   "execution_count": 27,
   "id": "71cc19f6",
   "metadata": {},
   "outputs": [],
   "source": [
    "##Tuplas são imutáveisabs"
   ]
  },
  {
   "cell_type": "code",
   "execution_count": 28,
   "id": "2e5befcf",
   "metadata": {},
   "outputs": [],
   "source": [
    "tup1 = (\"A\", \"B\", \"C\")"
   ]
  },
  {
   "cell_type": "code",
   "execution_count": 30,
   "id": "0c1ea231",
   "metadata": {},
   "outputs": [
    {
     "data": {
      "text/plain": [
       "tuple"
      ]
     },
     "execution_count": 30,
     "metadata": {},
     "output_type": "execute_result"
    }
   ],
   "source": [
    "type(tup1)"
   ]
  },
  {
   "cell_type": "code",
   "execution_count": 31,
   "id": "125afcf9",
   "metadata": {},
   "outputs": [],
   "source": [
    "list_tup = list(tup1)"
   ]
  },
  {
   "cell_type": "code",
   "execution_count": 32,
   "id": "0fc4c3f5",
   "metadata": {},
   "outputs": [
    {
     "data": {
      "text/plain": [
       "['A', 'B', 'C']"
      ]
     },
     "execution_count": 32,
     "metadata": {},
     "output_type": "execute_result"
    }
   ],
   "source": [
    "list_tup"
   ]
  },
  {
   "cell_type": "code",
   "execution_count": 33,
   "id": "91c6387f",
   "metadata": {},
   "outputs": [],
   "source": [
    "list_tup.append('D')"
   ]
  },
  {
   "cell_type": "code",
   "execution_count": 34,
   "id": "0436e0d4",
   "metadata": {},
   "outputs": [
    {
     "data": {
      "text/plain": [
       "['A', 'B', 'C', 'D']"
      ]
     },
     "execution_count": 34,
     "metadata": {},
     "output_type": "execute_result"
    }
   ],
   "source": [
    "list_tup"
   ]
  },
  {
   "cell_type": "code",
   "execution_count": 35,
   "id": "0efd98cd",
   "metadata": {},
   "outputs": [],
   "source": [
    "t2 = tuple(list_tup)"
   ]
  },
  {
   "cell_type": "code",
   "execution_count": 36,
   "id": "7afc2a53",
   "metadata": {},
   "outputs": [
    {
     "data": {
      "text/plain": [
       "tuple"
      ]
     },
     "execution_count": 36,
     "metadata": {},
     "output_type": "execute_result"
    }
   ],
   "source": [
    "type(t2)"
   ]
  },
  {
   "cell_type": "code",
   "execution_count": 37,
   "id": "04bc8f1a",
   "metadata": {},
   "outputs": [
    {
     "data": {
      "text/plain": [
       "list"
      ]
     },
     "execution_count": 37,
     "metadata": {},
     "output_type": "execute_result"
    }
   ],
   "source": [
    "type(list_tup)"
   ]
  },
  {
   "cell_type": "code",
   "execution_count": null,
   "id": "364289e3",
   "metadata": {},
   "outputs": [],
   "source": []
  }
 ],
 "metadata": {
  "kernelspec": {
   "display_name": "Python 3 (ipykernel)",
   "language": "python",
   "name": "python3"
  },
  "language_info": {
   "codemirror_mode": {
    "name": "ipython",
    "version": 3
   },
   "file_extension": ".py",
   "mimetype": "text/x-python",
   "name": "python",
   "nbconvert_exporter": "python",
   "pygments_lexer": "ipython3",
   "version": "3.9.13"
  }
 },
 "nbformat": 4,
 "nbformat_minor": 5
}
