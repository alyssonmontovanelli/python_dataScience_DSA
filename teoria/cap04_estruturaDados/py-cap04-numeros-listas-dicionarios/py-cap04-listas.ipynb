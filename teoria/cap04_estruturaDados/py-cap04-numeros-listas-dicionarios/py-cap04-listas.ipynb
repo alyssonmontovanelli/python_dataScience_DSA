{
 "cells": [
  {
   "cell_type": "markdown",
   "id": "5a6a0102",
   "metadata": {},
   "source": [
    "#### LISTAS"
   ]
  },
  {
   "cell_type": "code",
   "execution_count": 1,
   "id": "85959209",
   "metadata": {},
   "outputs": [],
   "source": [
    "lista1 = [1,3,4,5,6,89,876,2]"
   ]
  },
  {
   "cell_type": "code",
   "execution_count": 2,
   "id": "302cf64f",
   "metadata": {},
   "outputs": [
    {
     "data": {
      "text/plain": [
       "[1, 3, 4, 5, 6, 89, 876, 2]"
      ]
     },
     "execution_count": 2,
     "metadata": {},
     "output_type": "execute_result"
    }
   ],
   "source": [
    "lista1"
   ]
  },
  {
   "cell_type": "code",
   "execution_count": null,
   "id": "7a5b1c24",
   "metadata": {},
   "outputs": [],
   "source": [
    "#deletando item da lista"
   ]
  },
  {
   "cell_type": "code",
   "execution_count": 3,
   "id": "6f5efc4e",
   "metadata": {},
   "outputs": [],
   "source": [
    "del lista1[3]"
   ]
  },
  {
   "cell_type": "code",
   "execution_count": 4,
   "id": "50fa3a25",
   "metadata": {},
   "outputs": [
    {
     "data": {
      "text/plain": [
       "[1, 3, 4, 6, 89, 876, 2]"
      ]
     },
     "execution_count": 4,
     "metadata": {},
     "output_type": "execute_result"
    }
   ],
   "source": [
    "lista1"
   ]
  },
  {
   "cell_type": "code",
   "execution_count": null,
   "id": "c1e8a2c9",
   "metadata": {},
   "outputs": [],
   "source": []
  },
  {
   "cell_type": "markdown",
   "id": "5de903f4",
   "metadata": {},
   "source": [
    "# Listas de listas (aninhadas)"
   ]
  },
  {
   "cell_type": "code",
   "execution_count": 2,
   "id": "1c484c64",
   "metadata": {},
   "outputs": [],
   "source": [
    "lista2 = [[1,2,3], [4,5,6], [7,8,9,10,11,12]]"
   ]
  },
  {
   "cell_type": "code",
   "execution_count": 3,
   "id": "d03dc577",
   "metadata": {},
   "outputs": [
    {
     "name": "stdout",
     "output_type": "stream",
     "text": [
      "[[1, 2, 3], [4, 5, 6], [7, 8, 9, 10, 11, 12]]\n"
     ]
    }
   ],
   "source": [
    "print(lista2)"
   ]
  },
  {
   "cell_type": "code",
   "execution_count": 4,
   "id": "0eeb3d89",
   "metadata": {},
   "outputs": [],
   "source": [
    "b = lista2[0]"
   ]
  },
  {
   "cell_type": "code",
   "execution_count": 5,
   "id": "2626c240",
   "metadata": {},
   "outputs": [
    {
     "data": {
      "text/plain": [
       "[1, 2, 3]"
      ]
     },
     "execution_count": 5,
     "metadata": {},
     "output_type": "execute_result"
    }
   ],
   "source": [
    "b"
   ]
  },
  {
   "cell_type": "code",
   "execution_count": 6,
   "id": "9e46a94a",
   "metadata": {},
   "outputs": [],
   "source": [
    "c = lista2[0][2]"
   ]
  },
  {
   "cell_type": "code",
   "execution_count": 7,
   "id": "36558e09",
   "metadata": {},
   "outputs": [
    {
     "data": {
      "text/plain": [
       "3"
      ]
     },
     "execution_count": 7,
     "metadata": {},
     "output_type": "execute_result"
    }
   ],
   "source": [
    "c"
   ]
  },
  {
   "cell_type": "markdown",
   "id": "b979a80f",
   "metadata": {},
   "source": [
    "## CONCATENANDO LSITAS"
   ]
  },
  {
   "cell_type": "code",
   "execution_count": 8,
   "id": "3735da2c",
   "metadata": {},
   "outputs": [],
   "source": [
    "l1 = lista2[0]"
   ]
  },
  {
   "cell_type": "code",
   "execution_count": 9,
   "id": "cb03f975",
   "metadata": {},
   "outputs": [],
   "source": [
    "l2 = lista2[1]"
   ]
  },
  {
   "cell_type": "code",
   "execution_count": 10,
   "id": "00b212d5",
   "metadata": {},
   "outputs": [],
   "source": [
    "lista_concatenada = l1 + l2"
   ]
  },
  {
   "cell_type": "code",
   "execution_count": 11,
   "id": "bd3de59c",
   "metadata": {},
   "outputs": [
    {
     "data": {
      "text/plain": [
       "[1, 2, 3, 4, 5, 6]"
      ]
     },
     "execution_count": 11,
     "metadata": {},
     "output_type": "execute_result"
    }
   ],
   "source": [
    "lista_concatenada"
   ]
  },
  {
   "cell_type": "code",
   "execution_count": null,
   "id": "8bd9e7ee",
   "metadata": {},
   "outputs": [],
   "source": []
  },
  {
   "cell_type": "markdown",
   "id": "e1f0dfb5",
   "metadata": {},
   "source": [
    "## operador in"
   ]
  },
  {
   "cell_type": "code",
   "execution_count": 14,
   "id": "693bf3a9",
   "metadata": {},
   "outputs": [
    {
     "name": "stdout",
     "output_type": "stream",
     "text": [
      "Valor não está contido na lista\n"
     ]
    }
   ],
   "source": [
    "## verificando se um valor está dentro da lista\n",
    "\n",
    "if 8 in lista_concatenada:\n",
    "    print(\"sim, 3 está dentro da lista\")\n",
    "else: \n",
    "    print(\"Valor não está contido na lista\")"
   ]
  },
  {
   "cell_type": "code",
   "execution_count": null,
   "id": "9d877524",
   "metadata": {},
   "outputs": [],
   "source": []
  },
  {
   "cell_type": "markdown",
   "id": "7d3ceb29",
   "metadata": {},
   "source": [
    "## Funções Built-in"
   ]
  },
  {
   "cell_type": "code",
   "execution_count": 15,
   "id": "38619b30",
   "metadata": {},
   "outputs": [],
   "source": [
    "lista_num = [50, 89, 32, -95, 0, 70, -65]"
   ]
  },
  {
   "cell_type": "code",
   "execution_count": 16,
   "id": "5d5339ab",
   "metadata": {},
   "outputs": [
    {
     "data": {
      "text/plain": [
       "7"
      ]
     },
     "execution_count": 16,
     "metadata": {},
     "output_type": "execute_result"
    }
   ],
   "source": [
    "len(lista_num)"
   ]
  },
  {
   "cell_type": "code",
   "execution_count": 17,
   "id": "b94cacd4",
   "metadata": {},
   "outputs": [
    {
     "data": {
      "text/plain": [
       "89"
      ]
     },
     "execution_count": 17,
     "metadata": {},
     "output_type": "execute_result"
    }
   ],
   "source": [
    "max(lista_num)"
   ]
  },
  {
   "cell_type": "code",
   "execution_count": 18,
   "id": "cc40a81a",
   "metadata": {},
   "outputs": [
    {
     "data": {
      "text/plain": [
       "-95"
      ]
     },
     "execution_count": 18,
     "metadata": {},
     "output_type": "execute_result"
    }
   ],
   "source": [
    "min(lista_num)"
   ]
  },
  {
   "cell_type": "code",
   "execution_count": 19,
   "id": "8236d0e1",
   "metadata": {},
   "outputs": [],
   "source": [
    "## Adicionando valor em lista\n",
    "\n",
    "lista_num.append(5000)"
   ]
  },
  {
   "cell_type": "code",
   "execution_count": 20,
   "id": "85695395",
   "metadata": {},
   "outputs": [
    {
     "data": {
      "text/plain": [
       "[50, 89, 32, -95, 0, 70, -65, 5000]"
      ]
     },
     "execution_count": 20,
     "metadata": {},
     "output_type": "execute_result"
    }
   ],
   "source": [
    "lista_num"
   ]
  },
  {
   "cell_type": "code",
   "execution_count": 21,
   "id": "45e7b119",
   "metadata": {},
   "outputs": [
    {
     "data": {
      "text/plain": [
       "1"
      ]
     },
     "execution_count": 21,
     "metadata": {},
     "output_type": "execute_result"
    }
   ],
   "source": [
    "lista_num.count(50)"
   ]
  },
  {
   "cell_type": "code",
   "execution_count": 22,
   "id": "1c40948e",
   "metadata": {},
   "outputs": [],
   "source": [
    "## Copiando itens para outra lista\n",
    "\n",
    "lista_clonada = []"
   ]
  },
  {
   "cell_type": "code",
   "execution_count": 23,
   "id": "a829cce9",
   "metadata": {},
   "outputs": [],
   "source": [
    "for n in lista_num:\n",
    "    lista_clonada.append(n)"
   ]
  },
  {
   "cell_type": "code",
   "execution_count": 24,
   "id": "6485609b",
   "metadata": {},
   "outputs": [
    {
     "data": {
      "text/plain": [
       "[50, 89, 32, -95, 0, 70, -65, 5000]"
      ]
     },
     "execution_count": 24,
     "metadata": {},
     "output_type": "execute_result"
    }
   ],
   "source": [
    "lista_clonada"
   ]
  },
  {
   "cell_type": "code",
   "execution_count": null,
   "id": "fb8dd6d3",
   "metadata": {},
   "outputs": [],
   "source": []
  },
  {
   "cell_type": "code",
   "execution_count": null,
   "id": "fb32dcb0",
   "metadata": {},
   "outputs": [],
   "source": []
  },
  {
   "cell_type": "code",
   "execution_count": 25,
   "id": "caf7071c",
   "metadata": {},
   "outputs": [],
   "source": [
    "cidades = [\"Rio de Janeiro\", \"Recife\"]"
   ]
  },
  {
   "cell_type": "code",
   "execution_count": 26,
   "id": "0f3c6535",
   "metadata": {},
   "outputs": [],
   "source": [
    "cidades.extend([\"Orlando\"])"
   ]
  },
  {
   "cell_type": "code",
   "execution_count": 27,
   "id": "a7193520",
   "metadata": {},
   "outputs": [
    {
     "data": {
      "text/plain": [
       "['Rio de Janeiro', 'Recife', 'Orlando']"
      ]
     },
     "execution_count": 27,
     "metadata": {},
     "output_type": "execute_result"
    }
   ],
   "source": [
    "cidades"
   ]
  },
  {
   "cell_type": "code",
   "execution_count": 28,
   "id": "cbf90e77",
   "metadata": {},
   "outputs": [
    {
     "data": {
      "text/plain": [
       "2"
      ]
     },
     "execution_count": 28,
     "metadata": {},
     "output_type": "execute_result"
    }
   ],
   "source": [
    "cidades.index(\"Orlando\")"
   ]
  },
  {
   "cell_type": "code",
   "execution_count": null,
   "id": "0da36bac",
   "metadata": {},
   "outputs": [],
   "source": []
  },
  {
   "cell_type": "code",
   "execution_count": 29,
   "id": "6d32b419",
   "metadata": {},
   "outputs": [],
   "source": [
    "## INSERINDO VALORES NAS POSIÇÕES DA LISTA"
   ]
  },
  {
   "cell_type": "code",
   "execution_count": 30,
   "id": "aaac6d6e",
   "metadata": {},
   "outputs": [],
   "source": [
    "cidades.insert(2,111111)"
   ]
  },
  {
   "cell_type": "code",
   "execution_count": 31,
   "id": "723c743a",
   "metadata": {},
   "outputs": [
    {
     "data": {
      "text/plain": [
       "['Rio de Janeiro', 'Recife', 111111, 'Orlando']"
      ]
     },
     "execution_count": 31,
     "metadata": {},
     "output_type": "execute_result"
    }
   ],
   "source": [
    "cidades"
   ]
  },
  {
   "cell_type": "code",
   "execution_count": 32,
   "id": "40d95c14",
   "metadata": {},
   "outputs": [],
   "source": [
    "cidades.remove(\"Orlando\")"
   ]
  },
  {
   "cell_type": "code",
   "execution_count": 33,
   "id": "72402d2e",
   "metadata": {},
   "outputs": [
    {
     "data": {
      "text/plain": [
       "['Rio de Janeiro', 'Recife', 111111]"
      ]
     },
     "execution_count": 33,
     "metadata": {},
     "output_type": "execute_result"
    }
   ],
   "source": [
    "cidades"
   ]
  },
  {
   "cell_type": "code",
   "execution_count": 35,
   "id": "ddb6314f",
   "metadata": {},
   "outputs": [],
   "source": [
    "cidades.reverse()"
   ]
  },
  {
   "cell_type": "code",
   "execution_count": 36,
   "id": "f9d367d6",
   "metadata": {},
   "outputs": [
    {
     "data": {
      "text/plain": [
       "[111111, 'Recife', 'Rio de Janeiro']"
      ]
     },
     "execution_count": 36,
     "metadata": {},
     "output_type": "execute_result"
    }
   ],
   "source": [
    "cidades"
   ]
  },
  {
   "cell_type": "code",
   "execution_count": null,
   "id": "97910a79",
   "metadata": {},
   "outputs": [],
   "source": []
  },
  {
   "cell_type": "code",
   "execution_count": null,
   "id": "7ec0a2a1",
   "metadata": {},
   "outputs": [],
   "source": []
  },
  {
   "cell_type": "code",
   "execution_count": 37,
   "id": "02110434",
   "metadata": {},
   "outputs": [],
   "source": [
    "lista_ordenar =[5,10,1,0,97,48,477,8,56,12]"
   ]
  },
  {
   "cell_type": "code",
   "execution_count": 38,
   "id": "9c762074",
   "metadata": {},
   "outputs": [],
   "source": [
    "lista_ordenar.sort()"
   ]
  },
  {
   "cell_type": "code",
   "execution_count": 39,
   "id": "4b08c493",
   "metadata": {},
   "outputs": [
    {
     "data": {
      "text/plain": [
       "[0, 1, 5, 8, 10, 12, 48, 56, 97, 477]"
      ]
     },
     "execution_count": 39,
     "metadata": {},
     "output_type": "execute_result"
    }
   ],
   "source": [
    "lista_ordenar"
   ]
  },
  {
   "cell_type": "code",
   "execution_count": null,
   "id": "40b08557",
   "metadata": {},
   "outputs": [],
   "source": []
  }
 ],
 "metadata": {
  "kernelspec": {
   "display_name": "Python 3 (ipykernel)",
   "language": "python",
   "name": "python3"
  },
  "language_info": {
   "codemirror_mode": {
    "name": "ipython",
    "version": 3
   },
   "file_extension": ".py",
   "mimetype": "text/x-python",
   "name": "python",
   "nbconvert_exporter": "python",
   "pygments_lexer": "ipython3",
   "version": "3.9.13"
  }
 },
 "nbformat": 4,
 "nbformat_minor": 5
}
