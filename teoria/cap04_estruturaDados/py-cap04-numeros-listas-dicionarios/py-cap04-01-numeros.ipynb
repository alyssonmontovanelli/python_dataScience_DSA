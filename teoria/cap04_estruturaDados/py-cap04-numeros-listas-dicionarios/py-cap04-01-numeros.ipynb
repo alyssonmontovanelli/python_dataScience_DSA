{
 "cells": [
  {
   "cell_type": "code",
   "execution_count": 2,
   "id": "9a82e505",
   "metadata": {},
   "outputs": [
    {
     "data": {
      "text/plain": [
       "8"
      ]
     },
     "execution_count": 2,
     "metadata": {},
     "output_type": "execute_result"
    }
   ],
   "source": [
    "4+4"
   ]
  },
  {
   "cell_type": "code",
   "execution_count": 3,
   "id": "e907d94a",
   "metadata": {},
   "outputs": [
    {
     "data": {
      "text/plain": [
       "64"
      ]
     },
     "execution_count": 3,
     "metadata": {},
     "output_type": "execute_result"
    }
   ],
   "source": [
    "8*8"
   ]
  },
  {
   "cell_type": "code",
   "execution_count": 4,
   "id": "107c6188",
   "metadata": {},
   "outputs": [
    {
     "data": {
      "text/plain": [
       "252"
      ]
     },
     "execution_count": 4,
     "metadata": {},
     "output_type": "execute_result"
    }
   ],
   "source": [
    "28*9"
   ]
  },
  {
   "cell_type": "code",
   "execution_count": 5,
   "id": "b9d85e6c",
   "metadata": {},
   "outputs": [
    {
     "data": {
      "text/plain": [
       "16"
      ]
     },
     "execution_count": 5,
     "metadata": {},
     "output_type": "execute_result"
    }
   ],
   "source": [
    "# potência\n",
    "\n",
    "4**2"
   ]
  },
  {
   "cell_type": "code",
   "execution_count": 6,
   "id": "e591e3c7",
   "metadata": {},
   "outputs": [
    {
     "data": {
      "text/plain": [
       "1"
      ]
     },
     "execution_count": 6,
     "metadata": {},
     "output_type": "execute_result"
    }
   ],
   "source": [
    "#modulo\n",
    "\n",
    "10 % 3\n"
   ]
  },
  {
   "cell_type": "markdown",
   "id": "b53abad5",
   "metadata": {},
   "source": [
    "#### Type "
   ]
  },
  {
   "cell_type": "code",
   "execution_count": 7,
   "id": "4eb0e93a",
   "metadata": {},
   "outputs": [
    {
     "name": "stdout",
     "output_type": "stream",
     "text": [
      "<class 'str'>\n"
     ]
    }
   ],
   "source": [
    "a = \"Arroz\"\n",
    "print(type(a))"
   ]
  },
  {
   "cell_type": "code",
   "execution_count": 8,
   "id": "ce72fd53",
   "metadata": {},
   "outputs": [
    {
     "data": {
      "text/plain": [
       "str"
      ]
     },
     "execution_count": 8,
     "metadata": {},
     "output_type": "execute_result"
    }
   ],
   "source": [
    "type(a)"
   ]
  },
  {
   "cell_type": "markdown",
   "id": "d8989f26",
   "metadata": {},
   "source": [
    "##### CONVERSÃO"
   ]
  },
  {
   "cell_type": "code",
   "execution_count": 9,
   "id": "e3b5e94b",
   "metadata": {},
   "outputs": [
    {
     "data": {
      "text/plain": [
       "9.0"
      ]
     },
     "execution_count": 9,
     "metadata": {},
     "output_type": "execute_result"
    }
   ],
   "source": [
    "float(9)"
   ]
  },
  {
   "cell_type": "code",
   "execution_count": 10,
   "id": "990a33ea",
   "metadata": {},
   "outputs": [
    {
     "data": {
      "text/plain": [
       "'0xd9'"
      ]
     },
     "execution_count": 10,
     "metadata": {},
     "output_type": "execute_result"
    }
   ],
   "source": [
    "hex(217)"
   ]
  },
  {
   "cell_type": "code",
   "execution_count": 11,
   "id": "9852dc0b",
   "metadata": {},
   "outputs": [
    {
     "data": {
      "text/plain": [
       "8"
      ]
     },
     "execution_count": 11,
     "metadata": {},
     "output_type": "execute_result"
    }
   ],
   "source": [
    "int(8.96)"
   ]
  },
  {
   "cell_type": "code",
   "execution_count": 12,
   "id": "6e3c96b3",
   "metadata": {},
   "outputs": [
    {
     "data": {
      "text/plain": [
       "'0b110010101011100'"
      ]
     },
     "execution_count": 12,
     "metadata": {},
     "output_type": "execute_result"
    }
   ],
   "source": [
    "bin(25948)"
   ]
  },
  {
   "cell_type": "markdown",
   "id": "5f6880d5",
   "metadata": {},
   "source": [
    "#### Funções ABS, ROUND E POW"
   ]
  },
  {
   "cell_type": "code",
   "execution_count": 13,
   "id": "3b7c88b4",
   "metadata": {},
   "outputs": [
    {
     "data": {
      "text/plain": [
       "8"
      ]
     },
     "execution_count": 13,
     "metadata": {},
     "output_type": "execute_result"
    }
   ],
   "source": [
    "#retorna valor absoluto\n",
    "\n",
    "abs(-8)"
   ]
  },
  {
   "cell_type": "code",
   "execution_count": 16,
   "id": "434aa19b",
   "metadata": {},
   "outputs": [
    {
     "data": {
      "text/plain": [
       "8.26"
      ]
     },
     "execution_count": 16,
     "metadata": {},
     "output_type": "execute_result"
    }
   ],
   "source": [
    "#Retorna valor com 2 casas decimais\n",
    "\n",
    "round(8.26484561, 2)"
   ]
  },
  {
   "cell_type": "code",
   "execution_count": 17,
   "id": "d689f4e9",
   "metadata": {},
   "outputs": [
    {
     "data": {
      "text/plain": [
       "16"
      ]
     },
     "execution_count": 17,
     "metadata": {},
     "output_type": "execute_result"
    }
   ],
   "source": [
    "#potencia\n",
    "\n",
    "pow(4,2)"
   ]
  },
  {
   "cell_type": "code",
   "execution_count": 18,
   "id": "e54e1561",
   "metadata": {},
   "outputs": [
    {
     "data": {
      "text/plain": [
       "125"
      ]
     },
     "execution_count": 18,
     "metadata": {},
     "output_type": "execute_result"
    }
   ],
   "source": [
    "pow(5,3)"
   ]
  },
  {
   "cell_type": "markdown",
   "id": "e06d69bd",
   "metadata": {},
   "source": [
    "# VARIÁVEIS e STRINGs\n"
   ]
  },
  {
   "cell_type": "code",
   "execution_count": 19,
   "id": "e3adfed9",
   "metadata": {},
   "outputs": [],
   "source": [
    "pessoa1, pessoa2, pessoa3 = \"Alysson\", \"Arroz\", \"Kiui\""
   ]
  },
  {
   "cell_type": "code",
   "execution_count": 20,
   "id": "d9936c47",
   "metadata": {},
   "outputs": [
    {
     "data": {
      "text/plain": [
       "'Arroz'"
      ]
     },
     "execution_count": 20,
     "metadata": {},
     "output_type": "execute_result"
    }
   ],
   "source": [
    "pessoa2"
   ]
  },
  {
   "cell_type": "code",
   "execution_count": 21,
   "id": "a0ef8fe3",
   "metadata": {},
   "outputs": [
    {
     "data": {
      "text/plain": [
       "'Kiui'"
      ]
     },
     "execution_count": 21,
     "metadata": {},
     "output_type": "execute_result"
    }
   ],
   "source": [
    "pessoa3"
   ]
  },
  {
   "cell_type": "markdown",
   "id": "6017c984",
   "metadata": {},
   "source": [
    "# Strings"
   ]
  },
  {
   "cell_type": "code",
   "execution_count": 22,
   "id": "fb2ef348",
   "metadata": {},
   "outputs": [],
   "source": [
    "s =  \"Alysson Montovanelli da Silva de Melo\""
   ]
  },
  {
   "cell_type": "code",
   "execution_count": 23,
   "id": "5b7b9d35",
   "metadata": {},
   "outputs": [
    {
     "data": {
      "text/plain": [
       "'A'"
      ]
     },
     "execution_count": 23,
     "metadata": {},
     "output_type": "execute_result"
    }
   ],
   "source": [
    "s[0]"
   ]
  },
  {
   "cell_type": "code",
   "execution_count": 24,
   "id": "71c801d7",
   "metadata": {},
   "outputs": [
    {
     "data": {
      "text/plain": [
       "'o'"
      ]
     },
     "execution_count": 24,
     "metadata": {},
     "output_type": "execute_result"
    }
   ],
   "source": [
    "s[-1]"
   ]
  },
  {
   "cell_type": "code",
   "execution_count": 25,
   "id": "f63a4d62",
   "metadata": {},
   "outputs": [
    {
     "data": {
      "text/plain": [
       "'lysson Montovanelli da Silva de Melo'"
      ]
     },
     "execution_count": 25,
     "metadata": {},
     "output_type": "execute_result"
    }
   ],
   "source": [
    "#Slice - indice inicial\n",
    "s[1:]"
   ]
  },
  {
   "cell_type": "code",
   "execution_count": 26,
   "id": "61722ad8",
   "metadata": {},
   "outputs": [
    {
     "data": {
      "text/plain": [
       "'Aly'"
      ]
     },
     "execution_count": 26,
     "metadata": {},
     "output_type": "execute_result"
    }
   ],
   "source": [
    "#indice final \n",
    "s[:3]"
   ]
  },
  {
   "cell_type": "code",
   "execution_count": 27,
   "id": "74f6fdbf",
   "metadata": {},
   "outputs": [
    {
     "data": {
      "text/plain": [
       "'Alysson Montovanelli da Silva de Mel'"
      ]
     },
     "execution_count": 27,
     "metadata": {},
     "output_type": "execute_result"
    }
   ],
   "source": [
    "s[:-1]"
   ]
  },
  {
   "cell_type": "code",
   "execution_count": 28,
   "id": "1927d56a",
   "metadata": {},
   "outputs": [
    {
     "data": {
      "text/plain": [
       "'AysnMnoael aSlad eo'"
      ]
     },
     "execution_count": 28,
     "metadata": {},
     "output_type": "execute_result"
    }
   ],
   "source": [
    "s[::2]"
   ]
  },
  {
   "cell_type": "code",
   "execution_count": null,
   "id": "852d8f16",
   "metadata": {},
   "outputs": [],
   "source": []
  },
  {
   "cell_type": "markdown",
   "id": "92fa6230",
   "metadata": {},
   "source": [
    "## Built-in de STRING"
   ]
  },
  {
   "cell_type": "code",
   "execution_count": 30,
   "id": "d2e63d90",
   "metadata": {},
   "outputs": [
    {
     "data": {
      "text/plain": [
       "'ALYSSON MONTOVANELLI DA SILVA DE MELO'"
      ]
     },
     "execution_count": 30,
     "metadata": {},
     "output_type": "execute_result"
    }
   ],
   "source": [
    "s.upper()"
   ]
  },
  {
   "cell_type": "code",
   "execution_count": 31,
   "id": "225dc961",
   "metadata": {},
   "outputs": [
    {
     "data": {
      "text/plain": [
       "'alysson montovanelli da silva de melo'"
      ]
     },
     "execution_count": 31,
     "metadata": {},
     "output_type": "execute_result"
    }
   ],
   "source": [
    "s.lower()"
   ]
  },
  {
   "cell_type": "code",
   "execution_count": 32,
   "id": "c56b69b1",
   "metadata": {},
   "outputs": [
    {
     "data": {
      "text/plain": [
       "['Alysson', 'Montovanelli', 'da', 'Silva', 'de', 'Melo']"
      ]
     },
     "execution_count": 32,
     "metadata": {},
     "output_type": "execute_result"
    }
   ],
   "source": [
    "s.split()"
   ]
  },
  {
   "cell_type": "code",
   "execution_count": 33,
   "id": "bb519a3d",
   "metadata": {},
   "outputs": [
    {
     "data": {
      "text/plain": [
       "['Alysson Montov', 'nelli d', ' Silv', ' de Melo']"
      ]
     },
     "execution_count": 33,
     "metadata": {},
     "output_type": "execute_result"
    }
   ],
   "source": [
    "s.split('a')"
   ]
  },
  {
   "cell_type": "code",
   "execution_count": null,
   "id": "2486e40b",
   "metadata": {},
   "outputs": [],
   "source": []
  },
  {
   "cell_type": "markdown",
   "id": "753cd999",
   "metadata": {},
   "source": [
    "## Funções String"
   ]
  },
  {
   "cell_type": "code",
   "execution_count": 36,
   "id": "6430a795",
   "metadata": {},
   "outputs": [],
   "source": [
    "s = \"Arroz Feijão Batata Frinta e Macarrão\""
   ]
  },
  {
   "cell_type": "code",
   "execution_count": 37,
   "id": "7b9c1894",
   "metadata": {},
   "outputs": [
    {
     "data": {
      "text/plain": [
       "'Arroz feijão batata frinta e macarrão'"
      ]
     },
     "execution_count": 37,
     "metadata": {},
     "output_type": "execute_result"
    }
   ],
   "source": [
    "s.capitalize()"
   ]
  },
  {
   "cell_type": "code",
   "execution_count": 42,
   "id": "ea5a2798",
   "metadata": {},
   "outputs": [
    {
     "data": {
      "text/plain": [
       "6"
      ]
     },
     "execution_count": 42,
     "metadata": {},
     "output_type": "execute_result"
    }
   ],
   "source": [
    "s.count('a')"
   ]
  },
  {
   "cell_type": "code",
   "execution_count": 43,
   "id": "3b9d2953",
   "metadata": {},
   "outputs": [
    {
     "data": {
      "text/plain": [
       "False"
      ]
     },
     "execution_count": 43,
     "metadata": {},
     "output_type": "execute_result"
    }
   ],
   "source": [
    "s.islower()"
   ]
  },
  {
   "cell_type": "code",
   "execution_count": 44,
   "id": "c6ba01fb",
   "metadata": {},
   "outputs": [
    {
     "data": {
      "text/plain": [
       "False"
      ]
     },
     "execution_count": 44,
     "metadata": {},
     "output_type": "execute_result"
    }
   ],
   "source": [
    "s.isspace()"
   ]
  },
  {
   "cell_type": "code",
   "execution_count": null,
   "id": "4354680c",
   "metadata": {},
   "outputs": [],
   "source": []
  }
 ],
 "metadata": {
  "kernelspec": {
   "display_name": "Python 3 (ipykernel)",
   "language": "python",
   "name": "python3"
  },
  "language_info": {
   "codemirror_mode": {
    "name": "ipython",
    "version": 3
   },
   "file_extension": ".py",
   "mimetype": "text/x-python",
   "name": "python",
   "nbconvert_exporter": "python",
   "pygments_lexer": "ipython3",
   "version": "3.9.13"
  }
 },
 "nbformat": 4,
 "nbformat_minor": 5
}
