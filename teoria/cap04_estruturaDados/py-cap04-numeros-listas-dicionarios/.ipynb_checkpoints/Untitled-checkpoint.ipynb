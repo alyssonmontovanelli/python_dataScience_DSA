{
 "cells": [
  {
   "cell_type": "markdown",
   "id": "79af3c20",
   "metadata": {},
   "source": [
    "# Exercício 1 - Imprima na tela os números de 1 a 10. Use uma lista para armazenar os números."
   ]
  },
  {
   "cell_type": "code",
   "execution_count": 3,
   "id": "ebddde5b",
   "metadata": {},
   "outputs": [
    {
     "data": {
      "text/plain": [
       "[0, 1, 2, 3, 4, 5, 6, 7, 8, 9]"
      ]
     },
     "execution_count": 3,
     "metadata": {},
     "output_type": "execute_result"
    }
   ],
   "source": [
    "list1 = []\n",
    "\n",
    "for n in range(10):\n",
    "    list1.append(n)\n",
    "    \n",
    "list1"
   ]
  },
  {
   "cell_type": "markdown",
   "id": "5dbbedbc",
   "metadata": {},
   "source": [
    "# Exercício 2 - Crie uma lista de 5 objetos e imprima na tela"
   ]
  },
  {
   "cell_type": "code",
   "execution_count": 7,
   "id": "5dea3d85",
   "metadata": {},
   "outputs": [
    {
     "data": {
      "text/plain": [
       "{'Arroz': 12, 'Feijão': 15, 'Acerola': 55, 'peito': 45, 'rola': 8}"
      ]
     },
     "execution_count": 7,
     "metadata": {},
     "output_type": "execute_result"
    }
   ],
   "source": [
    "list2 = {\"Arroz\": 12, \"Feijão\": 15, \"Acerola\":55, \"peito\":45, \"rola\":8}\n",
    "list2"
   ]
  },
  {
   "cell_type": "markdown",
   "id": "02cb5b8d",
   "metadata": {},
   "source": [
    "# Exercício 3 - Crie duas strings e concatene as duas em uma terceira string"
   ]
  },
  {
   "cell_type": "code",
   "execution_count": 9,
   "id": "f8c82f89",
   "metadata": {},
   "outputs": [
    {
     "data": {
      "text/plain": [
       "'Vou pegar a Vitória daquele jeitão'"
      ]
     },
     "execution_count": 9,
     "metadata": {},
     "output_type": "execute_result"
    }
   ],
   "source": [
    "str1 = \"Vou pegar a Vitória \"\n",
    "str2 = \"daquele jeitão\"\n",
    "\n",
    "str_final = str1 + str2\n",
    "str_final"
   ]
  },
  {
   "cell_type": "markdown",
   "id": "77dcffbd",
   "metadata": {},
   "source": [
    "# Exercício 4 - Crie uma tupla com os seguintes elementos: 1, 2, 2, 3, 4, 4, 4, 5 e depois utilize a função count do \n",
    "# objeto tupla para verificar quantas vezes o número 4 aparece na tupla"
   ]
  },
  {
   "cell_type": "code",
   "execution_count": 12,
   "id": "87e3b01d",
   "metadata": {},
   "outputs": [
    {
     "data": {
      "text/plain": [
       "3"
      ]
     },
     "execution_count": 12,
     "metadata": {},
     "output_type": "execute_result"
    }
   ],
   "source": [
    "tupla1 = (1,2,2,3,4,4,4,5)\n",
    "\n",
    "count4 = list(tupla1).count(4)\n",
    "count4"
   ]
  },
  {
   "cell_type": "markdown",
   "id": "2727f72c",
   "metadata": {},
   "source": [
    "# Exercício 5 - Crie um dicionário vazio e imprima na tela"
   ]
  },
  {
   "cell_type": "code",
   "execution_count": 13,
   "id": "bd10d09a",
   "metadata": {},
   "outputs": [
    {
     "data": {
      "text/plain": [
       "{}"
      ]
     },
     "execution_count": 13,
     "metadata": {},
     "output_type": "execute_result"
    }
   ],
   "source": [
    "dict1 = {}\n",
    "dict1"
   ]
  },
  {
   "cell_type": "markdown",
   "id": "b97042c4",
   "metadata": {},
   "source": [
    "# Exercício 6 - Crie um dicionário com 3 chaves e 3 valores e imprima na tela"
   ]
  },
  {
   "cell_type": "code",
   "execution_count": 14,
   "id": "7865930a",
   "metadata": {},
   "outputs": [
    {
     "data": {
      "text/plain": [
       "{'chave1': 0, 'chave2': 2, 'chave3': 4}"
      ]
     },
     "execution_count": 14,
     "metadata": {},
     "output_type": "execute_result"
    }
   ],
   "source": [
    "dict2 = {\"chave1\": 0, \"chave2\": 2, \"chave3\":4}\n",
    "dict2"
   ]
  },
  {
   "cell_type": "markdown",
   "id": "c183bb97",
   "metadata": {},
   "source": [
    "# Exercício 7 - Adicione mais um elemento ao dicionário criado no exercício anterior e imprima na tela"
   ]
  },
  {
   "cell_type": "code",
   "execution_count": 16,
   "id": "95649b4e",
   "metadata": {},
   "outputs": [
    {
     "data": {
      "text/plain": [
       "{'chave1': 0, 'chave2': 2, 'chave3': 6, 'chave4': 10}"
      ]
     },
     "execution_count": 16,
     "metadata": {},
     "output_type": "execute_result"
    }
   ],
   "source": [
    "dict2[\"chave4\"] = 10\n",
    "dict2"
   ]
  },
  {
   "cell_type": "markdown",
   "id": "0d4bb091",
   "metadata": {},
   "source": [
    "# Exercício 8 - Crie um dicionário com 3 chaves e 3 valores. \n",
    "# Um dos valores deve ser uma lista de 2 elementos numéricos. \n",
    "# Imprima o dicionário na tela."
   ]
  },
  {
   "cell_type": "code",
   "execution_count": 17,
   "id": "a0a24fa4",
   "metadata": {},
   "outputs": [
    {
     "data": {
      "text/plain": [
       "[1, 2, 3, 4, 5, 6, 7, 8, 9, 10]"
      ]
     },
     "execution_count": 17,
     "metadata": {},
     "output_type": "execute_result"
    }
   ],
   "source": [
    "dict3 = {\"value1\": [1,2,3,4,5,6,7,8,9,10], \"value2\": 15, \"value3\":100}\n",
    "dict3[\"value1\"]"
   ]
  },
  {
   "cell_type": "markdown",
   "id": "088f60ee",
   "metadata": {},
   "source": [
    "# Exercício 9 - Crie uma lista de 4 elementos. O primeiro elemento deve ser uma string, \n",
    "# o segundo uma tupla de 2 elementos, o terceiro um dcionário com 2 chaves e 2 valores e \n",
    "# o quarto elemento um valor do tipo float.\n",
    "# Imprima a lista."
   ]
  },
  {
   "cell_type": "code",
   "execution_count": 19,
   "id": "d44d930d",
   "metadata": {},
   "outputs": [
    {
     "data": {
      "text/plain": [
       "['Arroz é bom demais', (1, 2), {'valor1': 1, 'valor2': 2}, 9.56]"
      ]
     },
     "execution_count": 19,
     "metadata": {},
     "output_type": "execute_result"
    }
   ],
   "source": [
    "list_final = [\"Arroz é bom demais\", (1,2), {\"valor1\": 1, \"valor2\":2}, 9.56]\n",
    "\n",
    "list_final"
   ]
  },
  {
   "cell_type": "markdown",
   "id": "ed9694af",
   "metadata": {},
   "source": [
    "# Exercício 10 - Considere a string abaixo. Imprima na tela apenas os caracteres da posição 1 a 18.\n",
    "frase = 'Cientista de Dados é o profissional mais sexy do século XXI'"
   ]
  },
  {
   "cell_type": "code",
   "execution_count": 22,
   "id": "bf849e8f",
   "metadata": {},
   "outputs": [
    {
     "data": {
      "text/plain": [
       "'Cientista de Dados'"
      ]
     },
     "execution_count": 22,
     "metadata": {},
     "output_type": "execute_result"
    }
   ],
   "source": [
    "frase = 'Cientista de Dados é o profissional mais sexy do século XXI'\n",
    "len(frase)\n",
    "frase[0:18]"
   ]
  },
  {
   "cell_type": "code",
   "execution_count": null,
   "id": "468aacda",
   "metadata": {},
   "outputs": [],
   "source": []
  }
 ],
 "metadata": {
  "kernelspec": {
   "display_name": "Python 3 (ipykernel)",
   "language": "python",
   "name": "python3"
  },
  "language_info": {
   "codemirror_mode": {
    "name": "ipython",
    "version": 3
   },
   "file_extension": ".py",
   "mimetype": "text/x-python",
   "name": "python",
   "nbconvert_exporter": "python",
   "pygments_lexer": "ipython3",
   "version": "3.9.13"
  }
 },
 "nbformat": 4,
 "nbformat_minor": 5
}
