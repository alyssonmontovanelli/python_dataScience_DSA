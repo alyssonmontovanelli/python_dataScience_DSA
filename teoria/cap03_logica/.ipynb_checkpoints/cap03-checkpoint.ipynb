{
 "cells": [
  {
   "cell_type": "markdown",
   "id": "1abe4f95",
   "metadata": {},
   "source": [
    "## pseudocódigo para calcular a área de um paralelograma"
   ]
  },
  {
   "cell_type": "code",
   "execution_count": null,
   "id": "d3767daf",
   "metadata": {},
   "outputs": [],
   "source": [
    "print(\"Bem vindo ao calculador de polígonos\")"
   ]
  },
  {
   "cell_type": "code",
   "execution_count": null,
   "id": "e0e26ea4",
   "metadata": {
    "scrolled": true
   },
   "outputs": [],
   "source": [
    "base = float(input(\"Por favor, informe a medida da base: \"))"
   ]
  },
  {
   "cell_type": "code",
   "execution_count": null,
   "id": "baef765b",
   "metadata": {},
   "outputs": [],
   "source": [
    "altura = float(input(\"Agora a medida da altura: \"))"
   ]
  },
  {
   "cell_type": "code",
   "execution_count": null,
   "id": "82f50387",
   "metadata": {},
   "outputs": [],
   "source": [
    "areaTotal = altura*base"
   ]
  },
  {
   "cell_type": "code",
   "execution_count": null,
   "id": "93283326",
   "metadata": {},
   "outputs": [],
   "source": [
    "print(\"A área do paralelograma é de:\", areaTotal)"
   ]
  },
  {
   "cell_type": "markdown",
   "id": "463d29f2",
   "metadata": {},
   "source": [
    "## Calculadora Simples"
   ]
  },
  {
   "cell_type": "code",
   "execution_count": 12,
   "id": "deeb6964",
   "metadata": {
    "scrolled": true
   },
   "outputs": [
    {
     "name": "stdout",
     "output_type": "stream",
     "text": [
      "Insira o primeiro valor: 36\n"
     ]
    }
   ],
   "source": [
    "primeiro = float(input(\"Insira o primeiro valor: \"))"
   ]
  },
  {
   "cell_type": "code",
   "execution_count": 13,
   "id": "ca08be4e",
   "metadata": {},
   "outputs": [
    {
     "name": "stdout",
     "output_type": "stream",
     "text": [
      "Informe o segundo valor: 6\n"
     ]
    }
   ],
   "source": [
    "segundo =  float(input(\"Informe o segundo valor: \"))"
   ]
  },
  {
   "cell_type": "code",
   "execution_count": 14,
   "id": "b8054527",
   "metadata": {
    "scrolled": true
   },
   "outputs": [
    {
     "name": "stdout",
     "output_type": "stream",
     "text": [
      "digite o simbolo da operação ('+,-,/,*')~l\n"
     ]
    }
   ],
   "source": [
    "sinal = input(\"digite o simbolo da operação ('+,-,/,*')\")"
   ]
  },
  {
   "cell_type": "code",
   "execution_count": 15,
   "id": "d99f0456",
   "metadata": {},
   "outputs": [
    {
     "name": "stdout",
     "output_type": "stream",
     "text": [
      "Digite uma opção válida\n"
     ]
    }
   ],
   "source": [
    "if sinal == '+':\n",
    "    print(primeiro + segundo)\n",
    "\n",
    "elif sinal == '-':\n",
    "    print(primeiro - segundo)\n",
    "\n",
    "elif sinal == '*':\n",
    "    print(primeiro * segundo)\n",
    "    \n",
    "elif sinal == '/':\n",
    "    print(primeiro / segundo)\n",
    "else:\n",
    "    print(\"Digite uma opção válida\")"
   ]
  },
  {
   "cell_type": "markdown",
   "id": "5c66301d",
   "metadata": {},
   "source": [
    "## Bubble Sort"
   ]
  },
  {
   "cell_type": "code",
   "execution_count": 17,
   "id": "bd0d9ee5",
   "metadata": {},
   "outputs": [],
   "source": [
    "arraySort = [99,88,564,847,8,52,36,14,98]"
   ]
  },
  {
   "cell_type": "code",
   "execution_count": 18,
   "id": "b0a88371",
   "metadata": {},
   "outputs": [],
   "source": [
    "arrayBubble = []"
   ]
  },
  {
   "cell_type": "code",
   "execution_count": 21,
   "id": "25e85866",
   "metadata": {},
   "outputs": [
    {
     "name": "stdout",
     "output_type": "stream",
     "text": [
      "9\n"
     ]
    }
   ],
   "source": [
    "print(len(arraySort))\n",
    "    "
   ]
  },
  {
   "cell_type": "code",
   "execution_count": 22,
   "id": "044eaeba",
   "metadata": {},
   "outputs": [],
   "source": [
    "def bubbleSort(arr):\n",
    "    \n",
    "    n = len(arr)\n",
    "    \n",
    "    for i in range(n):\n",
    "        \n",
    "        for j in range(0, n-i-1):\n",
    "            \n",
    "            if arr[j] > arr[j+1]:\n",
    "                arr[j], arr[j+1] = arr[j+1], arr[j]\n",
    "                \n",
    "    return arr\n",
    "    "
   ]
  },
  {
   "cell_type": "code",
   "execution_count": 23,
   "id": "6121bb02",
   "metadata": {},
   "outputs": [
    {
     "name": "stdout",
     "output_type": "stream",
     "text": [
      "[8, 14, 36, 52, 88, 98, 99, 564, 847]\n"
     ]
    }
   ],
   "source": [
    "print(bubbleSort(arraySort))"
   ]
  },
  {
   "cell_type": "code",
   "execution_count": null,
   "id": "6a9ca83a",
   "metadata": {},
   "outputs": [],
   "source": []
  }
 ],
 "metadata": {
  "kernelspec": {
   "display_name": "Python 3 (ipykernel)",
   "language": "python",
   "name": "python3"
  },
  "language_info": {
   "codemirror_mode": {
    "name": "ipython",
    "version": 3
   },
   "file_extension": ".py",
   "mimetype": "text/x-python",
   "name": "python",
   "nbconvert_exporter": "python",
   "pygments_lexer": "ipython3",
   "version": "3.9.13"
  }
 },
 "nbformat": 4,
 "nbformat_minor": 5
}
