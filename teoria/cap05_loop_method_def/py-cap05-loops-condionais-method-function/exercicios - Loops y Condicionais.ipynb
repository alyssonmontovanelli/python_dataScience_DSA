{
 "cells": [
  {
   "cell_type": "markdown",
   "id": "11d5f30c",
   "metadata": {},
   "source": [
    "# EXERCÍCIOS"
   ]
  },
  {
   "cell_type": "markdown",
   "id": "fc62447b",
   "metadata": {},
   "source": [
    " ##### Exercício 1 - Crie uma estrutura que pergunte ao usuário qual o dia da semana. Se o dia for igual a Domingo ou  igual a sábado, imprima na tela \"Hoje é dia de descanso\", caso contrário imprima na tela \"Você precisa trabalhar!\""
   ]
  },
  {
   "cell_type": "code",
   "execution_count": null,
   "id": "f7bc152f",
   "metadata": {},
   "outputs": [],
   "source": [
    "resposta = input(\"Qual dia da semana é hoje? \")\n",
    "\n",
    "if resposta.lower() == \"sabado\" or resposta.lower() == \"domingo\":\n",
    "    print(\"Hoje é dia de descansar!\")\n",
    "    \n",
    "else:\n",
    "    print(\"Você precisa trabalhar!\")"
   ]
  },
  {
   "cell_type": "markdown",
   "id": "ef463e90",
   "metadata": {},
   "source": [
    "##### Exercício 2 - Crie uma lista de 5 frutas e verifique se a fruta 'Morango' faz parte da lista"
   ]
  },
  {
   "cell_type": "code",
   "execution_count": null,
   "id": "1eec0b04",
   "metadata": {},
   "outputs": [],
   "source": [
    "fruta = [\"Morango\", \"Banana\", \"Acerola\", \"Kiwi\", \"Maracujá\"]\n"
   ]
  },
  {
   "cell_type": "markdown",
   "id": "4bb0dce3",
   "metadata": {},
   "source": [
    "##### Exercício 3 - Crie uma tupla de 4 elementos, multiplique cada elemento da tupla por 2 e guarde os resultados em uma lista"
   ]
  },
  {
   "cell_type": "code",
   "execution_count": 7,
   "id": "c352b5cd",
   "metadata": {},
   "outputs": [
    {
     "name": "stdout",
     "output_type": "stream",
     "text": [
      "[4, 8, 10, 140, 4, 8, 10, 140]\n"
     ]
    }
   ],
   "source": [
    "tupla = (2, 4, 5, 70)\n",
    "\n",
    "#Duas formas de fazer \n",
    "\n",
    "listaMulti = [x*2 for x in tupla]\n",
    "\n",
    "for x in tupla:\n",
    "    listaMulti.append(x*2)\n",
    "\n",
    "print(listaMulti)"
   ]
  },
  {
   "cell_type": "markdown",
   "id": "04a3d913",
   "metadata": {},
   "source": [
    "##### Exercício 4 - Crie uma sequência de números pares entre 100 e 150 e imprima na tela"
   ]
  },
  {
   "cell_type": "code",
   "execution_count": 11,
   "id": "afbb373c",
   "metadata": {},
   "outputs": [
    {
     "name": "stdout",
     "output_type": "stream",
     "text": [
      "[102, 104, 106, 108, 110, 112, 114, 116, 118, 120, 122, 124, 126, 128, 130, 132, 134, 136, 138, 140, 142, 144, 146, 148]\n",
      "[102, 104, 106, 108, 110, 112, 114, 116, 118, 120, 122, 124, 126, 128, 130, 132, 134, 136, 138, 140, 142, 144, 146, 148]\n"
     ]
    }
   ],
   "source": [
    "#Duas formas de fazer \n",
    "\n",
    "sequenciaPares = [x for x in range(101, 150) if x%2==0]\n",
    "print(sequenciaPares)\n",
    "\n",
    "\n",
    "\n",
    "pares2 = []\n",
    "for x in range(101,150):\n",
    "    if x%2 == 0:\n",
    "        pares2.append(x)\n",
    "print(pares2)"
   ]
  },
  {
   "cell_type": "markdown",
   "id": "8175e76a",
   "metadata": {},
   "source": [
    "##### Exercício 5 - Crie uma variável chamada temperatura e atribua o valor 40. Enquanto temperatura for maior que 35, imprima as temperaturas na tela"
   ]
  },
  {
   "cell_type": "code",
   "execution_count": 14,
   "id": "b8322741",
   "metadata": {},
   "outputs": [
    {
     "name": "stdout",
     "output_type": "stream",
     "text": [
      "Temperatura é igual a:  40\n",
      "Temperatura é igual a:  39\n",
      "Temperatura é igual a:  38\n",
      "Temperatura é igual a:  37\n",
      "Temperatura é igual a:  36\n"
     ]
    }
   ],
   "source": [
    "temperatura = 40\n",
    "\n",
    "while temperatura > 35:\n",
    "    print(\"Temperatura é igual a: \",temperatura)\n",
    "    temperatura -= 1"
   ]
  },
  {
   "cell_type": "markdown",
   "id": "a0c7fe24",
   "metadata": {},
   "source": [
    "##### Exercício 6 - Crie uma variável chamada contador = 0. Enquanto counter for menor que 100, imprima os valores na tela,mas quando for encontrado o valor 23, interrompa a execução do programa"
   ]
  },
  {
   "cell_type": "code",
   "execution_count": 15,
   "id": "2d008420",
   "metadata": {},
   "outputs": [
    {
     "name": "stdout",
     "output_type": "stream",
     "text": [
      "0\n",
      "1\n",
      "2\n",
      "3\n",
      "4\n",
      "5\n",
      "6\n",
      "7\n",
      "8\n",
      "9\n",
      "10\n",
      "11\n",
      "12\n",
      "13\n",
      "14\n",
      "15\n",
      "16\n",
      "17\n",
      "18\n",
      "19\n",
      "20\n",
      "21\n",
      "22\n",
      "23\n"
     ]
    }
   ],
   "source": [
    "contador = 0\n",
    "\n",
    "while contador < 100:\n",
    "    if contador == 23:\n",
    "        print(contador)\n",
    "        break\n",
    "    else:\n",
    "        print(contador)\n",
    "        \n",
    "    contador+=1"
   ]
  },
  {
   "cell_type": "markdown",
   "id": "350ab108",
   "metadata": {},
   "source": [
    "##### Exercício 7 - Crie uma lista vazia e uma variável com valor 4. Enquanto o valor da variável for menor ou igual a 20, adicione à lista, apenas os valores pares e imprima a lista"
   ]
  },
  {
   "cell_type": "code",
   "execution_count": 19,
   "id": "d6985e9c",
   "metadata": {},
   "outputs": [
    {
     "name": "stdout",
     "output_type": "stream",
     "text": [
      "[4, 6, 8, 10, 12, 14, 16, 18, 20]\n"
     ]
    }
   ],
   "source": [
    "lista7 = []\n",
    "count = 4\n",
    "\n",
    "while count <= 20:\n",
    "    if count%2==0:\n",
    "        lista7.append(count)\n",
    "        \n",
    "    count+=1\n",
    "        \n",
    "print(lista7)"
   ]
  },
  {
   "cell_type": "markdown",
   "id": "135ceaff",
   "metadata": {},
   "source": [
    "##### Exercício 8 - Transforme o resultado desta função range em uma lista: range(5, 45, 2) \n",
    "nums = range(5, 45, 2)"
   ]
  },
  {
   "cell_type": "code",
   "execution_count": 22,
   "id": "225d17bd",
   "metadata": {},
   "outputs": [
    {
     "name": "stdout",
     "output_type": "stream",
     "text": [
      "[5, 7, 9, 11, 13, 15, 17, 19, 21, 23, 25, 27, 29, 31, 33, 35, 37, 39, 41, 43]\n",
      "[5, 7, 9, 11, 13, 15, 17, 19, 21, 23, 25, 27, 29, 31, 33, 35, 37, 39, 41, 43]\n"
     ]
    }
   ],
   "source": [
    "# Duas formas de resolver\n",
    "nums = range(5, 45, 2)\n",
    "\n",
    "lista8 = []\n",
    "for n in nums:\n",
    "    lista8.append(n)\n",
    "    \n",
    "print(lista8)\n",
    "\n",
    "#---------\n",
    "\n",
    "lista8Otimizada = [x for x in nums]\n",
    "print(lista8Otimizada)\n"
   ]
  },
  {
   "cell_type": "markdown",
   "id": "ca2fc50f",
   "metadata": {},
   "source": [
    "##### Exercício 9 - Faça a correção dos erros no código abaixo e execute o programa. Dica: são 3 erros.\n",
    "temperatura = float(input('Qual a temperatura? '))\n",
    "if temperatura > 30\n",
    "print('Vista roupas leves.')\n",
    "else\n",
    "    print('Busque seus casacos.')"
   ]
  },
  {
   "cell_type": "code",
   "execution_count": 26,
   "id": "077fae32",
   "metadata": {},
   "outputs": [
    {
     "name": "stdout",
     "output_type": "stream",
     "text": [
      "Qual a temperatura? 25\n",
      "Busque seus casacos.\n"
     ]
    }
   ],
   "source": [
    "temperatura = float(input('Qual a temperatura? '))\n",
    "if temperatura > 30:\n",
    "    print('Vista roupas leves.')\n",
    "else:\n",
    "    print('Busque seus casacos.')"
   ]
  },
  {
   "cell_type": "markdown",
   "id": "c41fbaac",
   "metadata": {},
   "source": [
    "##### Exercício 10 - Faça um programa que conte quantas vezes a letra \"r\" aparece na frase abaixo. Use um placeholder na sua instrução de impressão\n",
    " “A gratidão é a virtude das almas nobres. O quão feliz é uma pessoa depende da profundidade de sua gratidão.” "
   ]
  },
  {
   "cell_type": "code",
   "execution_count": 40,
   "id": "4ef37679",
   "metadata": {},
   "outputs": [
    {
     "data": {
      "text/plain": [
       "12"
      ]
     },
     "execution_count": 40,
     "metadata": {},
     "output_type": "execute_result"
    }
   ],
   "source": [
    "frase = \"A Rgratidão é a virtude das almas nobres. O quão feliz é uma pessoa depende da profundidade de sua gratidão.\" \n",
    "\n",
    "def contaLetra(x, y):\n",
    "    contador = 0\n",
    "    for letra in x:\n",
    "        if letra.lower() == y:\n",
    "            contador += 1        \n",
    "    return contador;\n",
    "\n",
    "contaLetra(frase, \"a\")"
   ]
  },
  {
   "cell_type": "code",
   "execution_count": null,
   "id": "bc2ffc5b",
   "metadata": {},
   "outputs": [],
   "source": []
  }
 ],
 "metadata": {
  "kernelspec": {
   "display_name": "Python 3 (ipykernel)",
   "language": "python",
   "name": "python3"
  },
  "language_info": {
   "codemirror_mode": {
    "name": "ipython",
    "version": 3
   },
   "file_extension": ".py",
   "mimetype": "text/x-python",
   "name": "python",
   "nbconvert_exporter": "python",
   "pygments_lexer": "ipython3",
   "version": "3.9.13"
  }
 },
 "nbformat": 4,
 "nbformat_minor": 5
}
