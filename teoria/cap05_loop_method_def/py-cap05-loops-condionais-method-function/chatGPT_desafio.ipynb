{
 "cells": [
  {
   "cell_type": "markdown",
   "id": "2bfe990b",
   "metadata": {},
   "source": [
    "# Escreva um programa que solicita ao usuário que insira uma lista de números separados por vírgulas e, em seguida, exiba a soma dos elementos pares da lista."
   ]
  },
  {
   "cell_type": "code",
   "execution_count": 7,
   "id": "6bb181a7",
   "metadata": {},
   "outputs": [
    {
     "name": "stdout",
     "output_type": "stream",
     "text": [
      "Por favor, inclua um número na lista: 50\n",
      "\n",
      "Deseja adicionar outro valor? S/N S\n",
      "\n",
      "Informe o valor: 25\n",
      "\n",
      "Deseja adicionar outro valor? S/N S\n",
      "\n",
      "Informe o valor: 63\n",
      "\n",
      "Deseja adicionar outro valor? S/N S\n",
      "\n",
      "Informe o valor: 10\n",
      "\n",
      "Deseja adicionar outro valor? S/N S\n",
      "\n",
      "Informe o valor: 90\n",
      "\n",
      "Deseja adicionar outro valor? S/N S\n",
      "\n",
      "Informe o valor: 100\n",
      "\n",
      "Deseja adicionar outro valor? S/N N\n",
      "[25.0, 63.0, 10.0, 90.0, 100.0]\n",
      "200.0\n"
     ]
    }
   ],
   "source": [
    "valor = 0\n",
    "lista = []\n",
    "soma_pares = 0\n",
    "\n",
    "int(input((\"Por favor, inclua um número na lista: \")))\n",
    "\n",
    "while valor < 100:\n",
    "    condicao = input(\"\\nDeseja adicionar outro valor? S/N \")\n",
    "    \n",
    "    if condicao == \"S\":\n",
    "        entrada = float(input(\"\\nInforme o valor: \"))\n",
    "        lista.append(entrada)\n",
    "        valor+=1\n",
    "        \n",
    "    else: \n",
    "        break\n",
    "        \n",
    "for i in lista:\n",
    "    if i%2 == 0:\n",
    "        soma_pares += i\n",
    "\n",
    "        \n",
    "print(lista)\n",
    "print(soma_pares)"
   ]
  },
  {
   "cell_type": "code",
   "execution_count": null,
   "id": "96c47c72",
   "metadata": {},
   "outputs": [],
   "source": []
  },
  {
   "cell_type": "code",
   "execution_count": null,
   "id": "89d65215",
   "metadata": {},
   "outputs": [],
   "source": []
  },
  {
   "cell_type": "code",
   "execution_count": null,
   "id": "7f6406dd",
   "metadata": {},
   "outputs": [],
   "source": []
  }
 ],
 "metadata": {
  "kernelspec": {
   "display_name": "Python 3 (ipykernel)",
   "language": "python",
   "name": "python3"
  },
  "language_info": {
   "codemirror_mode": {
    "name": "ipython",
    "version": 3
   },
   "file_extension": ".py",
   "mimetype": "text/x-python",
   "name": "python",
   "nbconvert_exporter": "python",
   "pygments_lexer": "ipython3",
   "version": "3.9.13"
  }
 },
 "nbformat": 4,
 "nbformat_minor": 5
}
