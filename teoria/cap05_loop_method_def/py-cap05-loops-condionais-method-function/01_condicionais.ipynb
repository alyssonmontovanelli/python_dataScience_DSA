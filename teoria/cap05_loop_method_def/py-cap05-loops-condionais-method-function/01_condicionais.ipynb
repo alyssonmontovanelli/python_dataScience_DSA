{
 "cells": [
  {
   "cell_type": "markdown",
   "id": "5ca272fb",
   "metadata": {},
   "source": [
    "## Condiconail IF"
   ]
  },
  {
   "cell_type": "code",
   "execution_count": 1,
   "id": "e0a65011",
   "metadata": {},
   "outputs": [
    {
     "name": "stdout",
     "output_type": "stream",
     "text": [
      "é maior\n"
     ]
    }
   ],
   "source": [
    "if 5>2:\n",
    "    print(\"é maior\")"
   ]
  },
  {
   "cell_type": "code",
   "execution_count": 2,
   "id": "6a011f33",
   "metadata": {},
   "outputs": [
    {
     "name": "stdout",
     "output_type": "stream",
     "text": [
      "menor\n"
     ]
    }
   ],
   "source": [
    "if 5<2:\n",
    "    print(\"maior\")\n",
    "else:\n",
    "    print(\"menor\")"
   ]
  },
  {
   "cell_type": "code",
   "execution_count": 3,
   "id": "f53e6332",
   "metadata": {},
   "outputs": [
    {
     "name": "stdout",
     "output_type": "stream",
     "text": [
      "idade está entre 20 e 25\n"
     ]
    }
   ],
   "source": [
    "idade = 25\n",
    "\n",
    "if 25 < idade < 30:\n",
    "    print(\"idade está entre 26 e 30\")\n",
    "elif 20 < idade <=25:\n",
    "    print(\"idade está entre 20 e 25\")\n",
    "else:\n",
    "    print(\"Nenhuma das alternativas acima\")"
   ]
  },
  {
   "cell_type": "markdown",
   "id": "d2cd667f",
   "metadata": {},
   "source": [
    "## condicional aninhado"
   ]
  },
  {
   "cell_type": "code",
   "execution_count": 9,
   "id": "1bf1821e",
   "metadata": {},
   "outputs": [
    {
     "name": "stdout",
     "output_type": "stream",
     "text": [
      "Ok, tudo certo\n"
     ]
    }
   ],
   "source": [
    "nome = \"Alysson\"\n",
    "idade = 26\n",
    "\n",
    "if idade < 30 and nome == \"Alysson\":\n",
    "    print(\"Ok, tudo certo\")\n",
    "else: \n",
    "    print(\"Tudo errado\")"
   ]
  },
  {
   "cell_type": "code",
   "execution_count": 10,
   "id": "202ca769",
   "metadata": {},
   "outputs": [
    {
     "name": "stdout",
     "output_type": "stream",
     "text": [
      "Ok, tudo certo\n"
     ]
    }
   ],
   "source": [
    "if (idade > 30) or (nome == \"Alysson\"):\n",
    "    print(\"Ok, tudo certo\")\n",
    "else: \n",
    "    print(\"Tudo errado\")"
   ]
  },
  {
   "cell_type": "markdown",
   "id": "bb65a5a2",
   "metadata": {},
   "source": [
    "## Opreadores Lógicos \n",
    "\n",
    "##### and\n",
    "##### or\n",
    "##### not"
   ]
  },
  {
   "cell_type": "code",
   "execution_count": 12,
   "id": "a6e3bd63",
   "metadata": {},
   "outputs": [
    {
     "name": "stdout",
     "output_type": "stream",
     "text": [
      "Número par\n"
     ]
    }
   ],
   "source": [
    "valor = 18\n",
    "\n",
    "if (valor>10) and (valor%2==0):\n",
    "    print(\"Número par\")"
   ]
  },
  {
   "cell_type": "code",
   "execution_count": 13,
   "id": "b3711609",
   "metadata": {},
   "outputs": [
    {
     "name": "stdout",
     "output_type": "stream",
     "text": [
      "Yeaaah\n"
     ]
    }
   ],
   "source": [
    "if (valor > 10) or (valor%5 ==0):\n",
    "    print(\"Yeaaah\")"
   ]
  },
  {
   "cell_type": "code",
   "execution_count": 19,
   "id": "6711ccdb",
   "metadata": {},
   "outputs": [
    {
     "name": "stdout",
     "output_type": "stream",
     "text": [
      "EOQ\n"
     ]
    }
   ],
   "source": [
    "if not(valor%2 == 0):\n",
    "    print(\"notzada\")\n",
    "else:\n",
    "    print(\"EOQ\")"
   ]
  },
  {
   "cell_type": "code",
   "execution_count": 23,
   "id": "440cf258",
   "metadata": {},
   "outputs": [
    {
     "name": "stdout",
     "output_type": "stream",
     "text": [
      "Validação ok, aprovado em Matemática com média final 95\n"
     ]
    }
   ],
   "source": [
    "#Usando mais de uma condicional na cláusula if e introduzindo placeholders\n",
    "\n",
    "disciplina = \"Matemática\"\n",
    "nota_final = 95\n",
    "semestre = 2\n",
    "\n",
    "if disciplina == \"Matemática\" and nota_final >= 80 and semestre !=1:\n",
    "    print(\"Validação ok, aprovado em %s com média final %r\" %(disciplina, nota_final))\n",
    "else:\n",
    "    print(\"Validação não Ok\")\n"
   ]
  },
  {
   "cell_type": "code",
   "execution_count": null,
   "id": "f562dcc1",
   "metadata": {},
   "outputs": [],
   "source": []
  }
 ],
 "metadata": {
  "kernelspec": {
   "display_name": "Python 3 (ipykernel)",
   "language": "python",
   "name": "python3"
  },
  "language_info": {
   "codemirror_mode": {
    "name": "ipython",
    "version": 3
   },
   "file_extension": ".py",
   "mimetype": "text/x-python",
   "name": "python",
   "nbconvert_exporter": "python",
   "pygments_lexer": "ipython3",
   "version": "3.9.13"
  }
 },
 "nbformat": 4,
 "nbformat_minor": 5
}
