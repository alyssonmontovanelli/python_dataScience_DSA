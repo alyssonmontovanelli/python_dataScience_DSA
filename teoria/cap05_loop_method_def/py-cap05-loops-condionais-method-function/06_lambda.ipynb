{
 "cells": [
  {
   "cell_type": "markdown",
   "id": "345e9df2",
   "metadata": {},
   "source": [
    "# Expressão LAMBDA"
   ]
  },
  {
   "cell_type": "code",
   "execution_count": 2,
   "id": "561b346a",
   "metadata": {},
   "outputs": [],
   "source": [
    "def potencia(num):\n",
    "    return num ** 2"
   ]
  },
  {
   "cell_type": "code",
   "execution_count": 3,
   "id": "2c417ac5",
   "metadata": {},
   "outputs": [
    {
     "data": {
      "text/plain": [
       "16"
      ]
     },
     "execution_count": 3,
     "metadata": {},
     "output_type": "execute_result"
    }
   ],
   "source": [
    "potencia(4)"
   ]
  },
  {
   "cell_type": "code",
   "execution_count": 7,
   "id": "c879b647",
   "metadata": {},
   "outputs": [],
   "source": [
    "#Simplificando a função\n",
    "\n",
    "def potencial(num): return num ** 2"
   ]
  },
  {
   "cell_type": "code",
   "execution_count": 8,
   "id": "4a8d3e57",
   "metadata": {},
   "outputs": [
    {
     "data": {
      "text/plain": [
       "36"
      ]
     },
     "execution_count": 8,
     "metadata": {},
     "output_type": "execute_result"
    }
   ],
   "source": [
    "potencial(6)"
   ]
  },
  {
   "cell_type": "code",
   "execution_count": 9,
   "id": "e16ea51a",
   "metadata": {},
   "outputs": [],
   "source": [
    "#Definindo uma expressão LAMBDA - função anônima (cria em tempo de execução)"
   ]
  },
  {
   "cell_type": "code",
   "execution_count": 10,
   "id": "15d64e8a",
   "metadata": {},
   "outputs": [],
   "source": [
    "potenciaLambda = lambda num: num ** 2"
   ]
  },
  {
   "cell_type": "code",
   "execution_count": 11,
   "id": "7895c9f0",
   "metadata": {},
   "outputs": [
    {
     "data": {
      "text/plain": [
       "4"
      ]
     },
     "execution_count": 11,
     "metadata": {},
     "output_type": "execute_result"
    }
   ],
   "source": [
    "potenciaLambda(2)"
   ]
  },
  {
   "cell_type": "code",
   "execution_count": 13,
   "id": "a2f3bf00",
   "metadata": {},
   "outputs": [],
   "source": [
    "numPar = lambda num: num % 2 == 0 "
   ]
  },
  {
   "cell_type": "code",
   "execution_count": 14,
   "id": "d4f38a5f",
   "metadata": {},
   "outputs": [
    {
     "data": {
      "text/plain": [
       "True"
      ]
     },
     "execution_count": 14,
     "metadata": {},
     "output_type": "execute_result"
    }
   ],
   "source": [
    "numPar(2)"
   ]
  },
  {
   "cell_type": "code",
   "execution_count": 15,
   "id": "f2e00188",
   "metadata": {},
   "outputs": [],
   "source": [
    "primeiraLetra = lambda s: s[0]"
   ]
  },
  {
   "cell_type": "code",
   "execution_count": 16,
   "id": "05b3ca97",
   "metadata": {},
   "outputs": [],
   "source": [
    "ultimaLetra = lambda s: s[-1]"
   ]
  },
  {
   "cell_type": "code",
   "execution_count": 17,
   "id": "4762be41",
   "metadata": {},
   "outputs": [
    {
     "data": {
      "text/plain": [
       "'a'"
      ]
     },
     "execution_count": 17,
     "metadata": {},
     "output_type": "execute_result"
    }
   ],
   "source": [
    "primeiraLetra(\"arroz\")"
   ]
  },
  {
   "cell_type": "code",
   "execution_count": 18,
   "id": "2b456861",
   "metadata": {},
   "outputs": [
    {
     "data": {
      "text/plain": [
       "'z'"
      ]
     },
     "execution_count": 18,
     "metadata": {},
     "output_type": "execute_result"
    }
   ],
   "source": [
    "ultimaLetra(\"arroz\")"
   ]
  },
  {
   "cell_type": "code",
   "execution_count": 19,
   "id": "88b38809",
   "metadata": {},
   "outputs": [],
   "source": [
    "somaNum = lambda x,y,z: x+y+z"
   ]
  },
  {
   "cell_type": "code",
   "execution_count": 20,
   "id": "955893a0",
   "metadata": {},
   "outputs": [
    {
     "data": {
      "text/plain": [
       "6"
      ]
     },
     "execution_count": 20,
     "metadata": {},
     "output_type": "execute_result"
    }
   ],
   "source": [
    "somaNum(1,2,3)"
   ]
  },
  {
   "cell_type": "code",
   "execution_count": null,
   "id": "97ec8cc0",
   "metadata": {},
   "outputs": [],
   "source": []
  }
 ],
 "metadata": {
  "kernelspec": {
   "display_name": "Python 3 (ipykernel)",
   "language": "python",
   "name": "python3"
  },
  "language_info": {
   "codemirror_mode": {
    "name": "ipython",
    "version": 3
   },
   "file_extension": ".py",
   "mimetype": "text/x-python",
   "name": "python",
   "nbconvert_exporter": "python",
   "pygments_lexer": "ipython3",
   "version": "3.9.13"
  }
 },
 "nbformat": 4,
 "nbformat_minor": 5
}
