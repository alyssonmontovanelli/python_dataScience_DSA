{
 "cells": [
  {
   "cell_type": "markdown",
   "id": "c530f9ec",
   "metadata": {},
   "source": [
    "# List Comprehension\n",
    "\n",
    "### Expressão for item in interable if condição == true"
   ]
  },
  {
   "cell_type": "code",
   "execution_count": 3,
   "id": "ced2f74f",
   "metadata": {},
   "outputs": [
    {
     "data": {
      "text/plain": [
       "[True, False, True, False, True, False, True, False, True, False]"
      ]
     },
     "execution_count": 3,
     "metadata": {},
     "output_type": "execute_result"
    }
   ],
   "source": [
    "[x%2==0 for x in range(10)]"
   ]
  },
  {
   "cell_type": "code",
   "execution_count": 4,
   "id": "4a7f6d7e",
   "metadata": {},
   "outputs": [
    {
     "data": {
      "text/plain": [
       "[40, 56, 72, 88, 104]"
      ]
     },
     "execution_count": 4,
     "metadata": {},
     "output_type": "execute_result"
    }
   ],
   "source": [
    "[n*8 for n in range(5,15,2)]"
   ]
  },
  {
   "cell_type": "code",
   "execution_count": 5,
   "id": "eb34de86",
   "metadata": {},
   "outputs": [],
   "source": [
    "x = lambda n: n/2"
   ]
  },
  {
   "cell_type": "code",
   "execution_count": 6,
   "id": "b78c231b",
   "metadata": {},
   "outputs": [
    {
     "data": {
      "text/plain": [
       "5.0"
      ]
     },
     "execution_count": 6,
     "metadata": {},
     "output_type": "execute_result"
    }
   ],
   "source": [
    "x(10)"
   ]
  },
  {
   "cell_type": "code",
   "execution_count": 7,
   "id": "81b0453e",
   "metadata": {},
   "outputs": [],
   "source": [
    "listaCriada = [x for x in range(10)]"
   ]
  },
  {
   "cell_type": "code",
   "execution_count": 8,
   "id": "c923b075",
   "metadata": {},
   "outputs": [
    {
     "data": {
      "text/plain": [
       "[0, 1, 2, 3, 4, 5, 6, 7, 8, 9]"
      ]
     },
     "execution_count": 8,
     "metadata": {},
     "output_type": "execute_result"
    }
   ],
   "source": [
    "listaCriada"
   ]
  },
  {
   "cell_type": "code",
   "execution_count": 9,
   "id": "f8d046a7",
   "metadata": {},
   "outputs": [],
   "source": [
    "#Aplicando condicionantes do list Comprehension\n",
    "\n",
    "listaCondicional = [x for x in range(30) if x%2==0]"
   ]
  },
  {
   "cell_type": "code",
   "execution_count": 10,
   "id": "f0fe7f81",
   "metadata": {},
   "outputs": [
    {
     "data": {
      "text/plain": [
       "[0, 2, 4, 6, 8, 10, 12, 14, 16, 18, 20, 22, 24, 26, 28]"
      ]
     },
     "execution_count": 10,
     "metadata": {},
     "output_type": "execute_result"
    }
   ],
   "source": [
    "listaCondicional"
   ]
  },
  {
   "cell_type": "code",
   "execution_count": 14,
   "id": "41c68ff1",
   "metadata": {},
   "outputs": [
    {
     "name": "stdout",
     "output_type": "stream",
     "text": [
      "[2, 4, 6, 8, 10, 12]\n",
      "[2, 4, 6, 8, 10, 12]\n"
     ]
    }
   ],
   "source": [
    "#Duas formas de fazer a mesma coisa\n",
    "\n",
    "lista1 = []\n",
    "lista2 = [1,2,3,4,5,6,7,8,9,10,11,12]\n",
    "\n",
    "for x in lista2:\n",
    "    if x%2 == 0:\n",
    "        lista1.append(x)\n",
    "\n",
    "        \n",
    "listaOtimizada = [x for x in lista2 if x%2==0]        \n",
    "\n",
    "print(lista1)\n",
    "print(listaOtimizada)\n",
    "\n"
   ]
  },
  {
   "cell_type": "code",
   "execution_count": 17,
   "id": "90f94ffd",
   "metadata": {},
   "outputs": [
    {
     "name": "stdout",
     "output_type": "stream",
     "text": [
      "['maçã', 'melância', 'mamão']\n",
      "['maçã', 'melância', 'mamão']\n"
     ]
    }
   ],
   "source": [
    "# Array de fruta pra filtrar se existe uma letra\n",
    "\n",
    "fruta = [\"banana\", \"maçã\", \"melância\", \"cereja\", \"abacate\", \"mamão\"]\n",
    "frutaNovo1 = []\n",
    "\n",
    "for x in fruta:\n",
    "    if \"m\" in x:\n",
    "        frutaNovo1.append(x)\n",
    "        \n",
    "\n",
    "# Com list Comprehension        \n",
    "\n",
    "arrayFrutaOtimizado = [x for x in fruta if \"m\" in x]\n",
    "        \n",
    "        \n",
    "print(frutaNovo1)\n",
    "print(arrayFrutaOtimizado)\n",
    "\n"
   ]
  },
  {
   "cell_type": "markdown",
   "id": "67d24ed3",
   "metadata": {},
   "source": [
    "### Trabalhando com dicionário\n",
    "\n",
    "# DICT COMPREHENSION"
   ]
  },
  {
   "cell_type": "code",
   "execution_count": 42,
   "id": "1018419d",
   "metadata": {},
   "outputs": [
    {
     "name": "stdout",
     "output_type": "stream",
     "text": [
      "{'Olaf': 25, 'Roberto': 32, 'Vitória': 24, 'Alysson': 26}\n",
      "{'Olaf': 25, 'Roberto': 32, 'Vitória': 24, 'Alysson': 26}\n"
     ]
    }
   ],
   "source": [
    "dict = {\"Olaf\":17, \"Roberto\": 18, \"Vitória\": 24, \"Alysson\": 26}\n",
    "\n",
    "\n",
    "dict_status = {k:v for (k,v) in dict.items()}\n",
    "\n",
    "print(dict)\n",
    "print(dict_status)"
   ]
  },
  {
   "cell_type": "code",
   "execution_count": 47,
   "id": "e09642e7",
   "metadata": {},
   "outputs": [
    {
     "data": {
      "text/plain": [
       "{'Olaf': 'Maior de idade',\n",
       " 'Roberto': 'Maior de idade',\n",
       " 'Vitória': 'Maior de idade',\n",
       " 'Alysson': 'Maior de idade'}"
      ]
     },
     "execution_count": 47,
     "metadata": {},
     "output_type": "execute_result"
    }
   ],
   "source": [
    "## Tratando as informações acima\n",
    "\n",
    "status_final = { k:(\"Maior de idade\" if v>=18 else \"Menor de idade\") for (k,v) in dict.items()}\n",
    "\n",
    "status_final"
   ]
  },
  {
   "cell_type": "code",
   "execution_count": null,
   "id": "9044cd03",
   "metadata": {},
   "outputs": [],
   "source": []
  }
 ],
 "metadata": {
  "kernelspec": {
   "display_name": "Python 3 (ipykernel)",
   "language": "python",
   "name": "python3"
  },
  "language_info": {
   "codemirror_mode": {
    "name": "ipython",
    "version": 3
   },
   "file_extension": ".py",
   "mimetype": "text/x-python",
   "name": "python",
   "nbconvert_exporter": "python",
   "pygments_lexer": "ipython3",
   "version": "3.9.13"
  }
 },
 "nbformat": 4,
 "nbformat_minor": 5
}
