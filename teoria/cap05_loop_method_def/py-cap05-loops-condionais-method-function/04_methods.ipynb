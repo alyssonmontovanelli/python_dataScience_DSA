{
 "cells": [
  {
   "cell_type": "markdown",
   "id": "2a9ab4ff",
   "metadata": {},
   "source": [
    "# METÓDOS"
   ]
  },
  {
   "cell_type": "code",
   "execution_count": 1,
   "id": "81d23377",
   "metadata": {},
   "outputs": [],
   "source": [
    "lista = [1,2,3]"
   ]
  },
  {
   "cell_type": "code",
   "execution_count": 2,
   "id": "8e714186",
   "metadata": {},
   "outputs": [
    {
     "data": {
      "text/plain": [
       "list"
      ]
     },
     "execution_count": 2,
     "metadata": {},
     "output_type": "execute_result"
    }
   ],
   "source": [
    "type(lista)"
   ]
  },
  {
   "cell_type": "code",
   "execution_count": 3,
   "id": "1e9c003e",
   "metadata": {},
   "outputs": [
    {
     "data": {
      "text/plain": [
       "1"
      ]
     },
     "execution_count": 3,
     "metadata": {},
     "output_type": "execute_result"
    }
   ],
   "source": [
    "lista.index(2)"
   ]
  },
  {
   "cell_type": "code",
   "execution_count": 4,
   "id": "48aa69f4",
   "metadata": {},
   "outputs": [],
   "source": [
    "lista.append(2)"
   ]
  },
  {
   "cell_type": "code",
   "execution_count": 5,
   "id": "8846e55d",
   "metadata": {},
   "outputs": [
    {
     "name": "stdout",
     "output_type": "stream",
     "text": [
      "[1, 2, 3, 2]\n"
     ]
    }
   ],
   "source": [
    "print(lista)"
   ]
  },
  {
   "cell_type": "code",
   "execution_count": 6,
   "id": "80ea241f",
   "metadata": {},
   "outputs": [
    {
     "data": {
      "text/plain": [
       "2"
      ]
     },
     "execution_count": 6,
     "metadata": {},
     "output_type": "execute_result"
    }
   ],
   "source": [
    "lista.count(2)"
   ]
  },
  {
   "cell_type": "code",
   "execution_count": 7,
   "id": "b091f35b",
   "metadata": {},
   "outputs": [],
   "source": [
    "frase = \"Isso é uma String\""
   ]
  },
  {
   "cell_type": "code",
   "execution_count": 8,
   "id": "537d3107",
   "metadata": {},
   "outputs": [
    {
     "data": {
      "text/plain": [
       "str"
      ]
     },
     "execution_count": 8,
     "metadata": {},
     "output_type": "execute_result"
    }
   ],
   "source": [
    "type(frase)"
   ]
  },
  {
   "cell_type": "code",
   "execution_count": 9,
   "id": "44475f5c",
   "metadata": {},
   "outputs": [
    {
     "data": {
      "text/plain": [
       "['Isso', 'é', 'uma', 'String']"
      ]
     },
     "execution_count": 9,
     "metadata": {},
     "output_type": "execute_result"
    }
   ],
   "source": [
    "frase.split()"
   ]
  },
  {
   "cell_type": "code",
   "execution_count": null,
   "id": "a7d56e59",
   "metadata": {},
   "outputs": [],
   "source": []
  }
 ],
 "metadata": {
  "kernelspec": {
   "display_name": "Python 3 (ipykernel)",
   "language": "python",
   "name": "python3"
  },
  "language_info": {
   "codemirror_mode": {
    "name": "ipython",
    "version": 3
   },
   "file_extension": ".py",
   "mimetype": "text/x-python",
   "name": "python",
   "nbconvert_exporter": "python",
   "pygments_lexer": "ipython3",
   "version": "3.9.13"
  }
 },
 "nbformat": 4,
 "nbformat_minor": 5
}
