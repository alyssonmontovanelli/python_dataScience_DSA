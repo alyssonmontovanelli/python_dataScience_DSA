{
 "cells": [
  {
   "cell_type": "markdown",
   "id": "7b0f9460",
   "metadata": {},
   "source": [
    "# Calculadora"
   ]
  },
  {
   "cell_type": "code",
   "execution_count": 30,
   "id": "4b40cb26",
   "metadata": {},
   "outputs": [
    {
     "name": "stdout",
     "output_type": "stream",
     "text": [
      "\n",
      "******************* Calculadora em Python *******************\n",
      "\n",
      "Selecione o número da opeação desejada:\n",
      "\n",
      "1 - Soma\n",
      "2 - Subtração\n",
      "3 - Multiplicação\n",
      "4 - Divisão\n",
      "Digite sua opção (1/2/3/4): 5\n",
      "\n",
      "Informe o primeiro valor: 45\n",
      "\n",
      "Informe o segundo valor: 12\n",
      "Digite um valor válido\n"
     ]
    }
   ],
   "source": [
    "print(\"\\n******************* Calculadora em Python *******************\")\n",
    "\n",
    "# Menu principal\n",
    "def menu():\n",
    "    print(\"\\nSelecione o número da opeação desejada:\");\n",
    "    print(\"\\n1 - Soma\");\n",
    "    print(\"2 - Subtração\");\n",
    "    print(\"3 - Multiplicação\");\n",
    "    print(\"4 - Divisão\");\n",
    "    operacao = input(\"\\nDigite sua opção (1/2/3/4): \")\n",
    "    return (operacao)\n",
    "\n",
    "\n",
    "#Função de operadores\n",
    "\n",
    "def soma(x,y):\n",
    "    soma = x + y\n",
    "    print(\"%d + %d = %d\" %(x,y,soma))\n",
    "\n",
    "def subtrair(x,y):\n",
    "    subtracao = x - y\n",
    "    print(\"%d - %d = %d\" %(x,y,subtracao))\n",
    "\n",
    "def multiplica(x,y):\n",
    "    multiplicacao = x * y\n",
    "    print(\"%d * %d = %d\" %(x,y,multiplicacao))\n",
    "    \n",
    "def divisao(x,y):\n",
    "    divisao = x / y\n",
    "    print(\"%d / %d = %d\" %(x,y,divisao))\n",
    "    \n",
    "    \n",
    "\n",
    "# calculadora em si\n",
    "def calculadora():\n",
    "    opcao = menu()\n",
    "    x = int(input(\"\\nInforme o primeiro valor: \"))\n",
    "    y = int(input(\"\\nInforme o segundo valor: \"))\n",
    "    \n",
    "    if opcao == \"1\":\n",
    "        soma(x,y)\n",
    "    elif opcao == \"2\":\n",
    "        subtrair(x,y)\n",
    "    elif opcao == \"3\":\n",
    "        multiplica(x,y)\n",
    "    elif opcao == \"4\":\n",
    "        divisao(x,y)\n",
    "    else:\n",
    "        print(\"Digite um valor válido\")\n",
    "\n",
    "calculadora()"
   ]
  },
  {
   "cell_type": "code",
   "execution_count": null,
   "id": "d3a3833c",
   "metadata": {},
   "outputs": [],
   "source": []
  }
 ],
 "metadata": {
  "kernelspec": {
   "display_name": "Python 3 (ipykernel)",
   "language": "python",
   "name": "python3"
  },
  "language_info": {
   "codemirror_mode": {
    "name": "ipython",
    "version": 3
   },
   "file_extension": ".py",
   "mimetype": "text/x-python",
   "name": "python",
   "nbconvert_exporter": "python",
   "pygments_lexer": "ipython3",
   "version": "3.9.13"
  }
 },
 "nbformat": 4,
 "nbformat_minor": 5
}
