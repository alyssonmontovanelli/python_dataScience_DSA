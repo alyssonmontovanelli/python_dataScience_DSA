{
 "cells": [
  {
   "cell_type": "markdown",
   "id": "f40267b1",
   "metadata": {},
   "source": [
    "# Loop FOR"
   ]
  },
  {
   "cell_type": "code",
   "execution_count": 6,
   "id": "fa2fa6fd",
   "metadata": {
    "scrolled": true
   },
   "outputs": [
    {
     "name": "stdout",
     "output_type": "stream",
     "text": [
      "4\n",
      "5\n",
      "9\n",
      "8\n",
      "7\n",
      "10\n"
     ]
    }
   ],
   "source": [
    "tp = (4,5,9,8,7,10)\n",
    "\n",
    "for i in tp:\n",
    "    print(i)"
   ]
  },
  {
   "cell_type": "code",
   "execution_count": 2,
   "id": "3024c5c6",
   "metadata": {},
   "outputs": [
    {
     "data": {
      "text/plain": [
       "[4, 5, 9, 8, 7, 10]"
      ]
     },
     "execution_count": 2,
     "metadata": {},
     "output_type": "execute_result"
    }
   ],
   "source": [
    "lista1 = []\n",
    "\n",
    "for n in tp:\n",
    "    lista1.append(n)\n",
    "    \n",
    "lista1"
   ]
  },
  {
   "cell_type": "code",
   "execution_count": 5,
   "id": "dd835675",
   "metadata": {},
   "outputs": [
    {
     "name": "stdout",
     "output_type": "stream",
     "text": [
      "2\n",
      "3\n",
      "4\n",
      "5\n",
      "6\n",
      "7\n",
      "8\n",
      "9\n"
     ]
    }
   ],
   "source": [
    "for contador in range(2,10):\n",
    "    print(contador)"
   ]
  },
  {
   "cell_type": "code",
   "execution_count": 11,
   "id": "8e9bbf2d",
   "metadata": {},
   "outputs": [
    {
     "name": "stdout",
     "output_type": "stream",
     "text": [
      "858\n",
      "[2, 4, 6, 8, 10, 12, 20, 68, 94, 44, 12, 120, 236, 74, 56, 12, 80]\n"
     ]
    }
   ],
   "source": [
    "pares = [];\n",
    "valor_final = 0;\n",
    "lista2 = [1,2,3,4,5,6,7,8,9,10,12,20,25,68,94,44,45,67,89,12,159,541,120,236,89,74,56,12,80];\n",
    "\n",
    "for i in lista2:\n",
    "    if i%2==0:\n",
    "        pares.append(i)\n",
    "        valor_final += i\n",
    "        \n",
    "print(valor_final)\n",
    "print(pares)"
   ]
  },
  {
   "cell_type": "code",
   "execution_count": 13,
   "id": "10790df8",
   "metadata": {
    "collapsed": true
   },
   "outputs": [
    {
     "data": {
      "text/plain": [
       "[0,\n",
       " 2,\n",
       " 4,\n",
       " 6,\n",
       " 8,\n",
       " 10,\n",
       " 12,\n",
       " 14,\n",
       " 16,\n",
       " 18,\n",
       " 20,\n",
       " 22,\n",
       " 24,\n",
       " 26,\n",
       " 28,\n",
       " 30,\n",
       " 32,\n",
       " 34,\n",
       " 36,\n",
       " 38,\n",
       " 40,\n",
       " 42,\n",
       " 44,\n",
       " 46,\n",
       " 48,\n",
       " 50,\n",
       " 52,\n",
       " 54,\n",
       " 56,\n",
       " 58,\n",
       " 60,\n",
       " 62,\n",
       " 64,\n",
       " 66,\n",
       " 68,\n",
       " 70,\n",
       " 72,\n",
       " 74,\n",
       " 76,\n",
       " 78,\n",
       " 80,\n",
       " 82,\n",
       " 84,\n",
       " 86,\n",
       " 88,\n",
       " 90,\n",
       " 92,\n",
       " 94,\n",
       " 96,\n",
       " 98]"
      ]
     },
     "execution_count": 13,
     "metadata": {},
     "output_type": "execute_result"
    }
   ],
   "source": [
    "## listando de 0 a 100 com incremento de 2\n",
    "\n",
    "lista3 = []\n",
    "\n",
    "for i in range(0,100,2):\n",
    "    lista3.append(i)\n",
    "    \n",
    "lista3"
   ]
  },
  {
   "cell_type": "markdown",
   "id": "d64c69aa",
   "metadata": {},
   "source": [
    "## Loop For Aninhado"
   ]
  },
  {
   "cell_type": "code",
   "execution_count": 19,
   "id": "488b3656",
   "metadata": {
    "collapsed": true
   },
   "outputs": [
    {
     "data": {
      "text/plain": [
       "[25,\n",
       " 35,\n",
       " 45,\n",
       " 55,\n",
       " 60,\n",
       " 65,\n",
       " 75,\n",
       " 85,\n",
       " '----',\n",
       " 35,\n",
       " 45,\n",
       " 55,\n",
       " 65,\n",
       " 70,\n",
       " 75,\n",
       " 85,\n",
       " 95,\n",
       " '----',\n",
       " 45,\n",
       " 55,\n",
       " 65,\n",
       " 75,\n",
       " 80,\n",
       " 85,\n",
       " 95,\n",
       " 105,\n",
       " '----',\n",
       " 55,\n",
       " 65,\n",
       " 75,\n",
       " 85,\n",
       " 90,\n",
       " 95,\n",
       " 105,\n",
       " 115,\n",
       " '----',\n",
       " 65,\n",
       " 75,\n",
       " 85,\n",
       " 95,\n",
       " 100,\n",
       " 105,\n",
       " 115,\n",
       " 125,\n",
       " '----',\n",
       " 70,\n",
       " 80,\n",
       " 90,\n",
       " 100,\n",
       " 105,\n",
       " 110,\n",
       " 120,\n",
       " 130,\n",
       " '----',\n",
       " 75,\n",
       " 85,\n",
       " 95,\n",
       " 105,\n",
       " 110,\n",
       " 115,\n",
       " 125,\n",
       " 135,\n",
       " '----',\n",
       " 85,\n",
       " 95,\n",
       " 105,\n",
       " 115,\n",
       " 120,\n",
       " 125,\n",
       " 135,\n",
       " 145,\n",
       " '----']"
      ]
     },
     "execution_count": 19,
     "metadata": {},
     "output_type": "execute_result"
    }
   ],
   "source": [
    "listaUm = [10,20,30,40,50, 55, 60,70]\n",
    "listaDois = [15,25,35,45, 50, 55,65,75]\n",
    "somatorio = []\n",
    "\n",
    "#loop externo\n",
    "for element1 in listaUm:\n",
    "    \n",
    "    #loop intenro\n",
    "    for element2 in listaDois:\n",
    "        \n",
    "        somatorio.append(element1 + element2)\n",
    "        \n",
    "    somatorio.append('----')\n",
    "somatorio\n",
    "    "
   ]
  },
  {
   "cell_type": "code",
   "execution_count": 44,
   "id": "0f9df1aa",
   "metadata": {},
   "outputs": [
    {
     "name": "stdout",
     "output_type": "stream",
     "text": [
      "O valor 50 está presente na lista\n",
      "O indice na listaUm é 4\n",
      "O indice na listaDois é 4\n"
     ]
    }
   ],
   "source": [
    "# O número 50 aparece nas duas listas? onde?\n",
    "\n",
    "for i1 in listaUm:\n",
    "    \n",
    "    for i2 in listaDois:\n",
    "        if i1 == 50 and i2 == 50:\n",
    "            print(\"O valor 50 está presente na lista\")\n",
    "            print(\"O indice na listaUm é %s\" %(listaUm.index(i1)))\n",
    "            print(\"O indice na listaDois é %s\" %(listaDois.index(i2)))\n",
    "\n"
   ]
  },
  {
   "cell_type": "code",
   "execution_count": 47,
   "id": "e3b6a8be",
   "metadata": {},
   "outputs": [
    {
     "data": {
      "text/plain": [
       "170"
      ]
     },
     "execution_count": 47,
     "metadata": {},
     "output_type": "execute_result"
    }
   ],
   "source": [
    "#Soma de valores pares nas duas listas\n",
    "\n",
    "primeiraLista = [10,16,24,39,47]\n",
    "segundaLista = [32,89,47,76,12]\n",
    "soma = 0\n",
    "\n",
    "for lista in [primeiraLista, segundaLista]:\n",
    "    \n",
    "    for num in lista:\n",
    "        if num % 2 == 0:\n",
    "            soma += num\n",
    "\n",
    "soma"
   ]
  },
  {
   "cell_type": "code",
   "execution_count": 48,
   "id": "0286b6d5",
   "metadata": {},
   "outputs": [
    {
     "data": {
      "text/plain": [
       "170"
      ]
     },
     "execution_count": 48,
     "metadata": {},
     "output_type": "execute_result"
    }
   ],
   "source": [
    "#Outra forma de fazer a mesma coisa, porem com concatenação é:\n",
    "\n",
    "somatorio2 = 0\n",
    "for num in primeiraLista + segundaLista:\n",
    "    if num%2==0:\n",
    "        somatorio2 += num\n",
    "        \n",
    "somatorio2"
   ]
  },
  {
   "cell_type": "code",
   "execution_count": 49,
   "id": "1d5b0e42",
   "metadata": {},
   "outputs": [
    {
     "data": {
      "text/plain": [
       "215"
      ]
     },
     "execution_count": 49,
     "metadata": {},
     "output_type": "execute_result"
    }
   ],
   "source": [
    "# Loop em lista de listas (matrizes) para encontrar o maior número\n",
    "\n",
    "matriz = [[42,23,34], [100,215,114], [10.1,98.7,12.3]]\n",
    "maior_numero = 0\n",
    "\n",
    "for i in matriz:\n",
    "    for elemento in i:\n",
    "        if elemento > maior_numero:\n",
    "            maior_numero = elemento\n",
    "            \n",
    "maior_numero"
   ]
  },
  {
   "cell_type": "code",
   "execution_count": 50,
   "id": "cbc4b6e0",
   "metadata": {},
   "outputs": [
    {
     "name": "stdout",
     "output_type": "stream",
     "text": [
      "k1\n",
      "k2\n",
      "k3\n"
     ]
    }
   ],
   "source": [
    "# listando as chaves de um dicionario\n",
    "\n",
    "dict = {'k1':'Python', 'k2': 'R', 'k3':'Scala'}\n",
    "\n",
    "for item in dict:\n",
    "    print(item)"
   ]
  },
  {
   "cell_type": "code",
   "execution_count": 51,
   "id": "f4522d7e",
   "metadata": {},
   "outputs": [
    {
     "name": "stdout",
     "output_type": "stream",
     "text": [
      "k1 Python\n",
      "k2 R\n",
      "k3 Scala\n"
     ]
    }
   ],
   "source": [
    "#Imprimindo chave e valor \n",
    "\n",
    "for k,v in dict.items():\n",
    "    print(k,v)"
   ]
  },
  {
   "cell_type": "code",
   "execution_count": null,
   "id": "2c7a20e3",
   "metadata": {},
   "outputs": [],
   "source": []
  },
  {
   "cell_type": "markdown",
   "id": "db5a2037",
   "metadata": {},
   "source": [
    "# Loop WHILE"
   ]
  },
  {
   "cell_type": "code",
   "execution_count": 53,
   "id": "1d1b90b4",
   "metadata": {},
   "outputs": [
    {
     "name": "stdout",
     "output_type": "stream",
     "text": [
      "0\n",
      "1\n",
      "2\n",
      "3\n",
      "4\n",
      "5\n"
     ]
    }
   ],
   "source": [
    "valor = 0\n",
    "\n",
    "while valor<=5:\n",
    "    print(valor)\n",
    "    valor += 1"
   ]
  },
  {
   "cell_type": "code",
   "execution_count": 54,
   "id": "f5e5c122",
   "metadata": {},
   "outputs": [
    {
     "name": "stdout",
     "output_type": "stream",
     "text": [
      "O valor de x nesta iteração é:  0\n",
      "O valor de x nesta iteração é:  1\n",
      "O valor de x nesta iteração é:  2\n",
      "O valor de x nesta iteração é:  3\n",
      "O valor de x nesta iteração é:  4\n",
      "O valor de x nesta iteração é:  5\n",
      "O valor de x nesta iteração é:  6\n",
      "O valor de x nesta iteração é:  7\n",
      "O valor de x nesta iteração é:  8\n",
      "O valor de x nesta iteração é:  9\n",
      "Loop concluído\n",
      "10\n"
     ]
    }
   ],
   "source": [
    "x = 0 \n",
    "\n",
    "while x < 10:\n",
    "    print(\"O valor de x nesta iteração é: \", x)\n",
    "    x+=1\n",
    "else:\n",
    "    print('Loop concluído')\n",
    "    \n",
    "print(x) \n",
    "    "
   ]
  },
  {
   "cell_type": "markdown",
   "id": "f3190db3",
   "metadata": {},
   "source": [
    "## Pass - Break - Continue"
   ]
  },
  {
   "cell_type": "code",
   "execution_count": 57,
   "id": "49073ee4",
   "metadata": {},
   "outputs": [
    {
     "name": "stdout",
     "output_type": "stream",
     "text": [
      "0\n",
      "1\n",
      "2\n",
      "3\n"
     ]
    }
   ],
   "source": [
    "valor1 = 0\n",
    "\n",
    "while valor1 < 10:\n",
    "    if valor1 == 4:\n",
    "        break\n",
    "    else:\n",
    "        pass\n",
    "    print(valor1)\n",
    "    valor1+=1"
   ]
  },
  {
   "cell_type": "markdown",
   "id": "bfd2d960",
   "metadata": {},
   "source": [
    "#### FOR e While JUNTOS"
   ]
  },
  {
   "cell_type": "code",
   "execution_count": 58,
   "id": "6b0cb0bd",
   "metadata": {},
   "outputs": [
    {
     "data": {
      "text/plain": [
       "[2, 3, 5, 7, 11, 13, 17, 19, 23, 29]"
      ]
     },
     "execution_count": 58,
     "metadata": {},
     "output_type": "execute_result"
    }
   ],
   "source": [
    "#Coleção de números primos entre 0 e 30:\n",
    "\n",
    "primos = []\n",
    "\n",
    "for num in range(2,31):\n",
    "    \n",
    "    eh_primo = True\n",
    "    \n",
    "    i = 2\n",
    "    while i <= num // 2:\n",
    "        if num % i == 0:\n",
    "            eh_primo = False\n",
    "            break\n",
    "            \n",
    "        i += 1\n",
    "        \n",
    "        \n",
    "    if eh_primo:\n",
    "        primos.append(num)\n",
    "    \n",
    "primos"
   ]
  },
  {
   "cell_type": "code",
   "execution_count": null,
   "id": "876c45c1",
   "metadata": {},
   "outputs": [],
   "source": []
  }
 ],
 "metadata": {
  "kernelspec": {
   "display_name": "Python 3 (ipykernel)",
   "language": "python",
   "name": "python3"
  },
  "language_info": {
   "codemirror_mode": {
    "name": "ipython",
    "version": 3
   },
   "file_extension": ".py",
   "mimetype": "text/x-python",
   "name": "python",
   "nbconvert_exporter": "python",
   "pygments_lexer": "ipython3",
   "version": "3.9.13"
  }
 },
 "nbformat": 4,
 "nbformat_minor": 5
}
