{
 "cells": [
  {
   "cell_type": "markdown",
   "id": "0e62efd9",
   "metadata": {},
   "source": [
    "# FUNÇÕES"
   ]
  },
  {
   "cell_type": "code",
   "execution_count": 5,
   "id": "05bfdea6",
   "metadata": {},
   "outputs": [
    {
     "name": "stdout",
     "output_type": "stream",
     "text": [
      "Olá, Alysson! Seja bem vindo ao servidor\n"
     ]
    }
   ],
   "source": [
    "def primeiraFunc(nome):\n",
    "    print(\"Olá, %s! Seja bem vindo ao servidor\" %nome)\n",
    "\n",
    "primeiraFunc('Alysson')"
   ]
  },
  {
   "cell_type": "code",
   "execution_count": 13,
   "id": "7f5b557d",
   "metadata": {},
   "outputs": [],
   "source": [
    "#Imprimir números pares\n",
    "\n",
    "def pares(lista):\n",
    "    numeros_pares = []\n",
    "    \n",
    "    for i in lista:\n",
    "        if i%2==0:\n",
    "            numeros_pares.append(i)\n",
    "    return \"Os números pares são: %s\" %numeros_pares"
   ]
  },
  {
   "cell_type": "code",
   "execution_count": 14,
   "id": "06fdb123",
   "metadata": {},
   "outputs": [
    {
     "name": "stdout",
     "output_type": "stream",
     "text": [
      "Os números pares são: [2, 4, 6, 8, 10]\n",
      "Os números pares são: [88, 44, 66, 22]\n"
     ]
    }
   ],
   "source": [
    "teste1 = [1,2,3,4,5,6,7,8,9,10,11]\n",
    "teste2 = [88,99,77,44,55,66,33,22,11]\n",
    "\n",
    "print(pares(teste1))\n",
    "print(pares(teste2))"
   ]
  },
  {
   "cell_type": "code",
   "execution_count": null,
   "id": "6b2c742f",
   "metadata": {},
   "outputs": [],
   "source": []
  },
  {
   "cell_type": "code",
   "execution_count": 15,
   "id": "295ea1ac",
   "metadata": {},
   "outputs": [],
   "source": [
    "## Funções com número variável de argumentos\n",
    "\n",
    "def printVar(arg1, *vartuple):\n",
    "    print (\"O argumento passado foi: \", arg1)\n",
    "    \n",
    "    for item in vartuple:\n",
    "        print(\"O parâmetro passado foi: \", item)\n",
    "    return;\n",
    "\n"
   ]
  },
  {
   "cell_type": "code",
   "execution_count": 17,
   "id": "9e354c9c",
   "metadata": {},
   "outputs": [
    {
     "name": "stdout",
     "output_type": "stream",
     "text": [
      "O argumento passado foi:  Banana\n",
      "O parâmetro passado foi:  Arroz\n",
      "O parâmetro passado foi:  Carne\n",
      "O parâmetro passado foi:  25\n"
     ]
    }
   ],
   "source": [
    "printVar(\"Banana\", \"Arroz\", \"Carne\", 25)"
   ]
  },
  {
   "cell_type": "markdown",
   "id": "451386fb",
   "metadata": {},
   "source": [
    "## ESCOPO DE VARIÁVEL LOCAL E GLOBAL"
   ]
  },
  {
   "cell_type": "code",
   "execution_count": 21,
   "id": "cac4e694",
   "metadata": {},
   "outputs": [],
   "source": [
    "var_global = 10 #variavel global\n",
    "\n",
    "def multiplica(x,y):\n",
    "    var_global = x*y #variavel LOCAL\n",
    "    return var_global"
   ]
  },
  {
   "cell_type": "code",
   "execution_count": 22,
   "id": "77a177f1",
   "metadata": {},
   "outputs": [
    {
     "data": {
      "text/plain": [
       "10"
      ]
     },
     "execution_count": 22,
     "metadata": {},
     "output_type": "execute_result"
    }
   ],
   "source": [
    "var_global"
   ]
  },
  {
   "cell_type": "code",
   "execution_count": 23,
   "id": "c2cb9bc1",
   "metadata": {},
   "outputs": [
    {
     "data": {
      "text/plain": [
       "160"
      ]
     },
     "execution_count": 23,
     "metadata": {},
     "output_type": "execute_result"
    }
   ],
   "source": [
    "multiplica(2,80)"
   ]
  },
  {
   "cell_type": "markdown",
   "id": "5023eea6",
   "metadata": {},
   "source": [
    "## FUNÇÕES Built-in"
   ]
  },
  {
   "cell_type": "code",
   "execution_count": 24,
   "id": "63fc9755",
   "metadata": {},
   "outputs": [
    {
     "data": {
      "text/plain": [
       "56"
      ]
     },
     "execution_count": 24,
     "metadata": {},
     "output_type": "execute_result"
    }
   ],
   "source": [
    "abs(-56)"
   ]
  },
  {
   "cell_type": "code",
   "execution_count": 25,
   "id": "78fed6d2",
   "metadata": {},
   "outputs": [
    {
     "data": {
      "text/plain": [
       "False"
      ]
     },
     "execution_count": 25,
     "metadata": {},
     "output_type": "execute_result"
    }
   ],
   "source": [
    "bool(0)"
   ]
  },
  {
   "cell_type": "code",
   "execution_count": 26,
   "id": "f5dcdeae",
   "metadata": {},
   "outputs": [
    {
     "data": {
      "text/plain": [
       "4"
      ]
     },
     "execution_count": 26,
     "metadata": {},
     "output_type": "execute_result"
    }
   ],
   "source": [
    "int(4.3)"
   ]
  },
  {
   "cell_type": "code",
   "execution_count": 27,
   "id": "88d0cedb",
   "metadata": {},
   "outputs": [
    {
     "data": {
      "text/plain": [
       "'13'"
      ]
     },
     "execution_count": 27,
     "metadata": {},
     "output_type": "execute_result"
    }
   ],
   "source": [
    "str(13)"
   ]
  },
  {
   "cell_type": "code",
   "execution_count": null,
   "id": "0e00e738",
   "metadata": {},
   "outputs": [],
   "source": []
  }
 ],
 "metadata": {
  "kernelspec": {
   "display_name": "Python 3 (ipykernel)",
   "language": "python",
   "name": "python3"
  },
  "language_info": {
   "codemirror_mode": {
    "name": "ipython",
    "version": 3
   },
   "file_extension": ".py",
   "mimetype": "text/x-python",
   "name": "python",
   "nbconvert_exporter": "python",
   "pygments_lexer": "ipython3",
   "version": "3.9.13"
  }
 },
 "nbformat": 4,
 "nbformat_minor": 5
}
