{
 "cells": [
  {
   "cell_type": "markdown",
   "id": "32d4e52d",
   "metadata": {},
   "source": [
    "##### Exercício 1 - Crie uma função que imprima a sequência de números pares entre 1 e 20 (a função não recebe parâmetro) e depois faça uma chamada à função para listar os números"
   ]
  },
  {
   "cell_type": "code",
   "execution_count": 1,
   "id": "f8b36266",
   "metadata": {},
   "outputs": [
    {
     "name": "stdout",
     "output_type": "stream",
     "text": [
      "0\n",
      "1\n",
      "2\n",
      "3\n",
      "4\n",
      "5\n",
      "6\n",
      "7\n",
      "8\n",
      "9\n",
      "10\n",
      "11\n",
      "12\n",
      "13\n",
      "14\n",
      "15\n",
      "16\n",
      "17\n",
      "18\n",
      "19\n",
      "20\n"
     ]
    }
   ],
   "source": [
    "def pares():\n",
    "    count = 0;\n",
    "    while count <= 20:\n",
    "        print(count)\n",
    "        count += 1\n",
    "        \n",
    "pares()"
   ]
  },
  {
   "cell_type": "markdown",
   "id": "62d0ffb7",
   "metadata": {},
   "source": [
    "##### Exercício 2 - Crie uam função que receba uma string como argumento e retorne a mesma string em letras maiúsculas.Faça uma chamada à função, passando como parâmetro uma string"
   ]
  },
  {
   "cell_type": "code",
   "execution_count": 4,
   "id": "5ef7467a",
   "metadata": {},
   "outputs": [
    {
     "data": {
      "text/plain": [
       "'AMOR É ASSIM MESMO'"
      ]
     },
     "execution_count": 4,
     "metadata": {},
     "output_type": "execute_result"
    }
   ],
   "source": [
    "def maiuscula(s):\n",
    "    return s.upper()\n",
    "\n",
    "maiuscula(\"Amor é assim mesmo\")"
   ]
  },
  {
   "cell_type": "markdown",
   "id": "b952b077",
   "metadata": {},
   "source": [
    "##### xercício 3 - Crie uma função que receba como parâmetro uma lista de 4 elementos, adicione 2 elementos a lista e imprima a lista"
   ]
  },
  {
   "cell_type": "code",
   "execution_count": 1,
   "id": "cbeeb5b8",
   "metadata": {},
   "outputs": [
    {
     "name": "stdout",
     "output_type": "stream",
     "text": [
      "[12, 56, 89, 80]\n"
     ]
    },
    {
     "data": {
      "text/plain": [
       "[12, 56, 89, 80, 'novo elemento', 'novo elemento']"
      ]
     },
     "execution_count": 1,
     "metadata": {},
     "output_type": "execute_result"
    }
   ],
   "source": [
    "lista3 = [12,56,89,80]\n",
    "\n",
    "print(lista3)\n",
    "\n",
    "def adicionaEl(array):\n",
    "    for i in range(2):\n",
    "        lista3.append(\"novo elemento\")\n",
    "    \n",
    "    return lista3\n",
    "\n",
    "\n",
    "adicionaEl(lista3)\n",
    "    "
   ]
  },
  {
   "cell_type": "markdown",
   "id": "a213d681",
   "metadata": {},
   "source": [
    "##### Exercício 4 - Crie uma função que receba um argumento formal e uma possível lista de elementos. Faça duas chamadas à função, com apenas 1 elemento e na segunda chamada com 4 elementos"
   ]
  },
  {
   "cell_type": "code",
   "execution_count": null,
   "id": "daa7427b",
   "metadata": {},
   "outputs": [],
   "source": []
  },
  {
   "cell_type": "markdown",
   "id": "2dfcc307",
   "metadata": {},
   "source": [
    "##### Exercício 5 - Crie uma função anônima e atribua seu retorno a uma variável chamada soma. A expressão vai receber 2 números como parâmetro e retornar a soma deles"
   ]
  },
  {
   "cell_type": "code",
   "execution_count": 4,
   "id": "08e492bd",
   "metadata": {},
   "outputs": [
    {
     "name": "stdout",
     "output_type": "stream",
     "text": [
      "6\n",
      "88\n",
      "9\n",
      "79\n"
     ]
    }
   ],
   "source": [
    "somaLambda = lambda x,y: x+y\n",
    "\n",
    "print(somaLambda(2,4))\n",
    "print(somaLambda(8,80))\n",
    "print(somaLambda(2,7))\n",
    "print(somaLambda(5,74))"
   ]
  },
  {
   "cell_type": "markdown",
   "id": "9d6f835f",
   "metadata": {},
   "source": [
    "##### Exercício 6 - Execute o código abaixo e certifique-se que compreende a diferença entre variável global e local\n",
    "total = 0\n",
    "def soma( arg1, arg2 ):\n",
    "    total = arg1 + arg2; \n",
    "    print (\"Dentro da função o total é: \", total)\n",
    "    return total;\n",
    "\n",
    "\n",
    "soma( 10, 20 );\n",
    "print (\"Fora da função o total é: \", total)"
   ]
  },
  {
   "cell_type": "code",
   "execution_count": 5,
   "id": "c191206d",
   "metadata": {},
   "outputs": [
    {
     "name": "stdout",
     "output_type": "stream",
     "text": [
      "Dentro da função o total é:  30\n",
      "Fora da função o total é:  0\n"
     ]
    }
   ],
   "source": [
    "total = 0\n",
    "def soma( arg1, arg2 ):\n",
    "    total = arg1 + arg2; \n",
    "    print (\"Dentro da função o total é: \", total)\n",
    "    return total;\n",
    "\n",
    "\n",
    "soma( 10, 20 );\n",
    "print (\"Fora da função o total é: \", total)"
   ]
  },
  {
   "cell_type": "markdown",
   "id": "8699a207",
   "metadata": {},
   "source": [
    "##### Exercício 7 - Abaixo você encontra uma lista com temperaturas em graus Celsius. Crie uma função anônima que converta cada temperatura para Fahrenheit Dica: para conseguir realizar este exercício, você deve criar sua função lambda, dentro de uma função ,(que será estudada no próximo capítulo). Isso permite aplicar sua função a cada elemento da lista,Como descobrir a fórmula matemática que converte de Celsius para Fahrenheit? Pesquise!!!\n",
    "Celsius = [39.2, 36.5, 37.3, 37.8]\n",
    "Fahrenheit = map(coloque_aqui_sua_função_lambda)\n",
    "print (list(Fahrenheit))"
   ]
  },
  {
   "cell_type": "code",
   "execution_count": 14,
   "id": "938c9820",
   "metadata": {},
   "outputs": [
    {
     "name": "stdout",
     "output_type": "stream",
     "text": [
      "[102.56, 97.7, 99.14, 100.03999999999999]\n"
     ]
    }
   ],
   "source": [
    "Celsius = [39.2, 36.5, 37.3, 37.8]\n",
    "\n",
    "## APLICANDO MAP()\n",
    "\n",
    "def converteTemperatura(celsius):\n",
    "    return (celsius*1.8) + 32\n",
    "\n",
    "Fahrenheit = map(converteTemperatura, Celsius)\n",
    "print (list(Fahrenheit))"
   ]
  },
  {
   "cell_type": "markdown",
   "id": "18e8a022",
   "metadata": {},
   "source": [
    "##### Exercício 8 - Crie uma list comprehension que imprima o quadrado dos números de 1 a 10"
   ]
  },
  {
   "cell_type": "code",
   "execution_count": 16,
   "id": "6198498f",
   "metadata": {},
   "outputs": [
    {
     "name": "stdout",
     "output_type": "stream",
     "text": [
      "[1, 4, 9, 16, 25, 36, 49, 64, 81, 100]\n"
     ]
    }
   ],
   "source": [
    "quadradoNumeros = [x**2 for x in range(1,11)]\n",
    "\n",
    "print(quadradoNumeros)"
   ]
  },
  {
   "cell_type": "markdown",
   "id": "234e8132",
   "metadata": {},
   "source": [
    "##### Exercício 9 - Crie uma list comprehension que imprima as palavras com a letra a no nome"
   ]
  },
  {
   "cell_type": "code",
   "execution_count": 19,
   "id": "9e7a31ea",
   "metadata": {},
   "outputs": [
    {
     "name": "stdout",
     "output_type": "stream",
     "text": [
      "['maça', 'banana']\n"
     ]
    }
   ],
   "source": [
    "palavras = [\"maça\", \"coiote\", \"banana\", \"terreno\", \"Python\"]\n",
    "\n",
    "contemLetraA = [x for x in palavras if \"a\" in x]\n",
    "\n",
    "print(contemLetraA)\n"
   ]
  },
  {
   "cell_type": "markdown",
   "id": "26bd628d",
   "metadata": {},
   "source": [
    "##### Exercício 10 - Crie uma list comprehension que imprima os números menores que 5 em um intervalo de 1 a 10"
   ]
  },
  {
   "cell_type": "code",
   "execution_count": 20,
   "id": "4a18f99d",
   "metadata": {},
   "outputs": [
    {
     "name": "stdout",
     "output_type": "stream",
     "text": [
      "[1, 2, 3, 4]\n"
     ]
    }
   ],
   "source": [
    "menorQue5 = [x for x in range(1,11) if x<5]\n",
    "\n",
    "print(menorQue5)"
   ]
  },
  {
   "cell_type": "code",
   "execution_count": null,
   "id": "620e1c39",
   "metadata": {},
   "outputs": [],
   "source": []
  }
 ],
 "metadata": {
  "kernelspec": {
   "display_name": "Python 3 (ipykernel)",
   "language": "python",
   "name": "python3"
  },
  "language_info": {
   "codemirror_mode": {
    "name": "ipython",
    "version": 3
   },
   "file_extension": ".py",
   "mimetype": "text/x-python",
   "name": "python",
   "nbconvert_exporter": "python",
   "pygments_lexer": "ipython3",
   "version": "3.9.13"
  }
 },
 "nbformat": 4,
 "nbformat_minor": 5
}
